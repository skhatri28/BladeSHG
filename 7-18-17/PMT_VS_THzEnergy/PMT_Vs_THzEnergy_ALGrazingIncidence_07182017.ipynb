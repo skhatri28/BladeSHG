{
 "cells": [
  {
   "cell_type": "code",
   "execution_count": 2,
   "metadata": {
    "collapsed": true
   },
   "outputs": [],
   "source": [
    "import matplotlib.pyplot as plt\n",
    "import numpy as np\n",
    "import pandas as pd\n",
    "from pandas import Series, DataFrame\n",
    "import glob\n",
    "import os\n",
    "from math import log"
   ]
  },
  {
   "cell_type": "code",
   "execution_count": 3,
   "metadata": {
    "collapsed": false
   },
   "outputs": [
    {
     "name": "stdout",
     "output_type": "stream",
     "text": [
      "['PMT1_Signal_280Deg_07182017.txt', 'PMT1_Background_280Deg_07182017.txt', 'PMT1_Background_275Deg_07182017.txt', 'PMT1_Signal_275Deg_07182017.txt', 'PMT1_Signal_270Deg_07182017.txt', 'PMT1_Background_270Deg_07182017.txt', 'PMT1_Background_265Deg_07182017.txt', 'PMT1_Signal_265Deg_07182017.txt', 'PMT1_Signal_260Deg_07182017.txt', 'PMT1_Background_260Deg_07182017.txt', 'PMT2_Signal_280Deg_07182017.txt', 'PMT2_Background_280Deg_07182017.txt', 'PMT2_Background_275Deg_07182017.txt', 'PMT2_Signal_275Deg_07182017.txt', 'PMT2_Signal_270Deg_07182017.txt', 'PMT2_Background_270Deg_07182017.txt', 'PMT2_Background_265Deg_07182017.txt', 'PMT2_Signal_265Deg_07182017.txt', 'PMT2_Signal_260Deg_07182017.txt', 'PMT2_Background_260Deg_07182017.txt', 'PMT3_Signal_280Deg_07182017.txt', 'PMT3_Background_280Deg_07182017.txt', 'PMT3_Background_275Deg_07182017.txt', 'PMT3_Signal_275Deg_07182017.txt', 'PMT3_Signal_270Deg_07182017.txt', 'PMT3_Background_270Deg_07182017.txt', 'PMT3_Background_265Deg_07182017.txt', 'PMT3_Signal_265Deg_07182017.txt', 'PMT3_Signal_260Deg_07182017.txt', 'PMT3_Background_260Deg_07182017.txt', 'PMT4_Signal_280Deg_07182017.txt', 'PMT4_Background_280Deg_07182017.txt', 'PMT4_Background_275Deg_07182017.txt', 'PMT4_Signal_275Deg_07182017.txt', 'PMT4_Signal_270Deg_07182017.txt', 'PMT4_Background_270Deg_07182017.txt', 'PMT4_Background_265Deg_07182017.txt', 'PMT4_Signal_265Deg_07182017.txt', 'PMT4_Signal_260Deg_07182017.txt', 'PMT4_Background_260Deg_07182017.txt', 'PMT5_Signal_280Deg_07182017.txt', 'PMT5_Background_280Deg_07182017.txt', 'PMT5_Background_275Deg_07182017.txt', 'PMT5_Signal_275Deg_07182017.txt', 'PMT5_Signal_270Deg_07182017.txt', 'PMT5_Background_270Deg_07182017.txt', 'PMT5_Background_265Deg_07182017.txt', 'PMT5_Signal_265Deg_07182017.txt', 'PMT5_Signal_260Deg_07182017.txt', 'PMT5_Background_260Deg_07182017.txt']\n"
     ]
    }
   ],
   "source": [
    "allFiles = sorted(glob.glob(\"*.txt\"),key=os.path.getmtime) # includes all files into a single stucture,\n",
    "# Sorted by modification time so that the first measurement is first...\n",
    "print(allFiles)"
   ]
  },
  {
   "cell_type": "code",
   "execution_count": 4,
   "metadata": {
    "collapsed": true
   },
   "outputs": [],
   "source": [
    "frame = pd.DataFrame()\n",
    "df = pd.DataFrame()"
   ]
  },
  {
   "cell_type": "code",
   "execution_count": 5,
   "metadata": {
    "collapsed": false
   },
   "outputs": [
    {
     "name": "stderr",
     "output_type": "stream",
     "text": [
      "/Users/sanjaykhatri/anaconda/lib/python3.5/site-packages/ipykernel/__main__.py:7: ParserWarning: Falling back to the 'python' engine because the 'c' engine does not support skip_footer; you can avoid this warning by specifying engine='python'.\n"
     ]
    }
   ],
   "source": [
    "for i,file_ in enumerate(allFiles):\n",
    "#    f = open(file_,'r')\n",
    "#     for j,line in enumerate(f):\n",
    "#         if j == 1:\n",
    "#             date = line[14:22]\n",
    "#             break\n",
    "    df = pd.read_csv(file_,index_col = None, header=None, skiprows = 10, skipfooter = 1, delimiter = '\\t')\n",
    "#     frame[file_] = df[5]\n",
    "    df['file']=file_\n",
    "    df['timeDelay']= df[1]\n",
    "    df['PDvalue'] = df[3]\n",
    "#     df['date']=date\n",
    "    if i < 1:\n",
    "        frame = df\n",
    "    else:\n",
    "        frame = frame.append(df)"
   ]
  },
  {
   "cell_type": "code",
   "execution_count": 6,
   "metadata": {
    "collapsed": true
   },
   "outputs": [],
   "source": [
    "c = 3*10**11; #Speed of Light in mm/s, Going to use this to convert spatial information to time. \n",
    "T1 = (718*0.000125 + 0.0229)*2*25.4/(10**-12*c)\n",
    "def ConvertToTimeDelay(x,itr,offset):\n",
    "    c = 3*10**11\n",
    "    timeDelay = []\n",
    "    for i in range(0,len(x)):\n",
    "        timedelay = -((x[i,0]*itr + offset)*25.4*2/(10**-12*c))+T1\n",
    "        timeDelay.append(timedelay)\n",
    "    return(timeDelay)"
   ]
  },
  {
   "cell_type": "code",
   "execution_count": 44,
   "metadata": {
    "collapsed": false
   },
   "outputs": [
    {
     "name": "stdout",
     "output_type": "stream",
     "text": [
      "[-0.584493 -0.572971 -0.553112 -0.540971 -0.537347 -0.581132 -0.563784\n",
      " -0.554387 -0.53734  -0.521525 -0.558071 -0.555454 -0.528772 -0.529063\n",
      " -0.513753 -0.566071 -0.555339 -0.540926 -0.523762 -0.510089 -0.549653\n",
      " -0.539662 -0.521926 -0.5      -0.506126]\n",
      "[-0.727476 -0.697391 -0.651952 -0.591425 -0.560134 -0.692385 -0.674309\n",
      " -0.632946 -0.587493 -0.550378 -0.678621 -0.653515 -0.617961 -0.578622\n",
      " -0.548524 -0.673358 -0.647572 -0.613199 -0.566748 -0.536065 -0.66146\n",
      " -0.633442 -0.599327 -0.560694 -0.527376]\n",
      "[[-0.142983 -0.12442  -0.09884  -0.050454 -0.022787]\n",
      " [-0.111253 -0.110525 -0.078559 -0.050153 -0.028853]\n",
      " [-0.12055  -0.098061 -0.089189 -0.049559 -0.034771]\n",
      " [-0.107287 -0.092233 -0.072273 -0.042986 -0.025976]\n",
      " [-0.111807 -0.09378  -0.077401 -0.060694 -0.02125 ]]\n",
      "[-0.118776  -0.1038038 -0.0832524 -0.0507692 -0.0267274]\n",
      "[-0.9252713  -0.98378675 -1.07960324 -1.29439968 -1.57304329]\n"
     ]
    }
   ],
   "source": [
    "times = pd.Series()\n",
    "PDvalues = pd.Series()\n",
    "AvgPD50 = pd.Series()\n",
    "itr = 0.000125\n",
    "offset = 0.023\n",
    "for i in range(0,100):\n",
    "    time = frame[1][i]\n",
    "    PDvalue = frame[3][i]\n",
    "    times = times.append(time)\n",
    "    PDvalues = PDvalues.append(PDvalue)\n",
    "#print(len(PDvalues))\n",
    "PDvalues = PDvalues.values.reshape(100,len(allFiles))\n",
    "Background = np.array([PDvalues[:,1],PDvalues[:,2],PDvalues[:,5],PDvalues[:,6],PDvalues[:,9],\\\n",
    "                       PDvalues[:,11],PDvalues[:,12],PDvalues[:,15],PDvalues[:,16],PDvalues[:,19],\\\n",
    "                       PDvalues[:,21],PDvalues[:,22],PDvalues[:,25],PDvalues[:,26],PDvalues[:,29],\\\n",
    "                       PDvalues[:,31],PDvalues[:,32],PDvalues[:,35],PDvalues[:,36],PDvalues[:,39],\\\n",
    "                       PDvalues[:,41],PDvalues[:,42],PDvalues[:,45],PDvalues[:,46],PDvalues[:,49]])\n",
    "Background_mean = np.mean(Background, axis = 1)\n",
    "PMT_Raw = np.array([PDvalues[:,0],PDvalues[:,3],PDvalues[:,4],PDvalues[:,7],PDvalues[:,8],\\\n",
    "                    PDvalues[:,10],PDvalues[:,13],PDvalues[:,14],PDvalues[:,17],PDvalues[:,18],\\\n",
    "                    PDvalues[:,20],PDvalues[:,23],PDvalues[:,24],PDvalues[:,27],PDvalues[:,28],\\\n",
    "                    PDvalues[:,30],PDvalues[:,33],PDvalues[:,34],PDvalues[:,37],PDvalues[:,38],\\\n",
    "                    PDvalues[:,40],PDvalues[:,43],PDvalues[:,44],PDvalues[:,47],PDvalues[:,48]])\n",
    "MeanPMT1 = np.mean(PMT_Raw,axis = 1)\n",
    "\n",
    "PMT_Net = MeanPMT1 - Background_mean\n",
    "MeanNET = np.reshape(PMT_Net,(5,5)) # As you add more files, change the 4 to the number of runs. 7 is b/c I took 7 different angles\n",
    "MeanNET2 = np.mean(MeanNET,axis =0)\n",
    "THzEnergy = np.array([6.5,5.75,4.5,3.5,2.5])\n",
    "PMT_STD = np.std(MeanNET,axis = 0)\n",
    "PMT_Err = PMT_STD/(4**0.5)\n",
    "w = (PMT_Err/(MeanNET2*log(10)))**-2\n",
    "\n",
    "print(Background_mean)\n",
    "print(MeanPMT1)\n",
    "print(MeanNET)\n",
    "#print(PMT_)\n",
    "print(MeanNET2)\n",
    "LogPMT = np.log10(np.absolute(MeanNET2))\n",
    "LogTHz = np.log10(np.absolute(THzEnergy))\n",
    "print(LogPMT)"
   ]
  },
  {
   "cell_type": "code",
   "execution_count": 45,
   "metadata": {
    "collapsed": false
   },
   "outputs": [
    {
     "name": "stdout",
     "output_type": "stream",
     "text": [
      "[ 1810.45866398  1549.17736473  1615.15531632  1697.35531609   656.90759442]\n",
      "-2.10781603008\n",
      "1.48816546249\n",
      "0.0607069278779\n",
      "0.0893131824604\n"
     ]
    }
   ],
   "source": [
    "Delta = sum(w)*sum(w*LogTHz**2) - (sum(w*LogTHz))**2\n",
    "A = (sum(w*LogTHz**2)*sum(w*LogPMT) - sum(w*LogTHz)*sum(w*LogTHz*LogPMT))/Delta\n",
    "B = (sum(w)*sum(w*LogTHz*LogPMT) - (sum(w*LogPMT)*sum(w*LogTHz)))/Delta\n",
    "# Least Squares Fitting Parameters above\n",
    "print(w)\n",
    "print(A)\n",
    "print(B)\n",
    "err = (((len(LogPMT)-2)**-1) * sum((LogPMT - A -B*LogTHz)**2)**0.5)\n",
    "errorA = (sum(w*LogTHz**2)/Delta)**0.5\n",
    "errorB = (sum(w)/Delta)**0.5\n",
    "print(errorA)\n",
    "print(errorB)"
   ]
  },
  {
   "cell_type": "code",
   "execution_count": 35,
   "metadata": {
    "collapsed": true
   },
   "outputs": [],
   "source": [
    "plt.plot(LogTHz, A + B*LogTHz,'r',label = 'Fit: y=1.49x -2.11')\n",
    "plt.plot(LogTHz, LogPMT,'b.', label = 'Data')\n",
    "plt.grid(True)\n",
    "plt.xlabel('Log(Laser Power)')\n",
    "plt.ylabel('Log(PMT Signal)')\n",
    "plt.legend(loc = 'upper left')\n",
    "plt.show()\n",
    "#plt.savefig('LogPMT_Vs_LogTHz_07182017.png')"
   ]
  },
  {
   "cell_type": "code",
   "execution_count": null,
   "metadata": {
    "collapsed": true
   },
   "outputs": [],
   "source": []
  }
 ],
 "metadata": {
  "kernelspec": {
   "display_name": "Python 3",
   "language": "python",
   "name": "python3"
  },
  "language_info": {
   "codemirror_mode": {
    "name": "ipython",
    "version": 3
   },
   "file_extension": ".py",
   "mimetype": "text/x-python",
   "name": "python",
   "nbconvert_exporter": "python",
   "pygments_lexer": "ipython3",
   "version": "3.5.1"
  }
 },
 "nbformat": 4,
 "nbformat_minor": 0
}
