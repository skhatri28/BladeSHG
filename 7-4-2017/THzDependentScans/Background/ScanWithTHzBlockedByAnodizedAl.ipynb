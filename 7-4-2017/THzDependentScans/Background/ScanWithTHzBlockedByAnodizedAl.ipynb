{
 "cells": [
  {
   "cell_type": "code",
   "execution_count": 1,
   "metadata": {
    "collapsed": true
   },
   "outputs": [],
   "source": [
    "import matplotlib.pyplot as plt\n",
    "import numpy as np\n",
    "import pandas as pd\n",
    "from pandas import Series, DataFrame\n",
    "import glob\n",
    "import os"
   ]
  },
  {
   "cell_type": "code",
   "execution_count": 2,
   "metadata": {
    "collapsed": false
   },
   "outputs": [
    {
     "name": "stdout",
     "output_type": "stream",
     "text": [
      "['SHGBackGround_AnodizedAl_07042017.txt']\n"
     ]
    }
   ],
   "source": [
    "allFiles = sorted(glob.glob(\"*.txt\"),key=os.path.getmtime) # includes all files into a single stucture,\n",
    "# Sorted by modification time so that the first measurement is first...\n",
    "print(allFiles)"
   ]
  },
  {
   "cell_type": "code",
   "execution_count": 3,
   "metadata": {
    "collapsed": true
   },
   "outputs": [],
   "source": [
    "frame = pd.DataFrame()\n",
    "df = pd.DataFrame()"
   ]
  },
  {
   "cell_type": "code",
   "execution_count": 4,
   "metadata": {
    "collapsed": false
   },
   "outputs": [
    {
     "name": "stdout",
     "output_type": "stream",
     "text": [
      "0     -0.2337\n",
      "1     -0.2285\n",
      "2     -0.2244\n",
      "3     -0.2200\n",
      "4     -0.2179\n",
      "5     -0.2173\n",
      "6     -0.2150\n",
      "7     -0.2112\n",
      "8     -0.2100\n",
      "9     -0.2100\n",
      "10    -0.2100\n",
      "11    -0.2073\n",
      "12    -0.2070\n",
      "13    -0.2060\n",
      "14    -0.1930\n",
      "15    -0.1438\n",
      "16    -0.1362\n",
      "17    -0.1554\n",
      "18    -0.1700\n",
      "19    -0.1825\n",
      "20    -0.1902\n",
      "21    -0.1973\n",
      "22    -0.2044\n",
      "23    -0.2106\n",
      "24    -0.2140\n",
      "25    -0.2154\n",
      "26    -0.2156\n",
      "27    -0.2177\n",
      "28    -0.2182\n",
      "29    -0.2200\n",
      "        ...  \n",
      "870   -0.2197\n",
      "871   -0.2182\n",
      "872   -0.2170\n",
      "873   -0.2168\n",
      "874   -0.2158\n",
      "875   -0.2202\n",
      "876   -0.2214\n",
      "877   -0.2173\n",
      "878   -0.2170\n",
      "879   -0.2128\n",
      "880   -0.2123\n",
      "881   -0.2123\n",
      "882   -0.2150\n",
      "883   -0.2152\n",
      "884   -0.2160\n",
      "885   -0.2170\n",
      "886   -0.2170\n",
      "887   -0.2170\n",
      "888   -0.2173\n",
      "889   -0.2166\n",
      "890   -0.2154\n",
      "891   -0.2166\n",
      "892   -0.2168\n",
      "893   -0.2170\n",
      "894   -0.2170\n",
      "895   -0.2164\n",
      "896   -0.2147\n",
      "897   -0.2123\n",
      "898   -0.2112\n",
      "899   -0.2147\n",
      "Name: 3, dtype: float64\n"
     ]
    },
    {
     "name": "stderr",
     "output_type": "stream",
     "text": [
      "/Users/sanjaykhatri/anaconda/lib/python3.5/site-packages/ipykernel/__main__.py:7: ParserWarning: Falling back to the 'python' engine because the 'c' engine does not support skip_footer; you can avoid this warning by specifying engine='python'.\n"
     ]
    }
   ],
   "source": [
    "for i,file_ in enumerate(allFiles):\n",
    "#    f = open(file_,'r')\n",
    "#     for j,line in enumerate(f):\n",
    "#         if j == 1:\n",
    "#             date = line[14:22]\n",
    "#             break\n",
    "    df = pd.read_csv(file_,index_col = None, header=None, skiprows = 10, skipfooter = 1, delimiter = '\\t')\n",
    "#     frame[file_] = df[5]\n",
    "    df['file']=file_\n",
    "    df['timeDelay']= df[1]\n",
    "    df['PDvalue'] = df[3]\n",
    "#     df['date']=date\n",
    "    if i < 1:\n",
    "        frame = df\n",
    "    else:\n",
    "        frame = frame.append(df)\n",
    "print(df[3])"
   ]
  },
  {
   "cell_type": "code",
   "execution_count": 6,
   "metadata": {
    "collapsed": false
   },
   "outputs": [],
   "source": [
    "c = 3*10**11; #Speed of Light in mm/s, Going to use this to convert spatial information to time. \n",
    "T1 = (718*0.000125 + 0.0229)*2*25.4/(10**-12*c)\n",
    "def ConvertToTimeDelay(x,itr,offset):\n",
    "    c = 3*10**11\n",
    "    timeDelay = []\n",
    "    for i in range(0,len(x)):\n",
    "        timedelay = -((x[i]*itr + offset)*25.4*2/(10**-12*c))+T1\n",
    "        timeDelay.append(timedelay)\n",
    "    return(timeDelay)"
   ]
  },
  {
   "cell_type": "code",
   "execution_count": 7,
   "metadata": {
    "collapsed": false
   },
   "outputs": [],
   "source": [
    "times = df[1]\n",
    "PDvalues = df[3]\n",
    "AvgPD50 = pd.Series()\n",
    "itr = 0.000125\n",
    "offset = 0.023\n",
    "#for i in range(0,900):\n",
    "#    time = frame[1][i]\n",
    "#    PDvalue = frame[3][i]\n",
    "#    times = times.append(time)\n",
    "#    PDvalues = PDvalues.append(PDvalue)\n",
    "#print(len(PDvalues))\n",
    "    \n",
    "times = times.values.reshape(900,len(allFiles))\n",
    "PDvalues = PDvalues.values.reshape(900,len(allFiles)) \n",
    "timeDelay = ConvertToTimeDelay(times,itr,offset) # function converts to timedelay\n"
   ]
  },
  {
   "cell_type": "code",
   "execution_count": 8,
   "metadata": {
    "collapsed": true
   },
   "outputs": [],
   "source": [
    "plt.plot(timeDelay,PDvalues,'r')\n",
    "extraticks = [-10,-9,-8,-7,-6,-5,-4, -3, -2, -1, 1, 2, 3, 4,5,6,7,8,9,10]\n",
    "plt.xlabel('Delay(ps)')\n",
    "plt.ylabel('PMT Signal')\n",
    "plt.grid(True)\n",
    "plt.xticks(list(plt.xticks()[0]) + extraticks)\n",
    "plt.xlim(-11,11)\n",
    "plt.show()"
   ]
  },
  {
   "cell_type": "code",
   "execution_count": null,
   "metadata": {
    "collapsed": true
   },
   "outputs": [],
   "source": [
    "\n"
   ]
  }
 ],
 "metadata": {
  "kernelspec": {
   "display_name": "Python 3",
   "language": "python",
   "name": "python3"
  },
  "language_info": {
   "codemirror_mode": {
    "name": "ipython",
    "version": 3
   },
   "file_extension": ".py",
   "mimetype": "text/x-python",
   "name": "python",
   "nbconvert_exporter": "python",
   "pygments_lexer": "ipython3",
   "version": "3.5.1"
  }
 },
 "nbformat": 4,
 "nbformat_minor": 0
}
