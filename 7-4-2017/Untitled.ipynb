{
 "cells": [
  {
   "cell_type": "code",
   "execution_count": 1,
   "metadata": {
    "collapsed": true
   },
   "outputs": [],
   "source": [
    "import matplotlib.pyplot as plt\n",
    "import numpy as np\n",
    "import pandas as pd\n",
    "from pandas import Series, DataFrame\n",
    "import glob\n",
    "import os\n",
    "from math import log"
   ]
  },
  {
   "cell_type": "code",
   "execution_count": 2,
   "metadata": {
    "collapsed": false
   },
   "outputs": [
    {
     "name": "stdout",
     "output_type": "stream",
     "text": [
      "['SHGData1_3W_07042017.txt', 'SHGData1_3Watt_07042017.txt', 'SHGData1_4Watt_07042017.txt', 'SHGData1_2Watt_07042017.txt', 'SHGData1_1Watt_07042017.txt', 'SHGData1_0Watt_07042017.txt', 'SHGData0_9_2Watt_07042017.txt', 'SHGData0_8_2Watt_07042017.txt', 'SHGData0_7_2Watt_07042017.txt', 'SHGData0_6_2Watt_07042017.txt', 'SHGData0_5_2Watt_07042017.txt', 'SHGData0_4_2Watt_07042017.txt', 'SHGData0_3_2Watt_07042017.txt', 'SHGData0_2_2Watt_07042017.txt', 'SHGData0_1_2Watt_07042017.txt', 'SHGData0_0_2Watt_07042017.txt']\n"
     ]
    }
   ],
   "source": [
    "allFiles = sorted(glob.glob(\"*.txt\"),key=os.path.getmtime) # includes all files into a single stucture,\n",
    "# Sorted by modification time so that the first measurement is first...\n",
    "print(allFiles)"
   ]
  },
  {
   "cell_type": "code",
   "execution_count": 3,
   "metadata": {
    "collapsed": true
   },
   "outputs": [],
   "source": [
    "frame = pd.DataFrame()\n",
    "df = pd.DataFrame()"
   ]
  },
  {
   "cell_type": "code",
   "execution_count": 4,
   "metadata": {
    "collapsed": false
   },
   "outputs": [
    {
     "name": "stderr",
     "output_type": "stream",
     "text": [
      "/Users/sanjaykhatri/anaconda/lib/python3.5/site-packages/ipykernel/__main__.py:7: ParserWarning: Falling back to the 'python' engine because the 'c' engine does not support skip_footer; you can avoid this warning by specifying engine='python'.\n"
     ]
    }
   ],
   "source": [
    "for i,file_ in enumerate(allFiles):\n",
    "#    f = open(file_,'r')\n",
    "#     for j,line in enumerate(f):\n",
    "#         if j == 1:\n",
    "#             date = line[14:22]\n",
    "#             break\n",
    "    df = pd.read_csv(file_,index_col = None, header=None, skiprows = 10, skipfooter = 1, delimiter = '\\t')\n",
    "#     frame[file_] = df[5]\n",
    "    df['file']=file_\n",
    "    df['timeDelay']= df[1]\n",
    "    df['PDvalue'] = df[3]\n",
    "#     df['date']=date\n",
    "    if i < 1:\n",
    "        frame = df\n",
    "    else:\n",
    "        frame = frame.append(df)"
   ]
  },
  {
   "cell_type": "code",
   "execution_count": 6,
   "metadata": {
    "collapsed": false
   },
   "outputs": [],
   "source": [
    "c = 3*10**11; #Speed of Light in mm/s, Going to use this to convert spatial information to time. \n",
    "T1 = (499*0.000125 + 0.0229)*2*25.4/(10**-12*c)\n",
    "def ConvertToTimeDelay(x,itr,offset):\n",
    "    c = 3*10**11\n",
    "    timeDelay = []\n",
    "    for i in range(0,len(x)):\n",
    "        timedelay = ((x[i]*itr + offset)*25.4*2/(10**-12*c))-T1\n",
    "        timeDelay.append(timedelay)\n",
    "    return(timeDelay)"
   ]
  },
  {
   "cell_type": "code",
   "execution_count": 57,
   "metadata": {
    "collapsed": false
   },
   "outputs": [
    {
     "name": "stdout",
     "output_type": "stream",
     "text": [
      "[-0.71916886 -0.73366843 -0.74816799 -0.76266756 -0.77716712 -0.79166669\n",
      " -0.80616625 -0.82066582 -0.83516538 -0.84966495 -0.86416451 -0.87866408\n",
      " -0.89316364 -0.90766321 -0.92216277 -0.93666233 -0.9511619  -0.96566146\n",
      " -0.98016103 -0.99466059 -1.00916016 -1.02365972 -1.03815929 -1.05265885\n",
      " -1.06715842 -1.08165798 -1.09615755 -1.11065711 -1.12515668 -1.13965624\n",
      " -1.15415581 -1.16865537 -1.18315493 -1.1976545  -1.21215406 -1.22665363\n",
      " -1.24115319 -1.25565276 -1.27015232 -1.28465189 -1.29915145 -1.31365102\n",
      " -1.32815058 -1.34265015 -1.35714971 -1.37164928 -1.38614884 -1.4006484\n",
      " -1.41514797 -1.42964753 -1.4441471  -1.45864666 -1.47314623 -1.48764579\n",
      " -1.50214536 -1.51664492 -1.53114449 -1.54564405 -1.56014362 -1.57464318\n",
      " -1.58914275 -1.60364231 -1.61814188 -1.63264144 -1.647141   -1.66164057\n",
      " -1.67614013 -1.6906397  -1.70513926 -1.71963883 -1.73413839 -1.74863796\n",
      " -1.76313752 -1.77763709 -1.79213665 -1.80663622 -1.82113578 -1.83563535\n",
      " -1.85013491 -1.86463447 -1.87913404 -1.8936336  -1.90813317 -1.92263273\n",
      " -1.9371323  -1.95163186 -1.96613143 -1.98063099 -1.99513056 -2.00963012\n",
      " -2.02412969 -2.03862925 -2.05312882 -2.06762838 -2.08212794 -2.09662751\n",
      " -2.11112707 -2.12562664 -2.1401262  -2.15462577]\n",
      " \n",
      "1.103 x - 3.013\n"
     ]
    }
   ],
   "source": [
    "times = pd.Series()\n",
    "PDvalues = pd.Series()\n",
    "AvgPD50 = pd.Series()\n",
    "itr = 0.000125\n",
    "offset = 0.023\n",
    "for i in range(0,300):\n",
    "    time = frame[1][i]\n",
    "    PDvalue = frame[3][i]\n",
    "    times = times.append(time)\n",
    "    PDvalues = PDvalues.append(PDvalue)\n",
    "#print(len(PDvalues))\n",
    "    \n",
    "times = times.values.reshape(300,len(allFiles))\n",
    "PDvalues = PDvalues.values.reshape(300,len(allFiles)) \n",
    "timeDelay = ConvertToTimeDelay(times,itr,offset) # function converts to timedelay\n",
    "\n",
    "MeanPD = PDvalues.mean(axis = 0) #Getting mean of all the data\n",
    "StDevPD = PDvalues.std(axis = 0) # Getting Standard Deviation of the data\n",
    "ErrOfMean = (np.delete(StDevPD,0))/(300**0.5) # Standard error of mean stdev/sqrt(#ofdatapoints)\n",
    "Background = MeanPD[-1] # Background is the last element in the allFiles\n",
    "ActualPD = np.absolute(MeanPD - Background)\n",
    "ActualPD2 = np.delete(ActualPD,0)\n",
    "LogPD = np.log10(np.delete(ActualPD,0))\n",
    "LaserPower = np.array([110,120,100,91,81,72,64,58,48,40,30,22,14,6])\n",
    "LogLaser = np.log10(LaserPower)\n",
    "\n",
    "fit = np.polyfit(LogLaser,LogPD[:-1],1,w=ErrOfMean[:-1])\n",
    "f = np.poly1d(fit)\n",
    "pPower = np.linspace(LogLaser[1],LogLaser[-1],100)\n",
    "f_new = f(pPower)\n",
    "print(f_new)\n",
    "print(f)\n",
    "\n",
    "plt.plot(LaserPower,ActualPD2[:-1],'k*')\n",
    "#plt.plot(pPower,f_new,'b-')\n",
    "plt.show()"
   ]
  },
  {
   "cell_type": "code",
   "execution_count": 39,
   "metadata": {
    "collapsed": false
   },
   "outputs": [
    {
     "data": {
      "text/plain": [
       "array([-0.74824825, -0.68679456, -0.7770582 , -0.86607274, -0.89718797,\n",
       "       -0.94841404, -1.01769409, -1.13194952, -1.16813449, -1.28008894,\n",
       "       -1.42324414, -1.50699298, -1.73069725, -2.08074753])"
      ]
     },
     "execution_count": 39,
     "metadata": {},
     "output_type": "execute_result"
    }
   ],
   "source": [
    "LogPD[:-1]"
   ]
  },
  {
   "cell_type": "code",
   "execution_count": 41,
   "metadata": {
    "collapsed": false
   },
   "outputs": [
    {
     "data": {
      "text/plain": [
       "14"
      ]
     },
     "execution_count": 41,
     "metadata": {},
     "output_type": "execute_result"
    }
   ],
   "source": [
    "len(LogLaser)"
   ]
  },
  {
   "cell_type": "code",
   "execution_count": 55,
   "metadata": {
    "collapsed": false
   },
   "outputs": [
    {
     "data": {
      "text/plain": [
       "15"
      ]
     },
     "execution_count": 55,
     "metadata": {},
     "output_type": "execute_result"
    }
   ],
   "source": [
    "len(ActualPD[:-1])"
   ]
  },
  {
   "cell_type": "code",
   "execution_count": 43,
   "metadata": {
    "collapsed": false
   },
   "outputs": [
    {
     "data": {
      "text/plain": [
       "15"
      ]
     },
     "execution_count": 43,
     "metadata": {},
     "output_type": "execute_result"
    }
   ],
   "source": [
    "len(ErrOfMean[:-1])"
   ]
  },
  {
   "cell_type": "code",
   "execution_count": null,
   "metadata": {
    "collapsed": true
   },
   "outputs": [],
   "source": []
  }
 ],
 "metadata": {
  "kernelspec": {
   "display_name": "Python 3",
   "language": "python",
   "name": "python3"
  },
  "language_info": {
   "codemirror_mode": {
    "name": "ipython",
    "version": 3
   },
   "file_extension": ".py",
   "mimetype": "text/x-python",
   "name": "python",
   "nbconvert_exporter": "python",
   "pygments_lexer": "ipython3",
   "version": "3.5.1"
  }
 },
 "nbformat": 4,
 "nbformat_minor": 0
}
