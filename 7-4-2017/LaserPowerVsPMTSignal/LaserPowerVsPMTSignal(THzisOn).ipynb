{
 "cells": [
  {
   "cell_type": "code",
   "execution_count": 13,
   "metadata": {
    "collapsed": true
   },
   "outputs": [],
   "source": [
    "import matplotlib.pyplot as plt\n",
    "import numpy as np\n",
    "import pandas as pd\n",
    "from pandas import Series, DataFrame\n",
    "import glob\n",
    "import os\n",
    "from math import log"
   ]
  },
  {
   "cell_type": "code",
   "execution_count": 2,
   "metadata": {
    "collapsed": false
   },
   "outputs": [
    {
     "name": "stdout",
     "output_type": "stream",
     "text": [
      "['SHGData_20mW_07042017.txt', 'SHGData_10mW_07042017.txt', 'SHGData_0mW_07042017.txt', 'SHGData_30mWW_07042017.txt', 'SHGData_40mWW_07042017.txt', 'SHGData_50mWW_07042017.txt', 'SHGData_60mWW_07042017.txt', 'SHGData_70mWW_07042017.txt', 'SHGData_80mWW_07042017.txt', 'SHGData_90mWW_07042017.txt', 'SHGData_100mWW_07042017.txt', 'SHGData_110mWW_07042017.txt', 'SHGData_120mWW_07042017.txt']\n"
     ]
    }
   ],
   "source": [
    "allFiles = sorted(glob.glob(\"*.txt\"),key=os.path.getmtime) # includes all files into a single stucture,\n",
    "# Sorted by modification time so that the first measurement is first...\n",
    "print(allFiles)"
   ]
  },
  {
   "cell_type": "code",
   "execution_count": 3,
   "metadata": {
    "collapsed": true
   },
   "outputs": [],
   "source": [
    "frame = pd.DataFrame()\n",
    "df = pd.DataFrame()"
   ]
  },
  {
   "cell_type": "code",
   "execution_count": 4,
   "metadata": {
    "collapsed": false
   },
   "outputs": [
    {
     "name": "stderr",
     "output_type": "stream",
     "text": [
      "/Users/sanjaykhatri/anaconda/lib/python3.5/site-packages/ipykernel/__main__.py:7: ParserWarning: Falling back to the 'python' engine because the 'c' engine does not support skip_footer; you can avoid this warning by specifying engine='python'.\n"
     ]
    }
   ],
   "source": [
    "for i,file_ in enumerate(allFiles):\n",
    "#    f = open(file_,'r')\n",
    "#     for j,line in enumerate(f):\n",
    "#         if j == 1:\n",
    "#             date = line[14:22]\n",
    "#             break\n",
    "    df = pd.read_csv(file_,index_col = None, header=None, skiprows = 10, skipfooter = 1, delimiter = '\\t')\n",
    "#     frame[file_] = df[5]\n",
    "    df['file']=file_\n",
    "    df['timeDelay']= df[1]\n",
    "    df['PDvalue'] = df[3]\n",
    "#     df['date']=date\n",
    "    if i < 1:\n",
    "        frame = df\n",
    "    else:\n",
    "        frame = frame.append(df)"
   ]
  },
  {
   "cell_type": "code",
   "execution_count": 5,
   "metadata": {
    "collapsed": true
   },
   "outputs": [],
   "source": [
    "c = 3*10**11; #Speed of Light in mm/s, Going to use this to convert spatial information to time. \n",
    "T1 = (499*0.000125 + 0.0229)*2*25.4/(10**-12*c)\n",
    "def ConvertToTimeDelay(x,itr,offset):\n",
    "    c = 3*10**11\n",
    "    timeDelay = []\n",
    "    for i in range(0,len(x)):\n",
    "        timedelay = ((x[i]*itr + offset)*25.4*2/(10**-12*c))-T1\n",
    "        timeDelay.append(timedelay)\n",
    "    return(timeDelay)"
   ]
  },
  {
   "cell_type": "code",
   "execution_count": 21,
   "metadata": {
    "collapsed": false
   },
   "outputs": [
    {
     "name": "stdout",
     "output_type": "stream",
     "text": [
      "[ 0.00254967  0.00136667  0.010186    0.02118167  0.02153333  0.03085167\n",
      "  0.03832133  0.05460433  0.06251433  0.073599    0.084542    0.09519933]\n",
      "[ 0.00047317  0.00025437  0.00018672  0.00017165  0.00024023  0.00021038\n",
      "  0.00017569  0.00027438  0.00033672  0.00028555  0.00024627  0.00023371]\n",
      "[ 0.08059646  0.08083419  0.00796104  0.0035194   0.00484515  0.00296151\n",
      "  0.00199111  0.00218226  0.00233924  0.00168495  0.0012651   0.00106616]\n",
      "[ 1.30103     1.          1.47712125  1.60205999  1.69897     1.77815125\n",
      "  1.84509804  1.90308999  1.95424251  2.          2.04139269  2.07918125]\n"
     ]
    }
   ],
   "source": [
    "times = pd.Series()\n",
    "PDvalues = pd.Series()\n",
    "AvgPD50 = pd.Series()\n",
    "itr = 0.000125\n",
    "offset = 0.023\n",
    "for i in range(0,300):\n",
    "    time = frame[1][i]\n",
    "    PDvalue = frame[3][i]\n",
    "    times = times.append(time)\n",
    "    PDvalues = PDvalues.append(PDvalue)\n",
    "#print(len(PDvalues))\n",
    "    \n",
    "times = times.values.reshape(300,len(allFiles))\n",
    "PDvalues = PDvalues.values.reshape(300,len(allFiles)) \n",
    "timeDelay = ConvertToTimeDelay(times,itr,offset) # function converts to timedelay\n",
    "\n",
    "MeanPD = PDvalues.mean(axis = 0) #Getting mean of all the data\n",
    "StDevPD = PDvalues.std(axis = 0) # Getting Standard Deviation of the data\n",
    "ErrOfMean = (StDevPD)/(300**0.5) # Standard error of mean stdev/sqrt(#ofdatapoints)\n",
    "Background = MeanPD[2] # Background is the last element in the allFiles\n",
    "ActualPD = np.absolute(MeanPD - Background)\n",
    "RealPD = np.delete(ActualPD,2)\n",
    "LogPD = np.log10(RealPD)\n",
    "LaserPower = np.array([20,10,30,40,50,60,70,80,90,100,110,120])\n",
    "LogLaser = np.log10(LaserPower)\n",
    "print(RealPD)\n",
    "error = np.delete(ErrOfMean,2)\n",
    "print(error)\n",
    "print(error/(log(10)*RealPD))\n",
    "print(LogLaser)"
   ]
  },
  {
   "cell_type": "code",
   "execution_count": 40,
   "metadata": {
    "collapsed": false
   },
   "outputs": [
    {
     "name": "stdout",
     "output_type": "stream",
     "text": [
      "-4.70482993481\n",
      "1.79134820908\n",
      "0.0468500407739\n",
      "0.0267441887967\n"
     ]
    }
   ],
   "source": [
    "Delta = len(LogPD)*sum(LogLaser**2) - (sum(LogLaser))**2\n",
    "A = (sum(LogLaser**2)*sum(LogPD) - sum(LogLaser)*sum(LogLaser*LogPD))/Delta\n",
    "B = (len(LogPD)*sum(LogLaser*LogPD) - (sum(LogPD)*sum(LogLaser)))/Delta\n",
    "# Least Squares Fitting Parameters above\n",
    "print(A)\n",
    "print(B)\n",
    "# Errors in Least Squares Plotting\n",
    "err = (((len(LogPD)-2)**-1) * sum((LogPD - A -B*LogLaser)**2)**0.5)\n",
    "errorA = err*(sum(LogLaser**2)/Delta)**0.5\n",
    "errorB = err*(len(LogPD)/Delta)**0.5\n",
    "print(errorA)\n",
    "print(errorB)\n",
    "\n",
    "plt.plot(LogLaser, B*LogLaser + A, 'k')\n",
    "plt.plot(LogLaser,LogPD,'b*',label = 'Data')\n",
    "plt.show()\n",
    "# fit = np.polyfit(LogLaser,LogPD,1,w=error/(log(10)*RealPD))\n",
    "# f = np.poly1d(fit)\n",
    "# pPower = np.linspace(LogLaser[1],LogLaser[-1],100)\n",
    "# f_new = f(pPower)\n",
    "# print(f_new)\n",
    "# print(f)"
   ]
  },
  {
   "cell_type": "code",
   "execution_count": 23,
   "metadata": {
    "collapsed": false
   },
   "outputs": [],
   "source": [
    "plt.plot(LogLaser,LogPD,'b*',label = 'Data')\n",
    "plt.plot(pPower,f_new,'k-',label = 'Fit: y = 1.927x-4.98')\n",
    "plt.plot()\n",
    "plt.grid(True)\n",
    "plt.xlabel('Log(Laser Power)')\n",
    "plt.ylabel('Log(PMT Signal)')\n",
    "plt.legend(loc = 'upper left')\n",
    "plt.show()\n",
    "#plt.savefig('THz_PMTSignal_07042017.png')"
   ]
  },
  {
   "cell_type": "code",
   "execution_count": null,
   "metadata": {
    "collapsed": false
   },
   "outputs": [],
   "source": [
    "print(len(RealPD))"
   ]
  },
  {
   "cell_type": "code",
   "execution_count": 16,
   "metadata": {
    "collapsed": false
   },
   "outputs": [
    {
     "data": {
      "text/plain": [
       "2.302585092994046"
      ]
     },
     "execution_count": 16,
     "metadata": {},
     "output_type": "execute_result"
    }
   ],
   "source": [
    "log(10)"
   ]
  },
  {
   "cell_type": "code",
   "execution_count": null,
   "metadata": {
    "collapsed": true
   },
   "outputs": [],
   "source": []
  }
 ],
 "metadata": {
  "kernelspec": {
   "display_name": "Python 3",
   "language": "python",
   "name": "python3"
  },
  "language_info": {
   "codemirror_mode": {
    "name": "ipython",
    "version": 3
   },
   "file_extension": ".py",
   "mimetype": "text/x-python",
   "name": "python",
   "nbconvert_exporter": "python",
   "pygments_lexer": "ipython3",
   "version": "3.5.1"
  }
 },
 "nbformat": 4,
 "nbformat_minor": 0
}
