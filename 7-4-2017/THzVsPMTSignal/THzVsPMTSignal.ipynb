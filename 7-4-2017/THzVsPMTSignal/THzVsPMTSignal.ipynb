{
 "cells": [
  {
   "cell_type": "code",
   "execution_count": 30,
   "metadata": {
    "collapsed": true
   },
   "outputs": [],
   "source": [
    "import matplotlib.pyplot as plt\n",
    "import numpy as np\n",
    "import pandas as pd\n",
    "from pandas import Series, DataFrame\n",
    "import glob\n",
    "import os"
   ]
  },
  {
   "cell_type": "code",
   "execution_count": 31,
   "metadata": {
    "collapsed": false
   },
   "outputs": [
    {
     "name": "stdout",
     "output_type": "stream",
     "text": [
      "['SHGData_ThzBlocked_07042017.txt', 'SHGData_Use0PostIt_07042017.txt', 'SHGData_Use3PostIt_07042017.txt', 'SHGData_Use2PostIt_07042017.txt', 'SHGData_Use1PostIt_07042017.txt', 'SHGData_Use4PostIt_07042017.txt']\n"
     ]
    }
   ],
   "source": [
    "allFiles = sorted(glob.glob(\"*.txt\"),key=os.path.getmtime) # includes all files into a single stucture,\n",
    "# Sorted by modification time so that the first measurement is first...\n",
    "print(allFiles)"
   ]
  },
  {
   "cell_type": "code",
   "execution_count": 8,
   "metadata": {
    "collapsed": true
   },
   "outputs": [],
   "source": [
    "frame = pd.DataFrame()\n",
    "df = pd.DataFrame()"
   ]
  },
  {
   "cell_type": "code",
   "execution_count": 34,
   "metadata": {
    "collapsed": false
   },
   "outputs": [
    {
     "name": "stderr",
     "output_type": "stream",
     "text": [
      "/Users/sanjaykhatri/anaconda/lib/python3.5/site-packages/ipykernel/__main__.py:7: ParserWarning: Falling back to the 'python' engine because the 'c' engine does not support skip_footer; you can avoid this warning by specifying engine='python'.\n"
     ]
    }
   ],
   "source": [
    "for i,file_ in enumerate(allFiles):\n",
    "#    f = open(file_,'r')\n",
    "#     for j,line in enumerate(f):\n",
    "#         if j == 1:\n",
    "#             date = line[14:22]\n",
    "#             break\n",
    "    df = pd.read_csv(file_,index_col = None, header=None, skiprows = 10, skipfooter = 1, delimiter = '\\t')\n",
    "#     frame[file_] = df[5]\n",
    "    df['file']=file_\n",
    "    df['timeDelay']= df[1]\n",
    "    df['PDvalue'] = df[3]\n",
    "#     df['date']=date\n",
    "    if i < 1:\n",
    "        frame = df\n",
    "    else:\n",
    "        frame = frame.append(df)"
   ]
  },
  {
   "cell_type": "code",
   "execution_count": 33,
   "metadata": {
    "collapsed": true
   },
   "outputs": [],
   "source": [
    "c = 3*10**11; #Speed of Light in mm/s, Going to use this to convert spatial information to time. \n",
    "T1 = (499*0.000125 + 0.0229)*2*25.4/(10**-12*c)\n",
    "def ConvertToTimeDelay(x,itr,offset):\n",
    "    c = 3*10**11\n",
    "    timeDelay = []\n",
    "    for i in range(0,len(x)):\n",
    "        timedelay = ((x[i]*itr + offset)*25.4*2/(10**-12*c))-T1\n",
    "        timeDelay.append(timedelay)\n",
    "    return(timeDelay)"
   ]
  },
  {
   "cell_type": "code",
   "execution_count": 42,
   "metadata": {
    "collapsed": false
   },
   "outputs": [
    {
     "name": "stdout",
     "output_type": "stream",
     "text": [
      "[ 1.69897     1.30103     1.47712125  1.        ]\n",
      "[ 0.06637667  0.043325    0.04633167  0.04107567  0.03604967]\n"
     ]
    }
   ],
   "source": [
    "times = pd.Series()\n",
    "PDvalues = pd.Series()\n",
    "AvgPD50 = pd.Series()\n",
    "itr = 0.000125\n",
    "offset = 0.023\n",
    "for i in range(0,300):\n",
    "    time = frame[1][i]\n",
    "    PDvalue = frame[3][i]\n",
    "    times = times.append(time)\n",
    "    PDvalues = PDvalues.append(PDvalue)\n",
    "#print(len(PDvalues))\n",
    "    \n",
    "times = times.values.reshape(300,len(allFiles))\n",
    "PDvalues = PDvalues.values.reshape(300,len(allFiles)) \n",
    "timeDelay = ConvertToTimeDelay(times,itr,offset) # function converts to timedelay\n",
    "\n",
    "MeanPD = PDvalues.mean(axis = 0) #Getting mean of all the data\n",
    "StDevPD = PDvalues.std(axis = 0) # Getting Standard Deviation of the data\n",
    "ErrOfMean = (StDevPD)/(300**0.5) # Standard error of mean stdev/sqrt(#ofdatapoints)\n",
    "Background = MeanPD[0]\n",
    "ActualPD = np.absolute(MeanPD - Background)\n",
    "RealPD = np.delete(ActualPD,0)\n",
    "LogPD = np.log10(np.delete(RealPD,-2))\n",
    "THzEnergy = np.array([50,20,30,10])\n",
    "LogTHz = np.log10(THzEnergy)\n",
    "error = np.delete(StDevPD,-1)\n",
    "Error = np.delete(error,-1)\n",
    "print(LogTHz)\n",
    "print(RealPD)"
   ]
  },
  {
   "cell_type": "code",
   "execution_count": 49,
   "metadata": {
    "collapsed": false
   },
   "outputs": [
    {
     "name": "stdout",
     "output_type": "stream",
     "text": [
      "[-1.28458322 -1.28635171 -1.2881202  -1.28988869 -1.29165719 -1.29342568\n",
      " -1.29519417 -1.29696266 -1.29873116 -1.30049965 -1.30226814 -1.30403663\n",
      " -1.30580513 -1.30757362 -1.30934211 -1.3111106  -1.3128791  -1.31464759\n",
      " -1.31641608 -1.31818457 -1.31995307 -1.32172156 -1.32349005 -1.32525854\n",
      " -1.32702704 -1.32879553 -1.33056402 -1.33233251 -1.33410101 -1.3358695\n",
      " -1.33763799 -1.33940648 -1.34117497 -1.34294347 -1.34471196 -1.34648045\n",
      " -1.34824894 -1.35001744 -1.35178593 -1.35355442 -1.35532291 -1.35709141\n",
      " -1.3588599  -1.36062839 -1.36239688 -1.36416538 -1.36593387 -1.36770236\n",
      " -1.36947085 -1.37123935 -1.37300784 -1.37477633 -1.37654482 -1.37831332\n",
      " -1.38008181 -1.3818503  -1.38361879 -1.38538729 -1.38715578 -1.38892427\n",
      " -1.39069276 -1.39246126 -1.39422975 -1.39599824 -1.39776673 -1.39953523\n",
      " -1.40130372 -1.40307221 -1.4048407  -1.4066092  -1.40837769 -1.41014618\n",
      " -1.41191467 -1.41368317 -1.41545166 -1.41722015 -1.41898864 -1.42075714\n",
      " -1.42252563 -1.42429412 -1.42606261 -1.42783111 -1.4295996  -1.43136809\n",
      " -1.43313658 -1.43490508 -1.43667357 -1.43844206 -1.44021055 -1.44197904\n",
      " -1.44374754 -1.44551603 -1.44728452 -1.44905301 -1.45082151 -1.45259\n",
      " -1.45435849 -1.45612698 -1.45789548 -1.45966397]\n",
      " \n",
      "0.367 x - 1.827\n"
     ]
    }
   ],
   "source": [
    "fit = np.polyfit(LogTHz,LogPD,1,w=Error)\n",
    "f = np.poly1d(fit)\n",
    "pPower = np.linspace(LogTHz[2],LogTHz[-1],100)\n",
    "f_new = f(pPower)\n",
    "print(f_new)\n",
    "print(f)"
   ]
  },
  {
   "cell_type": "code",
   "execution_count": 45,
   "metadata": {
    "collapsed": false
   },
   "outputs": [
    {
     "name": "stdout",
     "output_type": "stream",
     "text": [
      "[ 1.69897     1.30103     1.47712125  1.        ]\n"
     ]
    }
   ],
   "source": [
    "print(LogTHz)"
   ]
  },
  {
   "cell_type": "code",
   "execution_count": 46,
   "metadata": {
    "collapsed": false
   },
   "outputs": [
    {
     "name": "stdout",
     "output_type": "stream",
     "text": [
      "[-1.17798456 -1.36326143 -1.33412208 -1.44309875]\n"
     ]
    }
   ],
   "source": [
    "print(LogPD)"
   ]
  },
  {
   "cell_type": "code",
   "execution_count": 48,
   "metadata": {
    "collapsed": false
   },
   "outputs": [
    {
     "name": "stdout",
     "output_type": "stream",
     "text": [
      "[ 0.0056269   0.0050363   0.00436396  0.00550762]\n"
     ]
    }
   ],
   "source": [
    "print(Error)"
   ]
  },
  {
   "cell_type": "code",
   "execution_count": null,
   "metadata": {
    "collapsed": true
   },
   "outputs": [],
   "source": []
  }
 ],
 "metadata": {
  "kernelspec": {
   "display_name": "Python 3",
   "language": "python",
   "name": "python3"
  },
  "language_info": {
   "codemirror_mode": {
    "name": "ipython",
    "version": 3
   },
   "file_extension": ".py",
   "mimetype": "text/x-python",
   "name": "python",
   "nbconvert_exporter": "python",
   "pygments_lexer": "ipython3",
   "version": "3.5.1"
  }
 },
 "nbformat": 4,
 "nbformat_minor": 0
}
