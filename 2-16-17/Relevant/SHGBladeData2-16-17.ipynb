{
 "cells": [
  {
   "cell_type": "code",
   "execution_count": 6,
   "metadata": {
    "collapsed": true
   },
   "outputs": [],
   "source": [
    "import matplotlib.pyplot as plt\n",
    "import numpy as np\n",
    "import scipy as sy\n",
    "from scipy import stats\n",
    "import pylab\n",
    "import re"
   ]
  },
  {
   "cell_type": "code",
   "execution_count": 7,
   "metadata": {
    "collapsed": false
   },
   "outputs": [],
   "source": [
    "with open ('background_0200_0297_Speed__03.txt','r') as f:\n",
    "    times=[];\n",
    "    Pvalue = [];\n",
    "    for line in f:\n",
    "        line = line.strip()\n",
    "        if line:\n",
    "            data = line.split()\n",
    "            times.append(0.2+float(data[0])*97/1200000) #So here I am converting the data point number 0-1200 to stage position 0.2in to 0.297 in\n",
    "            Pvalue.append(float(data[1]))\n",
    "\n",
    "plt.plot(times,Pvalue,'r')\n",
    "plt.xlabel('Stage Position (in)')\n",
    "plt.ylabel('PD Signal (arb)')\n",
    "plt.show()   \n"
   ]
  },
  {
   "cell_type": "code",
   "execution_count": 8,
   "metadata": {
    "collapsed": false
   },
   "outputs": [],
   "source": [
    "with open ('Background_0202_0299_Speed__03.txt','r') as f:\n",
    "    Times=[];\n",
    "    PDValue = [];\n",
    "    for line in f:\n",
    "        line = line.strip()\n",
    "        if line:\n",
    "            data = line.split()\n",
    "            Times.append(0.2+float(data[0])*97/1200000) #So here I am converting the data point number 0-1200 to stage position 0.2in to 0.297 in\n",
    "            PDValue.append(float(data[1]))\n",
    "\n",
    "plt.plot(Times,PDValue,'r',times,Pvalue,'b')\n",
    "plt.xlabel('Stage Position (in)')\n",
    "plt.ylabel('PD Signal (arb)')\n",
    "plt.show() "
   ]
  },
  {
   "cell_type": "code",
   "execution_count": 37,
   "metadata": {
    "collapsed": true
   },
   "outputs": [],
   "source": [
    "with open ('bRun1_0200_0297_Speed__03.txt','r') as f:\n",
    "    times1=[];\n",
    "    Pvalue1 = [];\n",
    "    for line in f:\n",
    "        line = line.strip()\n",
    "        if line:\n",
    "            data = line.split()\n",
    "            times1.append(0.2+float(data[0])*97/1200000) #So here I am converting the data point number 0-1200 to stage position 0.2in to 0.297 in\n",
    "            Pvalue1.append(float(data[1]))\n",
    "PDvalue1 = np.mean(Pvalue1)-Pvalue1;\n",
    "plt.plot(times1,Pvalue1,'r')\n",
    "plt.xlabel('Stage Position (in)')\n",
    "plt.ylabel('PD Signal (arb)')\n",
    "plt.show() "
   ]
  },
  {
   "cell_type": "code",
   "execution_count": 38,
   "metadata": {
    "collapsed": true
   },
   "outputs": [],
   "source": [
    "with open ('Run2_0200_0297_Speed__03.txt','r') as f:\n",
    "    times2=[];\n",
    "    Pvalue2 = [];\n",
    "    for line in f:\n",
    "        line = line.strip()\n",
    "        if line:\n",
    "            data = line.split()\n",
    "            times2.append(0.2+float(data[0])*97/1200000) #So here I am converting the data point number 0-1200 to stage position 0.2in to 0.297 in\n",
    "            Pvalue2.append(float(data[1]))\n",
    "PDvalue2 = np.mean(Pvalue2)-Pvalue2;\n",
    "plt.plot(times2,Pvalue2,'b')\n",
    "plt.xlabel('Stage Position (in)')\n",
    "plt.ylabel('PD Signal (arb)')\n",
    "plt.show() "
   ]
  },
  {
   "cell_type": "code",
   "execution_count": 39,
   "metadata": {
    "collapsed": true
   },
   "outputs": [],
   "source": [
    "with open ('Run3_0200_0297_Speed__03.txt','r') as f:\n",
    "    times3=[];\n",
    "    Pvalue3 = [];\n",
    "    for line in f:\n",
    "        line = line.strip()\n",
    "        if line:\n",
    "            data = line.split()\n",
    "            times3.append(0.2+float(data[0])*97/1200000) #So here I am converting the data point number 0-1200 to stage position 0.2in to 0.297 in\n",
    "            Pvalue3.append(float(data[1]))\n",
    "PDvalue3 = np.mean(Pvalue3)-Pvalue3;\n",
    "plt.plot(times3,Pvalue3,'b')\n",
    "plt.xlabel('Stage Position (in)')\n",
    "plt.ylabel('PD Signal (arb)')\n",
    "plt.show() "
   ]
  },
  {
   "cell_type": "code",
   "execution_count": 40,
   "metadata": {
    "collapsed": true
   },
   "outputs": [],
   "source": [
    "with open ('Run4_0200_0297_Speed__03.txt','r') as f:\n",
    "    times4=[];\n",
    "    Pvalue4 = [];\n",
    "    for line in f:\n",
    "        line = line.strip()\n",
    "        if line:\n",
    "            data = line.split()\n",
    "            times4.append(0.2+float(data[0])*97/1200000) #So here I am converting the data point number 0-1200 to stage position 0.2in to 0.297 in\n",
    "            Pvalue4.append(float(data[1]))\n",
    "PDvalue4 = np.mean(Pvalue4)-Pvalue4;\n",
    "plt.plot(times4,Pvalue4,'b')\n",
    "plt.xlabel('Stage Position (in)')\n",
    "plt.ylabel('PD Signal (arb)')\n",
    "plt.show() "
   ]
  },
  {
   "cell_type": "code",
   "execution_count": 41,
   "metadata": {
    "collapsed": true
   },
   "outputs": [],
   "source": [
    "with open ('Run5_0200_0297_Speed__03.txt','r') as f:\n",
    "    times5=[];\n",
    "    Pvalue5 = [];\n",
    "    for line in f:\n",
    "        line = line.strip()\n",
    "        if line:\n",
    "            data = line.split()\n",
    "            times5.append(0.2+float(data[0])*97/1200000) #So here I am converting the data point number 0-1200 to stage position 0.2in to 0.297 in\n",
    "            Pvalue5.append(float(data[1]))\n",
    "PDvalue5 = np.mean(Pvalue5)-Pvalue5;\n",
    "plt.plot(times5,Pvalue5,'b')\n",
    "plt.xlabel('Stage Position (in)')\n",
    "plt.ylabel('PD Signal (arb)')\n",
    "plt.show() "
   ]
  },
  {
   "cell_type": "code",
   "execution_count": 42,
   "metadata": {
    "collapsed": true
   },
   "outputs": [],
   "source": [
    "with open ('Run6_0200_0297_Speed__03.txt','r') as f:\n",
    "    times6=[];\n",
    "    Pvalue6 = [];\n",
    "    for line in f:\n",
    "        line = line.strip()\n",
    "        if line:\n",
    "            data = line.split()\n",
    "            times6.append(0.2+float(data[0])*97/1200000) #So here I am converting the data point number 0-1200 to stage position 0.2in to 0.297 in\n",
    "            Pvalue6.append(float(data[1]))\n",
    "PDvalue6 = np.mean(Pvalue6)-Pvalue6;\n",
    "plt.plot(times6,Pvalue6,'b')\n",
    "plt.xlabel('Stage Position (in)')\n",
    "plt.ylabel('PD Signal (arb)')\n",
    "plt.show() "
   ]
  },
  {
   "cell_type": "code",
   "execution_count": 43,
   "metadata": {
    "collapsed": true
   },
   "outputs": [],
   "source": [
    "with open ('Run7_0200_0297_Speed__03.txt','r') as f:\n",
    "    times7=[];\n",
    "    Pvalue7 = [];\n",
    "    for line in f:\n",
    "        line = line.strip()\n",
    "        if line:\n",
    "            data = line.split()\n",
    "            times7.append(0.2+float(data[0])*97/1200000) #So here I am converting the data point number 0-1200 to stage position 0.2in to 0.297 in\n",
    "            Pvalue7.append(float(data[1]))\n",
    "PDvalue7 = np.mean(Pvalue7)-Pvalue7;\n",
    "plt.plot(times7,Pvalue7,'b')\n",
    "plt.xlabel('Stage Position (in)')\n",
    "plt.ylabel('PD Signal (arb)')\n",
    "plt.show() "
   ]
  },
  {
   "cell_type": "code",
   "execution_count": 44,
   "metadata": {
    "collapsed": true
   },
   "outputs": [],
   "source": [
    "with open ('Run8_0200_0297_Speed__03.txt','r') as f:\n",
    "    times8=[];\n",
    "    Pvalue8 = [];\n",
    "    for line in f:\n",
    "        line = line.strip()\n",
    "        if line:\n",
    "            data = line.split()\n",
    "            times8.append(0.2+float(data[0])*97/1200000) #So here I am converting the data point number 0-1200 to stage position 0.2in to 0.297 in\n",
    "            Pvalue8.append(float(data[1]))\n",
    "PDvalue8 = np.mean(Pvalue8)-Pvalue8;\n",
    "plt.plot(times8,Pvalue8,'b')\n",
    "plt.xlabel('Stage Position (in)')\n",
    "plt.ylabel('PD Signal (arb)')\n",
    "plt.show() "
   ]
  },
  {
   "cell_type": "code",
   "execution_count": 45,
   "metadata": {
    "collapsed": true
   },
   "outputs": [],
   "source": [
    "with open ('Run9_0200_0297_Speed__03.txt','r') as f:\n",
    "    times9=[];\n",
    "    Pvalue9 = [];\n",
    "    for line in f:\n",
    "        line = line.strip()\n",
    "        if line:\n",
    "            data = line.split()\n",
    "            times9.append(0.2+float(data[0])*97/1200000) #So here I am converting the data point number 0-1200 to stage position 0.2in to 0.297 in\n",
    "            Pvalue9.append(float(data[1]))\n",
    "PDvalue9 = np.mean(Pvalue9)-Pvalue9;\n",
    "plt.plot(times9,Pvalue9,'b')\n",
    "plt.xlabel('Stage Position (in)')\n",
    "plt.ylabel('PD Signal (arb)')\n",
    "plt.show() "
   ]
  },
  {
   "cell_type": "code",
   "execution_count": 46,
   "metadata": {
    "collapsed": true
   },
   "outputs": [],
   "source": [
    "with open ('Run10_0200_0297_Speed__03.txt','r') as f:\n",
    "    times10=[];\n",
    "    Pvalue10 = [];\n",
    "    for line in f:\n",
    "        line = line.strip()\n",
    "        if line:\n",
    "            data = line.split()\n",
    "            times10.append(0.2+float(data[0])*97/1200000) #So here I am converting the data point number 0-1200 to stage position 0.2in to 0.297 in\n",
    "            Pvalue10.append(float(data[1]))\n",
    "PDvalue10 = np.mean(Pvalue10)-Pvalue10;\n",
    "plt.plot(times10,Pvalue10,'b')\n",
    "plt.xlabel('Stage Position (in)')\n",
    "plt.ylabel('PD Signal (arb)')\n",
    "plt.show() "
   ]
  },
  {
   "cell_type": "code",
   "execution_count": 47,
   "metadata": {
    "collapsed": true
   },
   "outputs": [],
   "source": [
    "with open ('Run11_0200_0297_Speed__03.txt','r') as f:\n",
    "    times11=[];\n",
    "    Pvalue11 = [];\n",
    "    for line in f:\n",
    "        line = line.strip()\n",
    "        if line:\n",
    "            data = line.split()\n",
    "            times11.append(0.2+float(data[0])*97/1200000) #So here I am converting the data point number 0-1200 to stage position 0.2in to 0.297 in\n",
    "            Pvalue11.append(float(data[1]))\n",
    "PDvalue11 = np.mean(Pvalue11)-Pvalue11;\n",
    "plt.plot(times11,Pvalue11,'b')\n",
    "plt.xlabel('Stage Position (in)')\n",
    "plt.ylabel('PD Signal (arb)')\n",
    "plt.show() "
   ]
  },
  {
   "cell_type": "code",
   "execution_count": 48,
   "metadata": {
    "collapsed": true
   },
   "outputs": [],
   "source": [
    "with open ('Run12_0200_0297_Speed__03.txt','r') as f:\n",
    "    times12=[];\n",
    "    Pvalue12 = [];\n",
    "    for line in f:\n",
    "        line = line.strip()\n",
    "        if line:\n",
    "            data = line.split()\n",
    "            times12.append(0.2+float(data[0])*97/1200000) #So here I am converting the data point number 0-1200 to stage position 0.2in to 0.297 in\n",
    "            Pvalue12.append(float(data[1]))\n",
    "PDvalue12 = np.mean(Pvalue12)-Pvalue12;\n",
    "plt.plot(times12,Pvalue12,'b')\n",
    "plt.xlabel('Stage Position (in)')\n",
    "plt.ylabel('PD Signal (arb)')\n",
    "plt.show() "
   ]
  },
  {
   "cell_type": "code",
   "execution_count": 49,
   "metadata": {
    "collapsed": true
   },
   "outputs": [],
   "source": [
    "with open ('Run13_0200_0297_Speed__03.txt','r') as f:\n",
    "    times13=[];\n",
    "    Pvalue13 = [];\n",
    "    for line in f:\n",
    "        line = line.strip()\n",
    "        if line:\n",
    "            data = line.split()\n",
    "            times13.append(0.2+float(data[0])*97/1200000) #So here I am converting the data point number 0-1200 to stage position 0.2in to 0.297 in\n",
    "            Pvalue13.append(float(data[1]))\n",
    "PDvalue13 = np.mean(Pvalue13)-Pvalue13;\n",
    "plt.plot(times13,Pvalue13,'b')\n",
    "plt.xlabel('Stage Position (in)')\n",
    "plt.ylabel('PD Signal (arb)')\n",
    "plt.show() "
   ]
  },
  {
   "cell_type": "code",
   "execution_count": 50,
   "metadata": {
    "collapsed": true
   },
   "outputs": [],
   "source": [
    "with open ('Run14_0200_0297_Speed__03.txt','r') as f:\n",
    "    times14=[];\n",
    "    Pvalue14 = [];\n",
    "    for line in f:\n",
    "        line = line.strip()\n",
    "        if line:\n",
    "            data = line.split()\n",
    "            times14.append(0.2+float(data[0])*97/1200000) #So here I am converting the data point number 0-1200 to stage position 0.2in to 0.297 in\n",
    "            Pvalue14.append(float(data[1]))\n",
    "PDvalue14 = np.mean(Pvalue14)-Pvalue14;\n",
    "plt.plot(times14,Pvalue14,'b')\n",
    "plt.xlabel('Stage Position (in)')\n",
    "plt.ylabel('PD Signal (arb)')\n",
    "plt.show() "
   ]
  },
  {
   "cell_type": "code",
   "execution_count": 55,
   "metadata": {
    "collapsed": true
   },
   "outputs": [],
   "source": [
    "with open ('Run15_0200_0297_Speed__03.txt','r') as f:\n",
    "    times15=[];\n",
    "    Pvalue15 = [];\n",
    "    for line in f:\n",
    "        line = line.strip()\n",
    "        if line:\n",
    "            data = line.split()\n",
    "            times15.append(0.2+float(data[0])*97/1200000) #So here I am converting the data point number 0-1200 to stage position 0.2in to 0.297 in\n",
    "            Pvalue15.append(float(data[1]))\n",
    "PDvalue15 = np.mean(Pvalue15)-Pvalue15;\n",
    "plt.plot(times15,Pvalue15,'b')\n",
    "plt.xlabel('Stage Position (in)')\n",
    "plt.ylabel('PD Signal (arb)')\n",
    "plt.show() "
   ]
  },
  {
   "cell_type": "code",
   "execution_count": 52,
   "metadata": {
    "collapsed": true
   },
   "outputs": [],
   "source": [
    "with open ('Run16_0200_0297_Speed__03.txt','r') as f:\n",
    "    times16=[];\n",
    "    Pvalue16 = [];\n",
    "    for line in f:\n",
    "        line = line.strip()\n",
    "        if line:\n",
    "            data = line.split()\n",
    "            times16.append(0.2+float(data[0])*97/1200000) #So here I am converting the data point number 0-1200 to stage position 0.2in to 0.297 in\n",
    "            Pvalue16.append(float(data[1]))\n",
    "PDvalue16 = np.mean(Pvalue16)-Pvalue16;\n",
    "plt.plot(times16,Pvalue16,'b')\n",
    "plt.xlabel('Stage Position (in)')\n",
    "plt.ylabel('PD Signal (arb)')\n",
    "plt.show() "
   ]
  },
  {
   "cell_type": "code",
   "execution_count": 53,
   "metadata": {
    "collapsed": true
   },
   "outputs": [],
   "source": [
    "with open ('Run17_0200_0297_Speed__03.txt','r') as f:\n",
    "    times17=[];\n",
    "    Pvalue17 = [];\n",
    "    for line in f:\n",
    "        line = line.strip()\n",
    "        if line:\n",
    "            data = line.split()\n",
    "            times17.append(0.2+float(data[0])*97/1200000) #So here I am converting the data point number 0-1200 to stage position 0.2in to 0.297 in\n",
    "            Pvalue17.append(float(data[1]))\n",
    "PDvalue17 = np.mean(Pvalue17)-Pvalue17;\n",
    "plt.plot(times17,Pvalue17,'b')\n",
    "plt.xlabel('Stage Position (in)')\n",
    "plt.ylabel('PD Signal (arb)')\n",
    "plt.show() "
   ]
  },
  {
   "cell_type": "code",
   "execution_count": 54,
   "metadata": {
    "collapsed": true
   },
   "outputs": [],
   "source": [
    "with open ('Run18_0200_0297_Speed__03.txt','r') as f:\n",
    "    times18=[];\n",
    "    Pvalue18 = [];\n",
    "    for line in f:\n",
    "        line = line.strip()\n",
    "        if line:\n",
    "            data = line.split()\n",
    "            times18.append(0.2+float(data[0])*97/1200000) #So here I am converting the data point number 0-1200 to stage position 0.2in to 0.297 in\n",
    "            Pvalue18.append(float(data[1]))\n",
    "PDvalue18 = np.mean(Pvalue18)-Pvalue18;\n",
    "plt.plot(times18,Pvalue18,'b')\n",
    "plt.xlabel('Stage Position (in)')\n",
    "plt.ylabel('PD Signal (arb)')\n",
    "plt.show() "
   ]
  },
  {
   "cell_type": "code",
   "execution_count": 36,
   "metadata": {
    "collapsed": true
   },
   "outputs": [],
   "source": [
    "with open ('Run19_0200_0297_Speed__03.txt','r') as f:\n",
    "    times19=[];\n",
    "    Pvalue19 = [];\n",
    "    for line in f:\n",
    "        line = line.strip()\n",
    "        if line:\n",
    "            data = line.split()\n",
    "            times19.append(0.2+float(data[0])*97/1200000) #So here I am converting the data point number 0-1200 to stage position 0.2in to 0.297 in\n",
    "            Pvalue19.append(float(data[1]))\n",
    "PDvalue19 = np.mean(Pvalue19)-Pvalue19;\n",
    "plt.plot(times19,Pvalue19,'b')\n",
    "plt.xlabel('Stage Position (in)')\n",
    "plt.ylabel('PD Signal (arb)')\n",
    "plt.show() "
   ]
  },
  {
   "cell_type": "code",
   "execution_count": 35,
   "metadata": {
    "collapsed": true
   },
   "outputs": [],
   "source": [
    "with open ('Run20_0200_0297_Speed__03.txt','r') as f:\n",
    "    times20=[];\n",
    "    Pvalue20 = [];\n",
    "    for line in f:\n",
    "        line = line.strip()\n",
    "        if line:\n",
    "            data = line.split()\n",
    "            times20.append(0.2+float(data[0])*97/1200000) #So here I am converting the data point number 0-1200 to stage position 0.2in to 0.297 in\n",
    "            Pvalue20.append(float(data[1]))\n",
    "PDvalue20 = np.mean(Pvalue20)-Pvalue20;\n",
    "plt.plot(times20,PDvalue20,'b')\n",
    "plt.xlabel('Stage Position (in)')\n",
    "plt.ylabel('PD Signal (arb)')\n",
    "plt.show() "
   ]
  },
  {
   "cell_type": "code",
   "execution_count": 56,
   "metadata": {
    "collapsed": true
   },
   "outputs": [],
   "source": [
    "FinalPD = [Pvalue1,Pvalue2,Pvalue3,Pvalue4,Pvalue5,Pvalue6,Pvalue7,Pvalue8,Pvalue9,Pvalue10,\n",
    "           Pvalue11,Pvalue12,Pvalue13,Pvalue14,Pvalue15,Pvalue16,Pvalue17,Pvalue18,Pvalue19,Pvalue20]\n",
    "NormFinalPD = [PDvalue1,PDvalue2,PDvalue3,PDvalue4,PDvalue5,PDvalue6,PDvalue7,PDvalue8,PDvalue9,PDvalue10,\n",
    "           PDvalue11,PDvalue12,PDvalue13,PDvalue14,PDvalue15,PDvalue16,PDvalue17,PDvalue18,PDvalue19,PDvalue20]"
   ]
  },
  {
   "cell_type": "code",
   "execution_count": null,
   "metadata": {
    "collapsed": false
   },
   "outputs": [
    {
     "name": "stdout",
     "output_type": "stream",
     "text": [
      "0.00794987458814\n"
     ]
    }
   ],
   "source": [
    "FinalaveragePD = [];\n",
    "averagePD = [];\n",
    "NormAveragePD = [];\n",
    "\n",
    "for i in range(len(FinalPD[0])):\n",
    "    #print ([finalPD[0][i], finalPD[1][i], finalPD[2][i], finalPD[3][i], finalPD[4][i]])\n",
    "    #print(np.mean([finalPD[0][i], finalPD[1][i], finalPD[2][i], finalPD[3][i], finalPD[4][i]]))\n",
    "    averagePD = np.sum([FinalPD[0][i],FinalPD[1][i],FinalPD[2][i],FinalPD[3][i],FinalPD[4][i],FinalPD[5][i],FinalPD[6][i],\n",
    "                       FinalPD[7][i],FinalPD[8][i],FinalPD[9][i],FinalPD[10][i],FinalPD[11][i],FinalPD[12][i],FinalPD[13][i],\n",
    "                       FinalPD[14][i],FinalPD[15][i],FinalPD[16][i],FinalPD[17][i],FinalPD[18][i],FinalPD[19][i]])/len(FinalPD)\n",
    "    FinalaveragePD.append(averagePD)\n",
    "    normaveragePD = np.sum([NormFinalPD[0][i],NormFinalPD[1][i],NormFinalPD[2][i],NormFinalPD[3][i],NormFinalPD[4][i],NormFinalPD[5][i],NormFinalPD[6][i],\n",
    "                       NormFinalPD[7][i],NormFinalPD[8][i],NormFinalPD[9][i],NormFinalPD[10][i],NormFinalPD[11][i],NormFinalPD[12][i],NormFinalPD[13][i],\n",
    "                       NormFinalPD[14][i],NormFinalPD[15][i],NormFinalPD[16][i],NormFinalPD[17][i],NormFinalPD[18][i],NormFinalPD[19][i]])/len(FinalPD)\n",
    "    NormAveragePD.append(normaveragePD)\n",
    "#print(FinalaveragePD)\n",
    "plt.plot(times,NormAveragePD,'b')\n",
    "#pylab.xlim([0.24,0.26])\n",
    "error = np.std(FinalaveragePD)/np.mean(FinalaveragePD)\n",
    "print(error)\n",
    "plt.xlabel('Stage Position (in)')\n",
    "plt.ylabel('PD Signal (arb)')\n",
    "plt.title('Mean Subtracted from each Data Point')\n",
    "plt.grid()\n",
    "plt.show()\n",
    "#plt.savefig('SHG_SignalVsStagePosition_.png')\n",
    "# These scans were taken at speed 03, so the time for one scan was about 12 minutes. "
   ]
  },
  {
   "cell_type": "code",
   "execution_count": null,
   "metadata": {
    "collapsed": true
   },
   "outputs": [],
   "source": []
  }
 ],
 "metadata": {
  "kernelspec": {
   "display_name": "Python 3",
   "language": "python",
   "name": "python3"
  },
  "language_info": {
   "codemirror_mode": {
    "name": "ipython",
    "version": 3
   },
   "file_extension": ".py",
   "mimetype": "text/x-python",
   "name": "python",
   "nbconvert_exporter": "python",
   "pygments_lexer": "ipython3",
   "version": "3.5.1"
  }
 },
 "nbformat": 4,
 "nbformat_minor": 0
}
