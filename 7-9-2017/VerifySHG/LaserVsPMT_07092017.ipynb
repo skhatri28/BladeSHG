{
 "cells": [
  {
   "cell_type": "code",
   "execution_count": 30,
   "metadata": {
    "collapsed": true
   },
   "outputs": [],
   "source": [
    "import matplotlib.pyplot as plt\n",
    "import numpy as np\n",
    "import pandas as pd\n",
    "from pandas import Series, DataFrame\n",
    "import glob\n",
    "import os\n",
    "from math import log"
   ]
  },
  {
   "cell_type": "code",
   "execution_count": 31,
   "metadata": {
    "collapsed": false
   },
   "outputs": [
    {
     "name": "stdout",
     "output_type": "stream",
     "text": [
      "['RealSHGData_LaserDepend_Background_07092017.txt', 'RealSHGData_LaserDepend_98mW_07092017.txt', 'RealSHGData_LaserDepend_75mW_07092017.txt', 'RealSHGData_LaserDepend_70mW_07092017.txt', 'RealSHGData_LaserDepend_60mW_07092017.txt', 'RealSHGData_LaserDepend_80mW_07092017.txt', 'RealSHGData_LaserDepend_85mW_07092017.txt', 'RealSHGData_LaserDepend_90mW_07092017.txt']\n"
     ]
    }
   ],
   "source": [
    "## Data Taken at 1000V on the PMT\n",
    "\n",
    "allFiles = sorted(glob.glob(\"*.txt\"),key=os.path.getmtime) # includes all files into a single stucture,\n",
    "# Sorted by modification time so that the first measurement is first...\n",
    "print(allFiles)"
   ]
  },
  {
   "cell_type": "code",
   "execution_count": 32,
   "metadata": {
    "collapsed": true
   },
   "outputs": [],
   "source": [
    "frame = pd.DataFrame()\n",
    "df = pd.DataFrame()"
   ]
  },
  {
   "cell_type": "code",
   "execution_count": 33,
   "metadata": {
    "collapsed": false
   },
   "outputs": [
    {
     "name": "stderr",
     "output_type": "stream",
     "text": [
      "/Users/sanjaykhatri/anaconda/lib/python3.5/site-packages/ipykernel/__main__.py:7: ParserWarning: Falling back to the 'python' engine because the 'c' engine does not support skip_footer; you can avoid this warning by specifying engine='python'.\n"
     ]
    }
   ],
   "source": [
    "for i,file_ in enumerate(allFiles):\n",
    "#    f = open(file_,'r')\n",
    "#     for j,line in enumerate(f):\n",
    "#         if j == 1:\n",
    "#             date = line[14:22]\n",
    "#             break\n",
    "    df = pd.read_csv(file_,index_col = None, header=None, skiprows = 10, skipfooter = 1, delimiter = '\\t')\n",
    "#     frame[file_] = df[5]\n",
    "    df['file']=file_\n",
    "    df['timeDelay']= df[1]\n",
    "    df['PDvalue'] = df[3]\n",
    "#     df['date']=date\n",
    "    if i < 1:\n",
    "        frame = df\n",
    "    else:\n",
    "        frame = frame.append(df)"
   ]
  },
  {
   "cell_type": "code",
   "execution_count": 34,
   "metadata": {
    "collapsed": true
   },
   "outputs": [],
   "source": [
    "c = 3*10**11; #Speed of Light in mm/s, Going to use this to convert spatial information to time. \n",
    "T1 = (718*0.000125 + 0.0229)*2*25.4/(10**-12*c)\n",
    "def ConvertToTimeDelay(x,itr,offset):\n",
    "    c = 3*10**11\n",
    "    timeDelay = []\n",
    "    for i in range(0,len(x)):\n",
    "        timedelay = -((x[i]*itr + offset)*25.4*2/(10**-12*c))+T1\n",
    "        timeDelay.append(timedelay)\n",
    "    return(timeDelay)"
   ]
  },
  {
   "cell_type": "code",
   "execution_count": 35,
   "metadata": {
    "collapsed": true
   },
   "outputs": [],
   "source": [
    "times = pd.Series()\n",
    "PDvalues = pd.Series()\n",
    "AvgPD50 = pd.Series()\n",
    "itr = 0.000125\n",
    "offset = 0.023\n",
    "for i in range(0,200):\n",
    "    time = frame[1][i]\n",
    "    PDvalue = frame[3][i]\n",
    "    times = times.append(time)\n",
    "    PDvalues = PDvalues.append(PDvalue)\n",
    "#print(len(PDvalues))\n",
    "    \n",
    "times = times.values.reshape(200,len(allFiles))\n",
    "PDvalues = PDvalues.values.reshape(200,len(allFiles)) \n",
    "timeDelay = ConvertToTimeDelay(times,itr,offset) # function converts to timedelay\n",
    "MeanPD = PDvalues.mean(axis = 0) #Getting mean of all the data\n",
    "StDevPD = PDvalues.std(axis = 0) # Getting Standard Deviation of the data\n",
    "ErrOfMean = (StDevPD)/(200**0.5) # Standard error of mean stdev/sqrt(#ofdatapoints)\n",
    "Background = MeanPD[0] # Background is the last element in the allFiles\n",
    "ActualPD = np.absolute(MeanPD - Background)\n",
    "RealPD = np.delete(ActualPD,0)\n",
    "LogPD = np.log10(RealPD)\n",
    "LaserPower = np.array([98,75,70,60,80,85,90])\n",
    "LogLaser = np.log10(LaserPower)\n",
    "error = np.delete(ErrOfMean,2)"
   ]
  },
  {
   "cell_type": "code",
   "execution_count": 36,
   "metadata": {
    "collapsed": false
   },
   "outputs": [
    {
     "name": "stdout",
     "output_type": "stream",
     "text": [
      "-5.08843452903\n",
      "1.94512665454\n",
      "0.168314400626\n",
      "0.0886909722814\n"
     ]
    }
   ],
   "source": [
    "Delta = len(LogPD)*sum(LogLaser**2) - (sum(LogLaser))**2\n",
    "A = (sum(LogLaser**2)*sum(LogPD) - sum(LogLaser)*sum(LogLaser*LogPD))/Delta\n",
    "B = (len(LogPD)*sum(LogLaser*LogPD) - (sum(LogPD)*sum(LogLaser)))/Delta\n",
    "# Least Squares Fitting Parameters above\n",
    "print(A)\n",
    "print(B)\n",
    "# Errors in Least Squares Plotting\n",
    "err = (((len(LogPD)-2)**-1) * sum((LogPD - A -B*LogLaser)**2)**0.5)\n",
    "errorA = err*(sum(LogLaser**2)/Delta)**0.5\n",
    "errorB = err*(len(LogPD)/Delta)**0.5\n",
    "print(errorA)\n",
    "print(errorB)\n"
   ]
  },
  {
   "cell_type": "code",
   "execution_count": 37,
   "metadata": {
    "collapsed": false
   },
   "outputs": [
    {
     "name": "stdout",
     "output_type": "stream",
     "text": [
      "[-1.44362619 -1.44192482 -1.44022344 -1.43852206 -1.43682069 -1.43511931\n",
      " -1.43341793 -1.43171656 -1.43001518 -1.42831381 -1.42661243 -1.42491105\n",
      " -1.42320968 -1.4215083  -1.41980693 -1.41810555 -1.41640417 -1.4147028\n",
      " -1.41300142 -1.41130004 -1.40959867 -1.40789729 -1.40619592 -1.40449454\n",
      " -1.40279316 -1.40109179 -1.39939041 -1.39768904 -1.39598766 -1.39428628\n",
      " -1.39258491 -1.39088353 -1.38918215 -1.38748078 -1.3857794  -1.38407803\n",
      " -1.38237665 -1.38067527 -1.3789739  -1.37727252 -1.37557115 -1.37386977\n",
      " -1.37216839 -1.37046702 -1.36876564 -1.36706426 -1.36536289 -1.36366151\n",
      " -1.36196014 -1.36025876 -1.35855738 -1.35685601 -1.35515463 -1.35345325\n",
      " -1.35175188 -1.3500505  -1.34834913 -1.34664775 -1.34494637 -1.343245\n",
      " -1.34154362 -1.33984225 -1.33814087 -1.33643949 -1.33473812 -1.33303674\n",
      " -1.33133536 -1.32963399 -1.32793261 -1.32623124 -1.32452986 -1.32282848\n",
      " -1.32112711 -1.31942573 -1.31772436 -1.31602298 -1.3143216  -1.31262023\n",
      " -1.31091885 -1.30921747 -1.3075161  -1.30581472 -1.30411335 -1.30241197\n",
      " -1.30071059 -1.29900922 -1.29730784 -1.29560647 -1.29390509 -1.29220371\n",
      " -1.29050234 -1.28880096 -1.28709958 -1.28539821 -1.28369683 -1.28199546\n",
      " -1.28029408 -1.2785927  -1.27689133 -1.27518995]\n",
      " \n",
      "2.127 x - 5.432\n"
     ]
    }
   ],
   "source": [
    "fit = np.polyfit(LogLaser,LogPD,1,w=error/(log(10)*RealPD))\n",
    "f = np.poly1d(fit)\n",
    "pPower = np.linspace(LogLaser[1],LogLaser[-1],100)\n",
    "f_new = f(pPower)\n",
    "print(f_new)\n",
    "print(f)"
   ]
  },
  {
   "cell_type": "code",
   "execution_count": 44,
   "metadata": {
    "collapsed": false
   },
   "outputs": [],
   "source": [
    "plt.plot(LogLaser, B*LogLaser + A, 'k',label = 'Fit: y = 1.945x-5.09')\n",
    "plt.plot(LogLaser,LogPD,'b*',label = 'Data')\n",
    "plt.plot()\n",
    "plt.grid(True)\n",
    "plt.xlabel('Log(Laser Power)')\n",
    "plt.ylabel('Log(PMT Signal)')\n",
    "plt.legend(loc = 'upper left')\n",
    "#plt.show()\n",
    "plt.savefig('LaserVsPMTSignal_07_09_2017.png')"
   ]
  },
  {
   "cell_type": "code",
   "execution_count": null,
   "metadata": {
    "collapsed": true
   },
   "outputs": [],
   "source": []
  }
 ],
 "metadata": {
  "kernelspec": {
   "display_name": "Python 3",
   "language": "python",
   "name": "python3"
  },
  "language_info": {
   "codemirror_mode": {
    "name": "ipython",
    "version": 3
   },
   "file_extension": ".py",
   "mimetype": "text/x-python",
   "name": "python",
   "nbconvert_exporter": "python",
   "pygments_lexer": "ipython3",
   "version": "3.5.1"
  }
 },
 "nbformat": 4,
 "nbformat_minor": 0
}
