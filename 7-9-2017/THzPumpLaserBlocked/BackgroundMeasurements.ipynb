{
 "cells": [
  {
   "cell_type": "code",
   "execution_count": 1,
   "metadata": {
    "collapsed": true
   },
   "outputs": [],
   "source": [
    "import matplotlib.pyplot as plt\n",
    "import numpy as np\n",
    "import pandas as pd\n",
    "from pandas import Series, DataFrame\n",
    "import glob\n",
    "import os"
   ]
  },
  {
   "cell_type": "code",
   "execution_count": 2,
   "metadata": {
    "collapsed": false
   },
   "outputs": [
    {
     "name": "stdout",
     "output_type": "stream",
     "text": [
      "['RealBackground1_07092017.txt', 'RealBackground2_07092017.txt', 'RealBackground3_07092017.txt', 'RealBackground4_07092017.txt', 'RealBackground5_07092017.txt', 'RealBackground6_07092017.txt', 'RealBackground7_07092017.txt', 'RealBackground8_07092017.txt', 'RealBackground9_07092017.txt', 'RealBackground10_07092017.txt', 'RealBackground_Al_1_07092017.txt', 'RealBackground_Al_2_07092017.txt', 'RealBackground_Al_3_07092017.txt', 'RealBackground_Al_4_07092017.txt', 'RealBackground_Al_5_07092017.txt', 'RealBackground_Al_6_07092017.txt', 'RealBackground_Al_7_07092017.txt', 'RealBackground_Al_8_07092017.txt', 'RealBackground_Al_9_07092017.txt', 'RealBackground_Al_10_07092017.txt']\n"
     ]
    }
   ],
   "source": [
    "allFiles = sorted(glob.glob(\"*.txt\"),key=os.path.getmtime) # includes all files into a single stucture,\n",
    "# Sorted by modification time so that the first measurement is first...\n",
    "print(allFiles)"
   ]
  },
  {
   "cell_type": "code",
   "execution_count": 3,
   "metadata": {
    "collapsed": true
   },
   "outputs": [],
   "source": [
    "frame = pd.DataFrame()\n",
    "df = pd.DataFrame()"
   ]
  },
  {
   "cell_type": "code",
   "execution_count": 4,
   "metadata": {
    "collapsed": false
   },
   "outputs": [
    {
     "name": "stderr",
     "output_type": "stream",
     "text": [
      "/Users/sanjaykhatri/anaconda/lib/python3.5/site-packages/ipykernel/__main__.py:7: ParserWarning: Falling back to the 'python' engine because the 'c' engine does not support skip_footer; you can avoid this warning by specifying engine='python'.\n"
     ]
    }
   ],
   "source": [
    "for i,file_ in enumerate(allFiles):\n",
    "#    f = open(file_,'r')\n",
    "#     for j,line in enumerate(f):\n",
    "#         if j == 1:\n",
    "#             date = line[14:22]\n",
    "#             break\n",
    "    df = pd.read_csv(file_,index_col = None, header=None, skiprows = 10, skipfooter = 1, delimiter = '\\t')\n",
    "#     frame[file_] = df[5]\n",
    "    df['file']=file_\n",
    "    df['timeDelay']= df[1]\n",
    "    df['PDvalue'] = df[3]\n",
    "#     df['date']=date\n",
    "    if i < 1:\n",
    "        frame = df\n",
    "    else:\n",
    "        frame = frame.append(df)"
   ]
  },
  {
   "cell_type": "code",
   "execution_count": 5,
   "metadata": {
    "collapsed": true
   },
   "outputs": [],
   "source": [
    "c = 3*10**11; #Speed of Light in mm/s, Going to use this to convert spatial information to time. \n",
    "T1 = (417*0.000125 + 0.0229)*2*25.4/(10**-12*c)\n",
    "def ConvertToTimeDelay(x,itr,offset):\n",
    "    c = 3*10**11\n",
    "    timeDelay2 = []\n",
    "    for i in range(0,len(x)):\n",
    "        timedelay = -((x[i,0]*itr + offset)*25.4*2/(10**-12*c))+T1\n",
    "        timeDelay2.append(timedelay)\n",
    "    return(timeDelay2)"
   ]
  },
  {
   "cell_type": "code",
   "execution_count": null,
   "metadata": {
    "collapsed": false
   },
   "outputs": [],
   "source": [
    "PDvalues = pd.Series()\n",
    "times2 = pd.Series()\n",
    "PDvalues2 = pd.Series()\n",
    "AvgPD10_2 = pd.Series()\n",
    "itr = 0.000125\n",
    "offset = 0.023\n",
    "for i in range(0,900):    \n",
    "    time = frame[1][i]\n",
    "    times2 = times2.append(time)\n",
    "    PDvalue = frame[3][i]\n",
    "    PDvalues = PDvalues.append(PDvalue)\n",
    "#print(len(PDvalues)) \n",
    "PDvalues = PDvalues.values.reshape(900, len(allFiles))\n",
    "PDvaluesTHzBlocked = PDvalues[:,1:10].astype(np.float)\n",
    "PDvaluesTHzBlockedAl = PDvalues[:,11:20].astype(np.float)\n",
    "times2 = times2.values.reshape(900,len(allFiles)) \n",
    "\n",
    "timeDelay2 = ConvertToTimeDelay(times2,itr,offset) # function converts to timedelay\n",
    "#print(timeDelay2)\n",
    "\n",
    "\n",
    "# PDvalues2 = PDvalues2.astype(np.float) #Ensures all the values are floats so that I can plot them!\n",
    "AvgTHzBlocked = PDvaluesTHzBlocked.mean(axis = 1)\n",
    "AvgPD_THzBlockedAl = PDvaluesTHzBlockedAl.mean(axis = 1)\n",
    "#print(len(timeDelay2))\n",
    "label1 = 'THz pump Laser blocked'\n",
    "label2 = 'THz blocked with Al'\n",
    "plt.plot(timeDelay2,AvgTHzBlocked,'r.',label = label1)\n",
    "plt.plot(timeDelay2,AvgPD_THzBlockedAl,'b.',label = label2)\n",
    "plt.xlabel('Stage Delay (ps)')\n",
    "plt.ylabel('PD Signal (arb)')\n",
    "plt.legend(loc = 'center')\n",
    "plt.grid(True)\n",
    "plt.show()"
   ]
  },
  {
   "cell_type": "code",
   "execution_count": null,
   "metadata": {
    "collapsed": true
   },
   "outputs": [],
   "source": []
  }
 ],
 "metadata": {
  "kernelspec": {
   "display_name": "Python 3",
   "language": "python",
   "name": "python3"
  },
  "language_info": {
   "codemirror_mode": {
    "name": "ipython",
    "version": 3
   },
   "file_extension": ".py",
   "mimetype": "text/x-python",
   "name": "python",
   "nbconvert_exporter": "python",
   "pygments_lexer": "ipython3",
   "version": "3.5.1"
  }
 },
 "nbformat": 4,
 "nbformat_minor": 0
}
