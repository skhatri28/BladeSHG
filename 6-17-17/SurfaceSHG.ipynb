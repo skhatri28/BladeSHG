{
 "cells": [
  {
   "cell_type": "code",
   "execution_count": 3,
   "metadata": {
    "collapsed": true
   },
   "outputs": [],
   "source": [
    "import matplotlib.pyplot as plt\n",
    "import numpy as np\n",
    "import pandas as pd\n",
    "from pandas import Series, DataFrame\n",
    "import glob\n",
    "import os"
   ]
  },
  {
   "cell_type": "code",
   "execution_count": 4,
   "metadata": {
    "collapsed": false
   },
   "outputs": [
    {
     "name": "stdout",
     "output_type": "stream",
     "text": [
      "['SurfaceSHG1.txt', 'SurfaceSHG2.txt', 'SurfaceSHG3.txt', 'SurfaceSHG4.txt', 'SurfaceSHG5.txt', 'background1.txt', 'background2.txt', 'background3.txt', 'background4.txt', 'background5.txt']\n"
     ]
    }
   ],
   "source": [
    "allFiles = sorted(glob.glob(\"*.txt\")) # includes all files into a single stucture,\n",
    "# Sorted by modification time so that the first measurement is first...\n",
    "allFiles1 = allFiles[:][5]\n",
    "allFiles2 = allFiles[:][6:]\n",
    "print(allFiles)"
   ]
  },
  {
   "cell_type": "code",
   "execution_count": 5,
   "metadata": {
    "collapsed": true
   },
   "outputs": [],
   "source": [
    "frame = pd.DataFrame()\n",
    "df = pd.DataFrame()"
   ]
  },
  {
   "cell_type": "code",
   "execution_count": 6,
   "metadata": {
    "collapsed": false
   },
   "outputs": [
    {
     "name": "stderr",
     "output_type": "stream",
     "text": [
      "/Users/sanjaykhatri/anaconda/lib/python3.5/site-packages/ipykernel/__main__.py:7: ParserWarning: Falling back to the 'python' engine because the 'c' engine does not support skip_footer; you can avoid this warning by specifying engine='python'.\n"
     ]
    }
   ],
   "source": [
    "for i,file_ in enumerate(allFiles):\n",
    "#    f = open(file_,'r')\n",
    "#     for j,line in enumerate(f):\n",
    "#         if j == 1:\n",
    "#             date = line[14:22]\n",
    "#             break\n",
    "    df = pd.read_csv(file_,index_col = None, header=None, skiprows = 10, skipfooter = 1, delimiter = '\\t')\n",
    "#     frame[file_] = df[5]\n",
    "    df['file']=file_\n",
    "    df['timeDelay']= df[1]\n",
    "    df['PDvalue'] = df[3]\n",
    "#     df['date']=date\n",
    "    if i < 1:\n",
    "        frame = df\n",
    "    else:\n",
    "        frame = frame.append(df)"
   ]
  },
  {
   "cell_type": "code",
   "execution_count": 9,
   "metadata": {
    "collapsed": true
   },
   "outputs": [],
   "source": [
    "c = 3*10**11; #Speed of Light in mm/s, Going to use this to convert spatial information to time. \n",
    "T1 = (499*0.000125 + 0.0229)*2*25.4/(10**-12*c)\n",
    "def ConvertToTimeDelay(x,itr,offset):\n",
    "    c = 3*10**11\n",
    "    timeDelay = []\n",
    "    for i in range(0,len(x)):\n",
    "        timedelay = ((x[i]*itr + offset)*25.4*2/(10**-12*c))-T1\n",
    "        timeDelay.append(timedelay)\n",
    "    return(timeDelay)"
   ]
  },
  {
   "cell_type": "code",
   "execution_count": 10,
   "metadata": {
    "collapsed": false
   },
   "outputs": [],
   "source": [
    "times = pd.Series()\n",
    "PDvalues = pd.Series()\n",
    "itr = 0.000125\n",
    "offset = 0.023\n",
    "#print(frame)\n",
    "for i in range(0,400):\n",
    "    time = frame[1][i]\n",
    "    PDvalue = frame[3][i]\n",
    "    times = times.append(time)\n",
    "    PDvalues = PDvalues.append(PDvalue)\n",
    "    \n",
    "times = times.values.reshape(400,len(allFiles))\n",
    "PDvalues = PDvalues.values.reshape(400,len(allFiles)) # Reshapes the dataset so that it is (900,?) to average each row\n",
    "timeDelay = ConvertToTimeDelay(times,itr,offset) #Converts Datapoint number to timeDelay\n",
    "PDvalues = PDvalues.astype(np.float) #Ensures all the values are floats so that I can plot them!\n",
    "AveragedSHG = PDvalues[:,:5].mean(axis=1)\n",
    "AveragedBackground = PDvalues[:,5:].mean(axis=1)"
   ]
  },
  {
   "cell_type": "code",
   "execution_count": 59,
   "metadata": {
    "collapsed": true
   },
   "outputs": [],
   "source": [
    "#extraticks = [-10,-9,-8,-7,-6,-5,-4, -3, -2, -1, 1, 2, 3, 4,5,6,7,8,9,10]\n",
    "plt.plot(times[:,1],AveragedSHG,'b.',label = 'SHG')\n",
    "plt.plot(times[:,1],AveragedBackground,'r.',label = 'Background')\n",
    "plt.xlabel('Data Point Number')\n",
    "plt.ylabel('PD Signal (arb)')\n",
    "plt.grid(True)\n",
    "#plt.xticks(list(plt.xticks()[0]) + extraticks)\n",
    "#plt.xlim(-11,11)\n",
    "plt.legend(loc = 'upper center')\n",
    "#plt.show()\n",
    "plt.savefig('SHG_Measurement_Ag_Mirror.png')"
   ]
  },
  {
   "cell_type": "code",
   "execution_count": null,
   "metadata": {
    "collapsed": true
   },
   "outputs": [],
   "source": []
  }
 ],
 "metadata": {
  "kernelspec": {
   "display_name": "Python 3",
   "language": "python",
   "name": "python3"
  },
  "language_info": {
   "codemirror_mode": {
    "name": "ipython",
    "version": 3
   },
   "file_extension": ".py",
   "mimetype": "text/x-python",
   "name": "python",
   "nbconvert_exporter": "python",
   "pygments_lexer": "ipython3",
   "version": "3.5.1"
  }
 },
 "nbformat": 4,
 "nbformat_minor": 0
}
