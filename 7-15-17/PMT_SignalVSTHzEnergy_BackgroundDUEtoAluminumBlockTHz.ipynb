{
 "cells": [
  {
   "cell_type": "code",
   "execution_count": 1,
   "metadata": {
    "collapsed": true
   },
   "outputs": [],
   "source": [
    "import matplotlib.pyplot as plt\n",
    "import numpy as np\n",
    "import pandas as pd\n",
    "from pandas import Series, DataFrame\n",
    "import glob\n",
    "import os\n",
    "from math import log"
   ]
  },
  {
   "cell_type": "code",
   "execution_count": 2,
   "metadata": {
    "collapsed": false
   },
   "outputs": [
    {
     "name": "stdout",
     "output_type": "stream",
     "text": [
      "['SHG_Signal_280Deg_07152017.txt', 'SHG_Background_280Deg_07152017.txt', 'SHG_Background_275Deg_07152017.txt', 'SHG_Signal_275Deg_07152017.txt', 'SHG_Signal_270Deg_07152017.txt', 'SHG_Background_270Deg_07152017.txt', 'SHG_Background_265Deg_07152017.txt', 'SHG_Signal_265Deg_07152017.txt', 'SHG_Signal_260Deg_07152017.txt', 'SHG_Background_260Deg_07152017.txt', 'SHG2_Signal_280Deg_07152017.txt', 'SHG2_Background_280Deg_07152017.txt', 'SHG2_Background_275Deg_07152017.txt', 'SHG2_Signal_275Deg_07152017.txt', 'SHG2_Signal_270Deg_07152017.txt', 'SHG2_Background_270Deg_07152017.txt', 'SHG2_Background_265Deg_07152017.txt', 'SHG2_Signal_265Deg_07152017.txt', 'SHG2_Signal_260Deg_07152017.txt', 'SHG2_Background_260Deg_07152017.txt', 'SHG3_Signal_280Deg_07152017.txt', 'SHG3_Background_280Deg_07152017.txt', 'SHG3_Background_275Deg_07152017.txt', 'SHG3_Signal_275Deg_07152017.txt', 'SHG3_Signal_270Deg_07152017.txt', 'SHG3_Background_270Deg_07152017.txt', 'SHG3_Background_265Deg_07152017.txt', 'SHG3_Signal_265Deg_07152017.txt', 'SHG3_Signal_260Deg_07152017.txt', 'SHG3_Background_260Deg_07152017.txt', 'SHG4_Siganl_280Deg_07152017.txt', 'SHG4_Background_280Deg_07152017.txt', 'SHG4_Background_275Deg_07152017.txt', 'SHG4_Signal_275Deg_07152017.txt', 'SHG4_Signal_270Deg_07152017.txt', 'SHG4_Background_270Deg_07152017.txt', 'SHG4_Background_265Deg_07152017.txt', 'SHG4_Signal_265Deg_07152017.txt', 'SHG4_Signal_260Deg_07152017.txt', 'SHG4_Background_260Deg_07152017.txt', 'SHG5_Signal_280Deg_07152017.txt', 'SHG5_Background_280Deg_07152017.txt', 'SHG5_Background_275Deg_07152017.txt', 'SHG5_Signal_275Deg_07152017.txt', 'SHG5_Signal_270Deg_07152017.txt', 'SHG5_Background_270Deg_07152017.txt', 'SHG5_Background_265Deg_07152017.txt', 'SHG5_Signal_265Deg_07152017.txt', 'SHG5_Signal_260Deg_07152017.txt', 'SHG5_Background_260Deg_07152017.txt']\n"
     ]
    }
   ],
   "source": [
    "allFiles = sorted(glob.glob(\"*.txt\"),key=os.path.getmtime) # includes all files into a single stucture,\n",
    "# Sorted by modification time so that the first measurement is first...\n",
    "print(allFiles)"
   ]
  },
  {
   "cell_type": "code",
   "execution_count": 3,
   "metadata": {
    "collapsed": true
   },
   "outputs": [],
   "source": [
    "frame = pd.DataFrame()\n",
    "df = pd.DataFrame()"
   ]
  },
  {
   "cell_type": "code",
   "execution_count": 4,
   "metadata": {
    "collapsed": false
   },
   "outputs": [
    {
     "name": "stderr",
     "output_type": "stream",
     "text": [
      "/Users/sanjaykhatri/anaconda/lib/python3.5/site-packages/ipykernel/__main__.py:7: ParserWarning: Falling back to the 'python' engine because the 'c' engine does not support skip_footer; you can avoid this warning by specifying engine='python'.\n"
     ]
    }
   ],
   "source": [
    "for i,file_ in enumerate(allFiles):\n",
    "#    f = open(file_,'r')\n",
    "#     for j,line in enumerate(f):\n",
    "#         if j == 1:\n",
    "#             date = line[14:22]\n",
    "#             break\n",
    "    df = pd.read_csv(file_,index_col = None, header=None, skiprows = 10, skipfooter = 1, delimiter = '\\t')\n",
    "#     frame[file_] = df[5]\n",
    "    df['file']=file_\n",
    "    df['timeDelay']= df[1]\n",
    "    df['PDvalue'] = df[3]\n",
    "#     df['date']=date\n",
    "    if i < 1:\n",
    "        frame = df\n",
    "    else:\n",
    "        frame = frame.append(df)"
   ]
  },
  {
   "cell_type": "code",
   "execution_count": 16,
   "metadata": {
    "collapsed": false
   },
   "outputs": [
    {
     "name": "stdout",
     "output_type": "stream",
     "text": [
      "[-0.171731 -0.159175 -0.141789 -0.126216 -0.127314 -0.173599 -0.158537\n",
      " -0.146416 -0.128574 -0.11295  -0.208744 -0.198064 -0.189898 -0.185754\n",
      " -0.182028 -0.221619 -0.209482 -0.195309 -0.190226 -0.186568 -0.22252\n",
      " -0.21583  -0.193652 -0.183293 -0.183146]\n",
      "[-0.210282 -0.195377 -0.166958 -0.149105 -0.135344 -0.221825 -0.195737\n",
      " -0.165471 -0.142793 -0.120523 -0.228231 -0.22547  -0.210627 -0.196413\n",
      " -0.190032 -0.265726 -0.242723 -0.225024 -0.20539  -0.186622 -0.263358\n",
      " -0.249253 -0.21964  -0.203808 -0.19397 ]\n",
      "[[ -3.85510000e-02  -3.62020000e-02  -2.51690000e-02  -2.28890000e-02\n",
      "   -8.03000000e-03]\n",
      " [ -4.82260000e-02  -3.72000000e-02  -1.90550000e-02  -1.42190000e-02\n",
      "   -7.57300000e-03]\n",
      " [ -1.94870000e-02  -2.74060000e-02  -2.07290000e-02  -1.06590000e-02\n",
      "   -8.00400000e-03]\n",
      " [ -4.41070000e-02  -3.32410000e-02  -2.97150000e-02  -1.51640000e-02\n",
      "   -5.40000000e-05]\n",
      " [ -4.08380000e-02  -3.34230000e-02  -2.59880000e-02  -2.05150000e-02\n",
      "   -1.08240000e-02]]\n"
     ]
    }
   ],
   "source": [
    "times = pd.Series()\n",
    "PDvalues = pd.Series()\n",
    "AvgPD50 = pd.Series()\n",
    "itr = 0.000125\n",
    "offset = 0.023\n",
    "for i in range(0,100):\n",
    "    time = frame[1][i]\n",
    "    PDvalue = frame[3][i]\n",
    "    times = times.append(time)\n",
    "    PDvalues = PDvalues.append(PDvalue)\n",
    "#print(len(PDvalues))\n",
    "PDvalues = PDvalues.values.reshape(100,len(allFiles))\n",
    "Background = np.array([PDvalues[:,1],PDvalues[:,2],PDvalues[:,5],PDvalues[:,6],PDvalues[:,9],\\\n",
    "                       PDvalues[:,11],PDvalues[:,12],PDvalues[:,15],PDvalues[:,16],PDvalues[:,19],\\\n",
    "                       PDvalues[:,21],PDvalues[:,22],PDvalues[:,25],PDvalues[:,26],PDvalues[:,29],\\\n",
    "                       PDvalues[:,31],PDvalues[:,32],PDvalues[:,35],PDvalues[:,36],PDvalues[:,39],\\\n",
    "                       PDvalues[:,41],PDvalues[:,42],PDvalues[:,45],PDvalues[:,46],PDvalues[:,49]])\n",
    "Background_mean = np.mean(Background, axis = 1)\n",
    "PMT_Raw = np.array([PDvalues[:,0],PDvalues[:,3],PDvalues[:,4],PDvalues[:,7],PDvalues[:,8],\\\n",
    "                    PDvalues[:,10],PDvalues[:,13],PDvalues[:,14],PDvalues[:,17],PDvalues[:,18],\\\n",
    "                    PDvalues[:,20],PDvalues[:,23],PDvalues[:,24],PDvalues[:,27],PDvalues[:,28],\\\n",
    "                    PDvalues[:,30],PDvalues[:,33],PDvalues[:,34],PDvalues[:,37],PDvalues[:,38],\\\n",
    "                    PDvalues[:,40],PDvalues[:,43],PDvalues[:,44],PDvalues[:,47],PDvalues[:,48]])\n",
    "MeanPMT1 = np.mean(PMT_Raw,axis = 1)\n",
    "\n",
    "PMT_Net = MeanPMT1 - Background_mean\n",
    "MeanNET = np.reshape(PMT_Net,(5,5)) # As you add more files, change the 4 to the number of runs. 7 is b/c I took 7 different angles\n",
    "MeanNET2 = np.mean(MeanNET,axis =0)\n",
    "THzEnergy = np.array([480,450,390,310,235])\n",
    "PMT_STD = np.std(MeanNET,axis = 0)\n",
    "PMT_Err = PMT_STD/(5**0.5)\n",
    "w = (PMT_Err/(MeanNET2*log(10)))**-2\n",
    "\n",
    "print(Background_mean)\n",
    "print(MeanPMT1)\n",
    "print(MeanNET)\n",
    "#print(PMT_)\n",
    "#print(MeanNET2)\n",
    "LogPMT = np.log10(np.absolute(MeanNET2))\n",
    "LogTHz = np.log10(np.absolute(THzEnergy))\n",
    "\n"
   ]
  },
  {
   "cell_type": "code",
   "execution_count": 11,
   "metadata": {
    "collapsed": false
   },
   "outputs": [
    {
     "name": "stdout",
     "output_type": "stream",
     "text": [
      "[  393.45757589  2554.98953769  1056.64920462   377.23494281    96.68305977]\n",
      "-7.16721321053\n",
      "2.14526127306\n",
      "0.628497463572\n",
      "0.239698571886\n"
     ]
    }
   ],
   "source": [
    "Delta = sum(w)*sum(w*LogTHz**2) - (sum(w*LogTHz))**2\n",
    "A = (sum(w*LogTHz**2)*sum(w*LogPMT) - sum(w*LogTHz)*sum(w*LogTHz*LogPMT))/Delta\n",
    "B = (sum(w)*sum(w*LogTHz*LogPMT) - (sum(w*LogPMT)*sum(w*LogTHz)))/Delta\n",
    "# Least Squares Fitting Parameters above\n",
    "print(w)\n",
    "print(A)\n",
    "print(B)\n",
    "err = (((len(LogPMT)-2)**-1) * sum((LogPMT - A -B*LogTHz)**2)**0.5)\n",
    "errorA = (sum(w*LogTHz**2)/Delta)**0.5\n",
    "errorB = (sum(w)/Delta)**0.5\n",
    "print(errorA)\n",
    "print(errorB)"
   ]
  },
  {
   "cell_type": "code",
   "execution_count": 12,
   "metadata": {
    "collapsed": true
   },
   "outputs": [],
   "source": [
    "plt.plot(LogTHz, A + B*LogTHz,'r',label = 'Fit: y=0.70x -3.13')\n",
    "plt.plot(LogTHz, LogPMT,'b.', label = 'Data')\n",
    "plt.grid(True)\n",
    "plt.xlabel('Log(THz Energy)')\n",
    "plt.ylabel('Log(PMT Signal)')\n",
    "plt.legend(loc = 'upper left')\n",
    "plt.show()"
   ]
  },
  {
   "cell_type": "code",
   "execution_count": null,
   "metadata": {
    "collapsed": true
   },
   "outputs": [],
   "source": []
  }
 ],
 "metadata": {
  "kernelspec": {
   "display_name": "Python 3",
   "language": "python",
   "name": "python3"
  },
  "language_info": {
   "codemirror_mode": {
    "name": "ipython",
    "version": 3
   },
   "file_extension": ".py",
   "mimetype": "text/x-python",
   "name": "python",
   "nbconvert_exporter": "python",
   "pygments_lexer": "ipython3",
   "version": "3.5.1"
  }
 },
 "nbformat": 4,
 "nbformat_minor": 0
}
