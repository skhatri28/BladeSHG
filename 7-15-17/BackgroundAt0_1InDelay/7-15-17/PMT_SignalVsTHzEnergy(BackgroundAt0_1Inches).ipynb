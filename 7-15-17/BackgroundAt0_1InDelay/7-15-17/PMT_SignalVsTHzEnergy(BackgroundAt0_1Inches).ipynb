{
 "cells": [
  {
   "cell_type": "code",
   "execution_count": 1,
   "metadata": {
    "collapsed": true
   },
   "outputs": [],
   "source": [
    "import matplotlib.pyplot as plt\n",
    "import numpy as np\n",
    "import pandas as pd\n",
    "from pandas import Series, DataFrame\n",
    "import glob\n",
    "import os\n",
    "from math import log"
   ]
  },
  {
   "cell_type": "code",
   "execution_count": 2,
   "metadata": {
    "collapsed": false
   },
   "outputs": [
    {
     "name": "stdout",
     "output_type": "stream",
     "text": [
      "['SHG6_Signal_280Deg_07152017.txt', 'SHG6_Background_280Deg_07152017.txt', 'SHG6_Background_275Deg_07152017.txt', 'SHG6_Signal_275Deg_07152017.txt', 'SHG6_Signal_270Deg_07152017.txt', 'SHG6_Background_270Deg_07152017.txt', 'SHG6_Background_265Deg_07152017.txt', 'SHG6_Signal_265Deg_07152017.txt', 'SHG6_Signal_260Deg_07152017.txt', 'SHG6_Background_260Deg_07152017.txt', 'SHG8_Signal_280Deg_071517.txt', 'SHG8_Background_280Deg_071517.txt', 'SHG8_Background_275Deg_071517.txt', 'SHG8_Signal_275Deg_071517.txt', 'SHG8_Signal_270Deg_071517.txt', 'SHG8_Background_270Deg_071517.txt', 'SHG8_Background_265Deg_071517.txt', 'SHG8_Signal_265Deg_071517.txt', 'SHG8_Signal_260Deg_071517.txt', 'SHG8_Background_260Deg_071517.txt', 'SHG9_Signal_280Deg_071517.txt', 'SHG9_Background_280Deg_071517.txt', 'SHG9_Background_275Deg_071517.txt', 'SHG9_Signal_275Deg_071517.txt', 'SHG9_Signal_270Deg_071517.txt', 'SHG9_Background_270Deg_071517.txt', 'SHG9_Background_265Deg_071517.txt', 'SHG9_Signal_265Deg_071517.txt', 'SHG9_Signal_260Deg_071517.txt', 'SHG9_Background_260Deg_071517.txt', 'SHG10_Signal_280Deg_071517.txt', 'SHG10_Background_280Deg_071517.txt', 'SHG10_Background_275Deg_071517.txt', 'SHG10_Signal_275Deg_071517.txt', 'SHG10_Signal_270Deg_071517.txt', 'SHG10_Background_270Deg_071517.txt', 'SHG10_Background_265Deg_071517.txt', 'SHG10_Signal_265Deg_071517.txt', 'SHG10_Signal_260Deg_071517.txt', 'SHG10_Background_260Deg_071517.txt']\n"
     ]
    }
   ],
   "source": [
    "allFiles = sorted(glob.glob(\"*.txt\"),key=os.path.getmtime) # includes all files into a single stucture,\n",
    "# Sorted by modification time so that the first measurement is first...\n",
    "print(allFiles)"
   ]
  },
  {
   "cell_type": "code",
   "execution_count": 3,
   "metadata": {
    "collapsed": true
   },
   "outputs": [],
   "source": [
    "frame = pd.DataFrame()\n",
    "df = pd.DataFrame()"
   ]
  },
  {
   "cell_type": "code",
   "execution_count": 4,
   "metadata": {
    "collapsed": false
   },
   "outputs": [
    {
     "name": "stderr",
     "output_type": "stream",
     "text": [
      "/Users/sanjaykhatri/anaconda/lib/python3.5/site-packages/ipykernel/__main__.py:7: ParserWarning: Falling back to the 'python' engine because the 'c' engine does not support skip_footer; you can avoid this warning by specifying engine='python'.\n"
     ]
    }
   ],
   "source": [
    "for i,file_ in enumerate(allFiles):\n",
    "#    f = open(file_,'r')\n",
    "#     for j,line in enumerate(f):\n",
    "#         if j == 1:\n",
    "#             date = line[14:22]\n",
    "#             break\n",
    "    df = pd.read_csv(file_,index_col = None, header=None, skiprows = 10, skipfooter = 1, delimiter = '\\t')\n",
    "#     frame[file_] = df[5]\n",
    "    df['file']=file_\n",
    "    df['timeDelay']= df[1]\n",
    "    df['PDvalue'] = df[3]\n",
    "#     df['date']=date\n",
    "    if i < 1:\n",
    "        frame = df\n",
    "    else:\n",
    "        frame = frame.append(df)"
   ]
  },
  {
   "cell_type": "code",
   "execution_count": 11,
   "metadata": {
    "collapsed": false
   },
   "outputs": [
    {
     "name": "stdout",
     "output_type": "stream",
     "text": [
      "[-0.213218 -0.203608 -0.182045 -0.167559 -0.165341 -0.20669  -0.201066\n",
      " -0.178634 -0.165596 -0.162331 -0.2021   -0.195527 -0.177865 -0.164973\n",
      " -0.158883 -0.193835 -0.186189 -0.174739 -0.15746  -0.154295]\n",
      "[-0.255404 -0.237056 -0.211195 -0.19151  -0.177099 -0.246076 -0.232554\n",
      " -0.208632 -0.184352 -0.170049 -0.24097  -0.22349  -0.199314 -0.175269\n",
      " -0.16549  -0.237186 -0.220926 -0.199057 -0.173668 -0.158505]\n",
      "[[-0.042186 -0.033448 -0.02915  -0.023951 -0.011758]\n",
      " [-0.039386 -0.031488 -0.029998 -0.018756 -0.007718]\n",
      " [-0.03887  -0.027963 -0.021449 -0.010296 -0.006607]\n",
      " [-0.043351 -0.034737 -0.024318 -0.016208 -0.00421 ]]\n"
     ]
    }
   ],
   "source": [
    "times = pd.Series()\n",
    "PDvalues = pd.Series()\n",
    "AvgPD50 = pd.Series()\n",
    "itr = 0.000125\n",
    "offset = 0.023\n",
    "for i in range(0,100):\n",
    "    time = frame[1][i]\n",
    "    PDvalue = frame[3][i]\n",
    "    times = times.append(time)\n",
    "    PDvalues = PDvalues.append(PDvalue)\n",
    "#print(len(PDvalues))\n",
    "PDvalues = PDvalues.values.reshape(100,len(allFiles))\n",
    "Background = np.array([PDvalues[:,1],PDvalues[:,2],PDvalues[:,5],PDvalues[:,6],PDvalues[:,9],\\\n",
    "                       PDvalues[:,11],PDvalues[:,12],PDvalues[:,15],PDvalues[:,16],PDvalues[:,19],\\\n",
    "                       PDvalues[:,21],PDvalues[:,22],PDvalues[:,25],PDvalues[:,26],PDvalues[:,29],\\\n",
    "                       PDvalues[:,31],PDvalues[:,32],PDvalues[:,35],PDvalues[:,36],PDvalues[:,39]])\n",
    "Background_mean = np.mean(Background, axis = 1)\n",
    "PMT_Raw = np.array([PDvalues[:,0],PDvalues[:,3],PDvalues[:,4],PDvalues[:,7],PDvalues[:,8],\\\n",
    "                    PDvalues[:,10],PDvalues[:,13],PDvalues[:,14],PDvalues[:,17],PDvalues[:,18],\\\n",
    "                    PDvalues[:,20],PDvalues[:,23],PDvalues[:,24],PDvalues[:,27],PDvalues[:,28],\\\n",
    "                    PDvalues[:,30],PDvalues[:,33],PDvalues[:,34],PDvalues[:,37],PDvalues[:,38]])\n",
    "MeanPMT1 = np.mean(PMT_Raw,axis = 1)\n",
    "\n",
    "PMT_Net = MeanPMT1 - Background_mean\n",
    "MeanNET = np.reshape(PMT_Net,(4,5)) # As you add more files, change the 4 to the number of runs. 7 is b/c I took 7 different angles\n",
    "MeanNET2 = np.mean(MeanNET,axis =0)\n",
    "THzEnergy = np.array([480,450,390,310,235])\n",
    "PMT_STD = np.std(MeanNET,axis = 0)\n",
    "PMT_Err = PMT_STD/(4**0.5)\n",
    "w = (PMT_Err/(MeanNET2*log(10)))**-2\n",
    "\n",
    "print(Background_mean)\n",
    "print(MeanPMT1)\n",
    "print(MeanNET)\n",
    "#print(PMT_)\n",
    "#print(MeanNET2)\n",
    "LogPMT = np.log10(np.absolute(MeanNET2))\n",
    "LogTHz = np.log10(np.absolute(THzEnergy))"
   ]
  },
  {
   "cell_type": "code",
   "execution_count": 12,
   "metadata": {
    "collapsed": false
   },
   "outputs": [
    {
     "name": "stdout",
     "output_type": "stream",
     "text": [
      "[ 10113.06759779   3307.50105245   1185.24143249    262.89702831\n",
      "    163.38714081]\n",
      "-7.40476957347\n",
      "2.24081122107\n",
      "0.474694446019\n",
      "0.178344947375\n"
     ]
    }
   ],
   "source": [
    "Delta = sum(w)*sum(w*LogTHz**2) - (sum(w*LogTHz))**2\n",
    "A = (sum(w*LogTHz**2)*sum(w*LogPMT) - sum(w*LogTHz)*sum(w*LogTHz*LogPMT))/Delta\n",
    "B = (sum(w)*sum(w*LogTHz*LogPMT) - (sum(w*LogPMT)*sum(w*LogTHz)))/Delta\n",
    "# Least Squares Fitting Parameters above\n",
    "print(w)\n",
    "print(A)\n",
    "print(B)\n",
    "err = (((len(LogPMT)-2)**-1) * sum((LogPMT - A -B*LogTHz)**2)**0.5)\n",
    "errorA = (sum(w*LogTHz**2)/Delta)**0.5\n",
    "errorB = (sum(w)/Delta)**0.5\n",
    "print(errorA)\n",
    "print(errorB)"
   ]
  },
  {
   "cell_type": "code",
   "execution_count": 13,
   "metadata": {
    "collapsed": true
   },
   "outputs": [],
   "source": [
    "plt.plot(LogTHz, A + B*LogTHz,'r',label = 'Fit: y=2.24x -7.40')\n",
    "plt.plot(LogTHz, LogPMT,'b.', label = 'Data')\n",
    "plt.grid(True)\n",
    "plt.xlabel('Log(THz Energy)')\n",
    "plt.ylabel('Log(PMT Signal)')\n",
    "plt.legend(loc = 'upper left')\n",
    "plt.show()\n",
    "#plt.savefig('PMTSignalVsTHzEnergy_07152017.png')"
   ]
  },
  {
   "cell_type": "code",
   "execution_count": null,
   "metadata": {
    "collapsed": true
   },
   "outputs": [],
   "source": []
  }
 ],
 "metadata": {
  "kernelspec": {
   "display_name": "Python 3",
   "language": "python",
   "name": "python3"
  },
  "language_info": {
   "codemirror_mode": {
    "name": "ipython",
    "version": 3
   },
   "file_extension": ".py",
   "mimetype": "text/x-python",
   "name": "python",
   "nbconvert_exporter": "python",
   "pygments_lexer": "ipython3",
   "version": "3.5.1"
  }
 },
 "nbformat": 4,
 "nbformat_minor": 0
}
