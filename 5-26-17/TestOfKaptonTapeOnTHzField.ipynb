{
 "cells": [
  {
   "cell_type": "code",
   "execution_count": 1,
   "metadata": {
    "collapsed": true
   },
   "outputs": [],
   "source": [
    "import matplotlib.pyplot as plt\n",
    "import numpy as np\n",
    "import scipy as sy\n",
    "from scipy import stats\n",
    "import pylab\n",
    "import re"
   ]
  },
  {
   "cell_type": "code",
   "execution_count": 20,
   "metadata": {
    "collapsed": true
   },
   "outputs": [],
   "source": [
    "c = 3*10**11; #Speed of Light in mm/s, Going to use this to convert spatial information to time. \n",
    "T1 = (499*0.000125 + 0.0230)*2*25.4/(10**-12*c)\n",
    "with open ('NoKapton_Polarization0Degrees_Copy.txt','r') as f:\n",
    "    times1=[];\n",
    "    PDvalue1 = [];\n",
    "    for line in f:\n",
    "        line = line.strip()\n",
    "        if line:\n",
    "            data = line.split()\n",
    "            times1.append((float(data[0])*0.000125 + 0.0230)*25.4*2/(10**-12*c)-T1) # Here I did a linear extrapolation. \n",
    "                                                                                  # Refer to labbook for more information. \n",
    "            PDvalue1.append(float(data[1]))\n",
    "extraticks = [-10,-9,-8,-7,-6,-5,-4, -3, -2, -1, 1, 2, 3, 4,5,6,7,8,9,10]\n",
    "plt.plot(times1,PDvalue1,'k')\n",
    "plt.xlabel('Stage Position (ps)')\n",
    "plt.ylabel('PD Signal (arb)')\n",
    "plt.grid(True)\n",
    "plt.xticks(list(plt.xticks()[0]) + extraticks)\n",
    "plt.xlim(-10,10)\n",
    "plt.show()"
   ]
  },
  {
   "cell_type": "code",
   "execution_count": 3,
   "metadata": {
    "collapsed": false
   },
   "outputs": [
    {
     "data": {
      "text/plain": [
       "499"
      ]
     },
     "execution_count": 3,
     "metadata": {},
     "output_type": "execute_result"
    }
   ],
   "source": [
    "PDvalue1.index(max(PDvalue1))"
   ]
  },
  {
   "cell_type": "code",
   "execution_count": 17,
   "metadata": {
    "collapsed": true
   },
   "outputs": [],
   "source": [
    "c = 3*10**11; #Speed of Light in mm/s, Going to use this to convert spatial information to time. \n",
    "T2 = (497*0.000124 + 0.0225)*2*25.4/(10**-12*c)\n",
    "with open ('NoKapton_Polarization90Degrees_Copy.txt','r') as f:\n",
    "    times2=[];\n",
    "    PDvalue2 = [];\n",
    "    for line in f:\n",
    "        line = line.strip()\n",
    "        if line:\n",
    "            data = line.split()\n",
    "            times2.append((float(data[0])*0.000124 + 0.0225)*25.4*2/(10**-12*c)-T2) # Here I did a linear extrapolation. \n",
    "                                                                                  # Refer to labbook for more information. \n",
    "            PDvalue2.append(float(data[1]))\n",
    "extraticks = [-10,-9,-8,-7,-6,-5,-4, -3, -2, -1, 1, 2, 3, 4,5,6,7,8,9,10]\n",
    "plt.plot(times2,PDvalue2,'r')\n",
    "plt.xlabel('Stage Position (ps)')\n",
    "plt.ylabel('PD Signal (arb)')\n",
    "plt.grid(True)\n",
    "plt.xticks(list(plt.xticks()[0]) + extraticks)\n",
    "plt.xlim(-10,10)\n",
    "plt.show()"
   ]
  },
  {
   "cell_type": "code",
   "execution_count": 9,
   "metadata": {
    "collapsed": false
   },
   "outputs": [
    {
     "data": {
      "text/plain": [
       "497"
      ]
     },
     "execution_count": 9,
     "metadata": {},
     "output_type": "execute_result"
    }
   ],
   "source": [
    "PDvalue2.index(max(PDvalue2))"
   ]
  },
  {
   "cell_type": "code",
   "execution_count": 18,
   "metadata": {
    "collapsed": true
   },
   "outputs": [],
   "source": [
    "c = 3*10**11; #Speed of Light in mm/s, Going to use this to convert spatial information to time. \n",
    "T3 = (510*0.000124 + 0.022487)*2*25.4/(10**-12*c)\n",
    "with open ('1milKapton_Polarization0Degrees_Copy.txt','r') as f:\n",
    "    times3=[];\n",
    "    PDvalue3 = [];\n",
    "    for line in f:\n",
    "        line = line.strip()\n",
    "        if line:\n",
    "            data = line.split()\n",
    "            times3.append((float(data[0])*0.000124 + 0.022487)*25.4*2/(10**-12*c)-T3) # Here I did a linear extrapolation. \n",
    "                                                                                  # Refer to labbook for more information. \n",
    "            PDvalue3.append(float(data[1]))\n",
    "extraticks = [-10,-9,-8,-7,-6,-5,-4, -3, -2, -1, 1, 2, 3, 4,5,6,7,8,9,10]\n",
    "plt.plot(times3,PDvalue3,'k')\n",
    "plt.xlabel('Stage Position (ps)')\n",
    "plt.ylabel('PD Signal (arb)')\n",
    "plt.grid(True)\n",
    "plt.xticks(list(plt.xticks()[0]) + extraticks)\n",
    "plt.xlim(-10,10)\n",
    "plt.show()"
   ]
  },
  {
   "cell_type": "code",
   "execution_count": 14,
   "metadata": {
    "collapsed": false
   },
   "outputs": [
    {
     "data": {
      "text/plain": [
       "510"
      ]
     },
     "execution_count": 14,
     "metadata": {},
     "output_type": "execute_result"
    }
   ],
   "source": [
    "PDvalue3.index(max(PDvalue3))"
   ]
  },
  {
   "cell_type": "code",
   "execution_count": 23,
   "metadata": {
    "collapsed": true
   },
   "outputs": [],
   "source": [
    "c = 3*10**11; #Speed of Light in mm/s, Going to use this to convert spatial information to time. \n",
    "T4 = (507*0.000124 + 0.0230)*2*25.4/(10**-12*c)\n",
    "with open ('1milKapton_Polarization90Degrees_Copy.txt','r') as f:\n",
    "    times4=[];\n",
    "    PDvalue4 = [];\n",
    "    for line in f:\n",
    "        line = line.strip()\n",
    "        if line:\n",
    "            data = line.split()\n",
    "            times4.append((float(data[0])*0.000124 + 0.0230)*25.4*2/(10**-12*c)-T4) # Here I did a linear extrapolation. \n",
    "                                                                                  # Refer to labbook for more information. \n",
    "            PDvalue4.append(float(data[1]))\n",
    "extraticks = [-10,-9,-8,-7,-6,-5,-4, -3, -2, -1, 1, 2, 3, 4,5,6,7,8,9,10]\n",
    "plt.plot(times4,PDvalue4,'r')\n",
    "plt.xlabel('Stage Position (ps)')\n",
    "plt.ylabel('PD Signal (arb)')\n",
    "plt.grid(True)\n",
    "plt.xticks(list(plt.xticks()[0]) + extraticks)\n",
    "plt.xlim(-10,10)\n",
    "plt.show()"
   ]
  },
  {
   "cell_type": "code",
   "execution_count": 22,
   "metadata": {
    "collapsed": false
   },
   "outputs": [
    {
     "data": {
      "text/plain": [
       "507"
      ]
     },
     "execution_count": 22,
     "metadata": {},
     "output_type": "execute_result"
    }
   ],
   "source": [
    "PDvalue4.index(max(PDvalue4))"
   ]
  },
  {
   "cell_type": "code",
   "execution_count": 26,
   "metadata": {
    "collapsed": true
   },
   "outputs": [],
   "source": [
    "c = 3*10**11; #Speed of Light in mm/s, Going to use this to convert spatial information to time. \n",
    "T5 = (497*0.000124 + 0.0230)*2*25.4/(10**-12*c)\n",
    "with open ('2milKapton_Polarization0Degrees_Copy.txt','r') as f:\n",
    "    times5=[];\n",
    "    PDvalue5 = [];\n",
    "    for line in f:\n",
    "        line = line.strip()\n",
    "        if line:\n",
    "            data = line.split()\n",
    "            times5.append((float(data[0])*0.000124 + 0.0230)*25.4*2/(10**-12*c)-T5) # Here I did a linear extrapolation. \n",
    "                                                                                  # Refer to labbook for more information. \n",
    "            PDvalue5.append(float(data[1]))\n",
    "extraticks = [-10,-9,-8,-7,-6,-5,-4, -3, -2, -1, 1, 2, 3, 4,5,6,7,8,9,10]\n",
    "plt.plot(times5,PDvalue5,'k')\n",
    "plt.xlabel('Stage Position (ps)')\n",
    "plt.ylabel('PD Signal (arb)')\n",
    "plt.grid(True)\n",
    "plt.xticks(list(plt.xticks()[0]) + extraticks)\n",
    "plt.xlim(-10,10)\n",
    "plt.show()"
   ]
  },
  {
   "cell_type": "code",
   "execution_count": 25,
   "metadata": {
    "collapsed": false
   },
   "outputs": [
    {
     "data": {
      "text/plain": [
       "497"
      ]
     },
     "execution_count": 25,
     "metadata": {},
     "output_type": "execute_result"
    }
   ],
   "source": [
    "PDvalue5.index(max(PDvalue5))"
   ]
  },
  {
   "cell_type": "code",
   "execution_count": 30,
   "metadata": {
    "collapsed": true
   },
   "outputs": [],
   "source": [
    "c = 3*10**11; #Speed of Light in mm/s, Going to use this to convert spatial information to time. \n",
    "T6 = (503*0.000124 + 0.0230)*2*25.4/(10**-12*c)\n",
    "with open ('2milKapton_Polarization90Degrees_Copy.txt','r') as f:\n",
    "    times6=[];\n",
    "    PDvalue6 = [];\n",
    "    for line in f:\n",
    "        line = line.strip()\n",
    "        if line:\n",
    "            data = line.split()\n",
    "            times6.append((float(data[0])*0.000124 + 0.0230)*25.4*2/(10**-12*c)-T6) # Here I did a linear extrapolation. \n",
    "                                                                                  # Refer to labbook for more information. \n",
    "            PDvalue6.append(float(data[1]))\n",
    "extraticks = [-10,-9,-8,-7,-6,-5,-4, -3, -2, -1, 1, 2, 3, 4,5,6,7,8,9,10]\n",
    "plt.plot(times6,PDvalue6,'k')\n",
    "plt.xlabel('Stage Position (ps)')\n",
    "plt.ylabel('PD Signal (arb)')\n",
    "plt.grid(True)\n",
    "plt.xticks(list(plt.xticks()[0]) + extraticks)\n",
    "plt.xlim(-10,10)\n",
    "plt.show()"
   ]
  },
  {
   "cell_type": "code",
   "execution_count": 29,
   "metadata": {
    "collapsed": false
   },
   "outputs": [
    {
     "data": {
      "text/plain": [
       "503"
      ]
     },
     "execution_count": 29,
     "metadata": {},
     "output_type": "execute_result"
    }
   ],
   "source": [
    "PDvalue6.index(max(PDvalue6))"
   ]
  },
  {
   "cell_type": "code",
   "execution_count": 38,
   "metadata": {
    "collapsed": true
   },
   "outputs": [],
   "source": [
    "c = 3*10**11; #Speed of Light in mm/s, Going to use this to convert spatial information to time. \n",
    "T7 = (492*0.000125 + 0.0227)*2*25.4/(10**-12*c)\n",
    "with open ('3milKapton_Polarization0Degrees_Copy.txt','r') as f:\n",
    "    times7=[];\n",
    "    PDvalue7 = [];\n",
    "    for line in f:\n",
    "        line = line.strip()\n",
    "        if line:\n",
    "            data = line.split()\n",
    "            times7.append((float(data[0])*0.000125 + 0.0227)*25.4*2/(10**-12*c)-T7) # Here I did a linear extrapolation. \n",
    "                                                                                  # Refer to labbook for more information. \n",
    "            PDvalue7.append(float(data[1]))\n",
    "extraticks = [-10,-9,-8,-7,-6,-5,-4, -3, -2, -1, 1, 2, 3, 4,5,6,7,8,9,10]\n",
    "plt.plot(times7,PDvalue7,'k')\n",
    "plt.xlabel('Stage Position (ps)')\n",
    "plt.ylabel('PD Signal (arb)')\n",
    "plt.grid(True)\n",
    "plt.xticks(list(plt.xticks()[0]) + extraticks)\n",
    "plt.xlim(-10,10)\n",
    "plt.show()"
   ]
  },
  {
   "cell_type": "code",
   "execution_count": 33,
   "metadata": {
    "collapsed": false
   },
   "outputs": [
    {
     "data": {
      "text/plain": [
       "492"
      ]
     },
     "execution_count": 33,
     "metadata": {},
     "output_type": "execute_result"
    }
   ],
   "source": [
    "PDvalue7.index(max(PDvalue7))"
   ]
  },
  {
   "cell_type": "code",
   "execution_count": 36,
   "metadata": {
    "collapsed": true
   },
   "outputs": [],
   "source": [
    "c = 3*10**11; #Speed of Light in mm/s, Going to use this to convert spatial information to time. \n",
    "T8 = (493*0.000125 + 0.022625)*2*25.4/(10**-12*c)\n",
    "with open ('3milKapton_Polarization90Degrees_Copy.txt','r') as f:\n",
    "    times8=[];\n",
    "    PDvalue8 = [];\n",
    "    for line in f:\n",
    "        line = line.strip()\n",
    "        if line:\n",
    "            data = line.split()\n",
    "            times8.append((float(data[0])*0.000125 + 0.022625)*25.4*2/(10**-12*c)-T8) # Here I did a linear extrapolation. \n",
    "                                                                                  # Refer to labbook for more information. \n",
    "            PDvalue8.append(float(data[1]))\n",
    "extraticks = [-10,-9,-8,-7,-6,-5,-4, -3, -2, -1, 1, 2, 3, 4,5,6,7,8,9,10]\n",
    "plt.plot(times8,PDvalue8,'k')\n",
    "plt.xlabel('Stage Position (ps)')\n",
    "plt.ylabel('PD Signal (arb)')\n",
    "plt.grid(True)\n",
    "plt.xticks(list(plt.xticks()[0]) + extraticks)\n",
    "plt.xlim(-10,10)\n",
    "plt.show()"
   ]
  },
  {
   "cell_type": "code",
   "execution_count": 37,
   "metadata": {
    "collapsed": false
   },
   "outputs": [
    {
     "data": {
      "text/plain": [
       "493"
      ]
     },
     "execution_count": 37,
     "metadata": {},
     "output_type": "execute_result"
    }
   ],
   "source": [
    "PDvalue8.index(max(PDvalue8))"
   ]
  },
  {
   "cell_type": "code",
   "execution_count": 45,
   "metadata": {
    "collapsed": true
   },
   "outputs": [],
   "source": [
    "extraticks = [-10,-9,-8,-7,-6,-5,-4, -3, -2, -1, 1, 2, 3, 4,5,6,7,8,9,10]\n",
    "plt.plot(times1,PDvalue1,'k+', label = '0 Degrees No Kapton', linewidth = 3)\n",
    "plt.plot(times2,PDvalue2,'r+', label = '90 Degrees No Kapton',linewidth = 3)\n",
    "plt.plot(times3,PDvalue3,'k*', label = '0 Degrees 1 mil Kapton')\n",
    "plt.plot(times4,PDvalue4,'r*', label = '90 Degrees 1 mil Kapton')\n",
    "plt.plot(times5,PDvalue5,'k.', label = '0 Degrees 2 mil Kapton')\n",
    "plt.plot(times6,PDvalue6,'r.', label = '90 Degrees 2 mil Kapton')\n",
    "plt.plot(times7,PDvalue7,'k', label = '0 Degrees 3 mil Kapton')\n",
    "plt.plot(times8,PDvalue8,'r', label = '90 Degrees 3 mil Kapton')\n",
    "plt.xlabel('Stage Position (ps)')\n",
    "plt.ylabel('PD Signal (arb)')\n",
    "plt.grid(True)\n",
    "plt.xticks(list(plt.xticks()[0]) + extraticks)\n",
    "plt.xlim(-10,10)\n",
    "plt.legend(loc = 'upper left', fontsize = 'medium')\n",
    "#plt.show()\n",
    "plt.savefig('TimeZeroVsKaptonTapeWidth.png')"
   ]
  },
  {
   "cell_type": "code",
   "execution_count": 51,
   "metadata": {
    "collapsed": true
   },
   "outputs": [],
   "source": [
    "extraticks = [-10,-9,-8,-7,-6,-5,-4, -3, -2, -1, 1, 2, 3, 4,5,6,7,8,9,10]\n",
    "plt.plot(times5,PDvalue5,'k.', label = '0 Degrees 2 mil Kapton')\n",
    "plt.plot(times6,PDvalue6,'r.', label = '90 Degrees 2 mil Kapton')\n",
    "plt.plot(times1,PDvalue1,'k', label = '0 Degrees No Kapton', linewidth = 1.2)\n",
    "plt.plot(times2,PDvalue2,'r', label = '90 Degrees No Kapton',linewidth = 1.2)\n",
    "plt.xlabel('Stage Position (ps)')\n",
    "plt.ylabel('PD Signal (arb)')\n",
    "plt.grid(True)\n",
    "plt.xticks(list(plt.xticks()[0]) + extraticks)\n",
    "plt.xlim(-10,10)\n",
    "plt.legend(loc = 'upper left', fontsize = 'medium')\n",
    "#plt.show()\n",
    "plt.savefig('TimeZero_2milvsNoKaptonTape.png')"
   ]
  },
  {
   "cell_type": "code",
   "execution_count": null,
   "metadata": {
    "collapsed": true
   },
   "outputs": [],
   "source": []
  }
 ],
 "metadata": {
  "kernelspec": {
   "display_name": "Python 3",
   "language": "python",
   "name": "python3"
  },
  "language_info": {
   "codemirror_mode": {
    "name": "ipython",
    "version": 3
   },
   "file_extension": ".py",
   "mimetype": "text/x-python",
   "name": "python",
   "nbconvert_exporter": "python",
   "pygments_lexer": "ipython3",
   "version": "3.5.1"
  }
 },
 "nbformat": 4,
 "nbformat_minor": 0
}
