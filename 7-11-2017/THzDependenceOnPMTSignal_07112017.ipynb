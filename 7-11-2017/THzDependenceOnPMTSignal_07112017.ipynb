{
 "cells": [
  {
   "cell_type": "code",
   "execution_count": 2,
   "metadata": {
    "collapsed": true
   },
   "outputs": [],
   "source": [
    "import matplotlib.pyplot as plt\n",
    "import numpy as np\n",
    "import pandas as pd\n",
    "from pandas import Series, DataFrame\n",
    "import glob\n",
    "import os\n",
    "from math import log"
   ]
  },
  {
   "cell_type": "code",
   "execution_count": 3,
   "metadata": {
    "collapsed": false
   },
   "outputs": [
    {
     "name": "stdout",
     "output_type": "stream",
     "text": [
      "['PMT_Background_280Deg_07112017.txt', 'PMT_Signal_280Deg_07112017.txt', 'PMT_Background_275Deg_07112017.txt', 'PMT_Signal_275Deg_07112017.txt', 'PMT_Background_270Deg_07112017.txt', 'PMT_Signal_270Deg_07112017.txt', 'PMT_Background_265Deg_07112017.txt', 'PMT_Signal_265Deg_07112017.txt', 'PMT_Background_260Deg_07112017.txt', 'PMT_Signal_260Deg_07112017.txt', 'PMT_LaserBackground_07112017.txt']\n"
     ]
    }
   ],
   "source": [
    "allFiles = sorted(glob.glob(\"*.txt\"),key=os.path.getmtime) # includes all files into a single stucture,\n",
    "# Sorted by modification time so that the first measurement is first...\n",
    "print(allFiles)"
   ]
  },
  {
   "cell_type": "code",
   "execution_count": 4,
   "metadata": {
    "collapsed": true
   },
   "outputs": [],
   "source": [
    "frame = pd.DataFrame()\n",
    "df = pd.DataFrame()"
   ]
  },
  {
   "cell_type": "code",
   "execution_count": 5,
   "metadata": {
    "collapsed": false
   },
   "outputs": [
    {
     "name": "stderr",
     "output_type": "stream",
     "text": [
      "/Users/sanjaykhatri/anaconda/lib/python3.5/site-packages/ipykernel/__main__.py:7: ParserWarning: Falling back to the 'python' engine because the 'c' engine does not support skip_footer; you can avoid this warning by specifying engine='python'.\n"
     ]
    }
   ],
   "source": [
    "for i,file_ in enumerate(allFiles):\n",
    "#    f = open(file_,'r')\n",
    "#     for j,line in enumerate(f):\n",
    "#         if j == 1:\n",
    "#             date = line[14:22]\n",
    "#             break\n",
    "    df = pd.read_csv(file_,index_col = None, header=None, skiprows = 10, skipfooter = 1, delimiter = '\\t')\n",
    "#     frame[file_] = df[5]\n",
    "    df['file']=file_\n",
    "    df['timeDelay']= df[1]\n",
    "    df['PDvalue'] = df[3]\n",
    "#     df['date']=date\n",
    "    if i < 1:\n",
    "        frame = df\n",
    "    else:\n",
    "        frame = frame.append(df)"
   ]
  },
  {
   "cell_type": "code",
   "execution_count": 6,
   "metadata": {
    "collapsed": true
   },
   "outputs": [],
   "source": [
    "c = 3*10**11; #Speed of Light in mm/s, Going to use this to convert spatial information to time. \n",
    "T1 = (417*0.000125 + 0.0229)*2*25.4/(10**-12*c)\n",
    "def ConvertToTimeDelay(x,itr,offset):\n",
    "    c = 3*10**11\n",
    "    timeDelay2 = []\n",
    "    for i in range(0,len(x)):\n",
    "        timedelay = -((x[i,0]*itr + offset)*25.4*2/(10**-12*c))+T1\n",
    "        timeDelay2.append(timedelay)\n",
    "    return(timeDelay2)"
   ]
  },
  {
   "cell_type": "code",
   "execution_count": 11,
   "metadata": {
    "collapsed": false
   },
   "outputs": [
    {
     "name": "stdout",
     "output_type": "stream",
     "text": [
      "-0.0536565\n",
      "-0.1349525\n",
      "0.397595450251\n",
      "[ 43543.55438112  41688.3155389   34657.47979209  27296.66256589\n",
      "  14214.72636473]\n",
      "-3.43546335034\n",
      "0.81245948632\n",
      "0.0765035557717\n",
      "0.0293943043643\n"
     ]
    }
   ],
   "source": [
    "times = pd.Series()\n",
    "PDvalues = pd.Series()\n",
    "AvgPD50 = pd.Series()\n",
    "itr = 0.000125\n",
    "offset = 0.023\n",
    "for i in range(0,200):\n",
    "    time = frame[1][i]\n",
    "    PDvalue = frame[3][i]\n",
    "    times = times.append(time)\n",
    "    PDvalues = PDvalues.append(PDvalue)\n",
    "#print(len(PDvalues))\n",
    "    \n",
    "times = times.values.reshape(200,len(allFiles))\n",
    "PDvalues = PDvalues.values.reshape(200,len(allFiles))\n",
    "Background1 = PDvalues[:,0]\n",
    "Background2 = PDvalues[:,2]\n",
    "Background3 = PDvalues[:,4]\n",
    "Background4 = PDvalues[:,6]\n",
    "Background5 = PDvalues[:,8]\n",
    "PMT_Signal1 = PDvalues[:,1]\n",
    "PMT_Signal2 = PDvalues[:,3]\n",
    "PMT_Signal3 = PDvalues[:,5]\n",
    "PMT_Signal4 = PDvalues[:,7]\n",
    "PMT_Signal5 = PDvalues[:,9]\n",
    "SHGBackground = PDvalues[:,10]\n",
    "\n",
    "MeanBackground1 = np.mean(Background1)\n",
    "MeanBackground2 = np.mean(Background2)\n",
    "MeanBackground3 = np.mean(Background3)\n",
    "MeanBackground4 = np.mean(Background4)\n",
    "MeanBackground5 = np.mean(Background5)\n",
    "MeanSHG = np.mean(SHGBackground)\n",
    "\n",
    "Real_Signal1 = PMT_Signal1-MeanBackground1-MeanSHG\n",
    "Real_Signal2 = PMT_Signal2-MeanBackground2-MeanSHG\n",
    "Real_Signal3 = PMT_Signal3-MeanBackground3-MeanSHG\n",
    "Real_Signal4 = PMT_Signal4-MeanBackground4-MeanSHG\n",
    "Real_Signal5 = PMT_Signal5-MeanBackground5-MeanSHG\n",
    "\n",
    "Mean_PMT1 = np.mean(Real_Signal1)\n",
    "Mean_PMT2 = np.mean(Real_Signal2)\n",
    "Mean_PMT3 = np.mean(Real_Signal3)\n",
    "Mean_PMT4 = np.mean(Real_Signal4)\n",
    "Mean_PMT5 = np.mean(Real_Signal5)\n",
    "\n",
    "\n",
    "Mean_PMT=np.array([Mean_PMT1,Mean_PMT2,Mean_PMT3,Mean_PMT4,Mean_PMT5])\n",
    "THzEnergy = np.array([470,450,400,330,245])\n",
    "print(Mean_PMT[0])\n",
    "print(MeanSHG)\n",
    "\n",
    "THzSHGEfficiency = Mean_PMT1/MeanSHG\n",
    "print(THzSHGEfficiency)\n",
    "LogPMT = np.log10(np.absolute(Mean_PMT))\n",
    "LogTHz = np.log10(THzEnergy)\n",
    "STD_PMT = Mean_PMT.std(axis = 0)\n",
    "err1 = STD_PMT/(200**0.5)\n",
    "\n",
    "w=(err1/(np.absolute(Mean_PMT)*log(10)))**-2\n",
    "Delta = sum(w)*sum(w*LogTHz**2) - (sum(w*LogTHz))**2\n",
    "A = (sum(w*LogTHz**2)*sum(w*LogPMT) - sum(w*LogTHz)*sum(w*LogTHz*LogPMT))/Delta\n",
    "B = (sum(w)*sum(w*LogTHz*LogPMT) - (sum(w*LogPMT)*sum(w*LogTHz)))/Delta\n",
    "# Least Squares Fitting Parameters above\n",
    "print(w)\n",
    "print(A)\n",
    "print(B)\n",
    "# Errors in Least Squares Plotting\n",
    "err = (((len(LogPMT)-2)**-1) * sum((LogPMT - A -B*LogTHz)**2)**0.5)\n",
    "errorA = (sum(w*LogTHz**2)/Delta)**0.5\n",
    "errorB = (sum(w)/Delta)**0.5\n",
    "print(errorA)\n",
    "print(errorB)\n",
    "\n",
    "\n",
    "plt.plot(LogTHz, A + B*LogTHz,'r',label = 'Fit: y=0.81x -3.43')\n",
    "plt.plot(LogTHz, LogPMT,'b.', label = 'Data')\n",
    "plt.grid(True)\n",
    "plt.xlabel('Log(THz Energy)')\n",
    "plt.ylabel('Log(PMT Signal)')\n",
    "plt.legend(loc = 'upper left')\n",
    "plt.show()\n",
    "#plt.savefig('PMT_SignalVsTHzEnergy.png')\n",
    "\n",
    "\n"
   ]
  },
  {
   "cell_type": "code",
   "execution_count": 9,
   "metadata": {
    "collapsed": false
   },
   "outputs": [
    {
     "name": "stdout",
     "output_type": "stream",
     "text": [
      "[-1.27524472 -1.27758936 -1.27993401 -1.28227865 -1.2846233  -1.28696794\n",
      " -1.28931259 -1.29165723 -1.29400188 -1.29634652 -1.29869117 -1.30103581\n",
      " -1.30338046 -1.3057251  -1.30806975 -1.31041439 -1.31275904 -1.31510368\n",
      " -1.31744833 -1.31979297 -1.32213762 -1.32448226 -1.32682691 -1.32917155\n",
      " -1.3315162  -1.33386084 -1.33620549 -1.33855013 -1.34089478 -1.34323942\n",
      " -1.34558407 -1.34792871 -1.35027336 -1.352618   -1.35496265 -1.35730729\n",
      " -1.35965194 -1.36199658 -1.36434123 -1.36668587 -1.36903052 -1.37137516\n",
      " -1.37371981 -1.37606445 -1.3784091  -1.38075374 -1.38309839 -1.38544303\n",
      " -1.38778768 -1.39013232 -1.39247697 -1.39482161 -1.39716626 -1.3995109\n",
      " -1.40185555 -1.40420019 -1.40654484 -1.40888948 -1.41123413 -1.41357877\n",
      " -1.41592342 -1.41826806 -1.42061271 -1.42295735 -1.425302   -1.42764664\n",
      " -1.42999129 -1.43233593 -1.43468058 -1.43702522 -1.43936987 -1.44171451\n",
      " -1.44405916 -1.4464038  -1.44874845 -1.45109309 -1.45343774 -1.45578238\n",
      " -1.45812703 -1.46047167 -1.46281632 -1.46516096 -1.46750561 -1.46985025\n",
      " -1.4721949  -1.47453954 -1.47688419 -1.47922883 -1.48157348 -1.48391812\n",
      " -1.48626277 -1.48860741 -1.49095206 -1.4932967  -1.49564135 -1.49798599\n",
      " -1.50033064 -1.50267528 -1.50501993 -1.50736457]\n",
      " \n",
      "0.8791 x - 3.608\n"
     ]
    }
   ],
   "source": [
    "fit = np.polyfit(LogTHz,LogPMT,1,w=err1/(np.absolute(Mean_PMT)*log(10)))\n",
    "f = np.poly1d(fit)\n",
    "pPower = np.linspace(LogTHz[1],LogTHz[-1],100)\n",
    "f_new = f(pPower)\n",
    "print(f_new)\n",
    "print(f)"
   ]
  },
  {
   "cell_type": "code",
   "execution_count": null,
   "metadata": {
    "collapsed": true
   },
   "outputs": [],
   "source": []
  }
 ],
 "metadata": {
  "kernelspec": {
   "display_name": "Python 3",
   "language": "python",
   "name": "python3"
  },
  "language_info": {
   "codemirror_mode": {
    "name": "ipython",
    "version": 3
   },
   "file_extension": ".py",
   "mimetype": "text/x-python",
   "name": "python",
   "nbconvert_exporter": "python",
   "pygments_lexer": "ipython3",
   "version": "3.5.1"
  }
 },
 "nbformat": 4,
 "nbformat_minor": 0
}
