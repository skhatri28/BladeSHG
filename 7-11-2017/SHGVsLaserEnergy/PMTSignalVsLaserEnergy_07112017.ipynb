{
 "cells": [
  {
   "cell_type": "code",
   "execution_count": 77,
   "metadata": {
    "collapsed": true
   },
   "outputs": [],
   "source": [
    "import matplotlib.pyplot as plt\n",
    "import numpy as np\n",
    "import pandas as pd\n",
    "from pandas import Series, DataFrame\n",
    "import glob\n",
    "import os\n",
    "from math import log"
   ]
  },
  {
   "cell_type": "code",
   "execution_count": 78,
   "metadata": {
    "collapsed": false
   },
   "outputs": [
    {
     "name": "stdout",
     "output_type": "stream",
     "text": [
      "['PMT_Signal_100mW_07112017.txt', 'PMT_Signal_90mW_07112017.txt', 'PMT_Signal_80mW_07112017.txt', 'PMT_Signal_70mW_07112017.txt', 'PMT_Signal_60mW_07112017.txt', 'PMT_Signal_50mW_07112017.txt', 'PMT_Signal_40mW_07112017.txt', 'PMT_Signal_30mW_07112017.txt', 'PMT_Signal_20mW_07112017.txt', 'PMT_Signal_15mW_07112017.txt', 'PMT_Signal_Background_07112017.txt']\n"
     ]
    }
   ],
   "source": [
    "allFiles = sorted(glob.glob(\"*.txt\"),key=os.path.getmtime) # includes all files into a single stucture,\n",
    "# Sorted by modification time so that the first measurement is first...\n",
    "print(allFiles)"
   ]
  },
  {
   "cell_type": "code",
   "execution_count": 79,
   "metadata": {
    "collapsed": true
   },
   "outputs": [],
   "source": [
    "frame = pd.DataFrame()\n",
    "df = pd.DataFrame()"
   ]
  },
  {
   "cell_type": "code",
   "execution_count": 80,
   "metadata": {
    "collapsed": false
   },
   "outputs": [
    {
     "name": "stderr",
     "output_type": "stream",
     "text": [
      "/Users/sanjaykhatri/anaconda/lib/python3.5/site-packages/ipykernel/__main__.py:7: ParserWarning: Falling back to the 'python' engine because the 'c' engine does not support skip_footer; you can avoid this warning by specifying engine='python'.\n"
     ]
    }
   ],
   "source": [
    "for i,file_ in enumerate(allFiles):\n",
    "#    f = open(file_,'r')\n",
    "#     for j,line in enumerate(f):\n",
    "#         if j == 1:\n",
    "#             date = line[14:22]\n",
    "#             break\n",
    "    df = pd.read_csv(file_,index_col = None, header=None, skiprows = 10, skipfooter = 1, delimiter = '\\t')\n",
    "#     frame[file_] = df[5]\n",
    "    df['file']=file_\n",
    "    df['timeDelay']= df[1]\n",
    "    df['PDvalue'] = df[3]\n",
    "#     df['date']=date\n",
    "    if i < 1:\n",
    "        frame = df\n",
    "    else:\n",
    "        frame = frame.append(df)"
   ]
  },
  {
   "cell_type": "code",
   "execution_count": 81,
   "metadata": {
    "collapsed": true
   },
   "outputs": [],
   "source": [
    "c = 3*10**11; #Speed of Light in mm/s, Going to use this to convert spatial information to time. \n",
    "T1 = (417*0.000125 + 0.0229)*2*25.4/(10**-12*c)\n",
    "def ConvertToTimeDelay(x,itr,offset):\n",
    "    c = 3*10**11\n",
    "    timeDelay2 = []\n",
    "    for i in range(0,len(x)):\n",
    "        timedelay = -((x[i,0]*itr + offset)*25.4*2/(10**-12*c))+T1\n",
    "        timeDelay2.append(timedelay)\n",
    "    return(timeDelay2)"
   ]
  },
  {
   "cell_type": "code",
   "execution_count": 90,
   "metadata": {
    "collapsed": false
   },
   "outputs": [
    {
     "name": "stdout",
     "output_type": "stream",
     "text": [
      "[ 0.00036179  0.00021817  0.00031715  0.00024183  0.00019902  0.00019243\n",
      "  0.00021645  0.00021841  0.00022961  0.00022326]\n",
      "[-0.169649  -0.134256  -0.099675  -0.078125  -0.059459  -0.0440795\n",
      " -0.030304  -0.015241  -0.006191  -0.0045075]\n"
     ]
    }
   ],
   "source": [
    "times = pd.Series()\n",
    "PDvalues = pd.Series()\n",
    "AvgPD50 = pd.Series()\n",
    "itr = 0.000125\n",
    "offset = 0.023\n",
    "for i in range(0,200):\n",
    "    time = frame[1][i]\n",
    "    PDvalue = frame[3][i]\n",
    "    times = times.append(time)\n",
    "    PDvalues = PDvalues.append(PDvalue)\n",
    "#print(len(PDvalues))\n",
    "    \n",
    "times = times.values.reshape(200,len(allFiles))\n",
    "PDvalues = PDvalues.values.reshape(200,len(allFiles))\n",
    "\n",
    "Background = PDvalues[:,-1]\n",
    "M_Background = np.mean(Background)\n",
    "Mean_PMT = PDvalues[:,0:10].mean(axis = 0) - M_Background\n",
    "STD_PMT = PDvalues[:,0:10].std(axis = 0)\n",
    "err1 = STD_PMT/(200**0.5)\n",
    "print(err1)\n",
    "print(Mean_PMT)\n",
    "LaserPower = [100,90,80,70,60,50,40,30,20,15]\n",
    "LogPMT = np.log10(np.absolute(Mean_PMT))\n",
    "LogLaser = np.log10(LaserPower)\n",
    "\n"
   ]
  },
  {
   "cell_type": "code",
   "execution_count": 101,
   "metadata": {
    "collapsed": false
   },
   "outputs": [
    {
     "name": "stdout",
     "output_type": "stream",
     "text": [
      "[ 1165816.26453837  2007768.98566776   523677.34501376   553356.82606449\n",
      "   473248.76667941   278209.17648938   103928.24032528    25817.46120283\n",
      "     3854.53718438     2161.16233746]\n",
      "-4.71862815733\n",
      "1.96767173636\n",
      "0.00825043802733\n",
      "0.00431958396217\n"
     ]
    }
   ],
   "source": [
    "w=(err1/(np.absolute(Mean_PMT)*log(10)))**-2\n",
    "Delta = sum(w)*sum(w*LogLaser**2) - (sum(w*LogLaser))**2\n",
    "A = (sum(w*LogLaser**2)*sum(w*LogPMT) - sum(w*LogLaser)*sum(w*LogLaser*LogPMT))/Delta\n",
    "B = (sum(w)*sum(w*LogLaser*LogPMT) - (sum(w*LogPMT)*sum(w*LogLaser)))/Delta\n",
    "# Least Squares Fitting Parameters above\n",
    "print(w)\n",
    "print(A)\n",
    "print(B)\n",
    "# Errors in Least Squares Plotting\n",
    "err = (((len(LogPMT)-2)**-1) * sum((LogPMT - A -B*LogLaser)**2)**0.5)\n",
    "errorA = (sum(w*LogLaser**2)/Delta)**0.5\n",
    "errorB = (sum(w)/Delta)**0.5\n",
    "print(errorA)\n",
    "print(errorB)"
   ]
  },
  {
   "cell_type": "code",
   "execution_count": 106,
   "metadata": {
    "collapsed": false
   },
   "outputs": [],
   "source": [
    "plt.plot(LogLaser, B*LogLaser + A, 'k',label = 'Fit: y = 1.97x-4.71')\n",
    "plt.plot(LogLaser,LogPMT,'b*',label = 'Data')\n",
    "plt.plot()\n",
    "plt.grid(True)\n",
    "plt.xlabel('Log(Laser Power)')\n",
    "plt.ylabel('Log(PMT Signal)')\n",
    "plt.legend(loc = 'upper left')\n",
    "#plt.show()\n",
    "plt.savefig('PMTSignalVsLaserPower_07112017.png')\n",
    "\n"
   ]
  },
  {
   "cell_type": "code",
   "execution_count": 103,
   "metadata": {
    "collapsed": false
   },
   "outputs": [
    {
     "name": "stdout",
     "output_type": "stream",
     "text": [
      "[-1.03429437 -1.0477679  -1.06124143 -1.07471496 -1.08818849 -1.10166202\n",
      " -1.11513555 -1.12860907 -1.1420826  -1.15555613 -1.16902966 -1.18250319\n",
      " -1.19597672 -1.20945025 -1.22292377 -1.2363973  -1.24987083 -1.26334436\n",
      " -1.27681789 -1.29029142 -1.30376495 -1.31723848 -1.330712   -1.34418553\n",
      " -1.35765906 -1.37113259 -1.38460612 -1.39807965 -1.41155318 -1.4250267\n",
      " -1.43850023 -1.45197376 -1.46544729 -1.47892082 -1.49239435 -1.50586788\n",
      " -1.51934141 -1.53281493 -1.54628846 -1.55976199 -1.57323552 -1.58670905\n",
      " -1.60018258 -1.61365611 -1.62712964 -1.64060316 -1.65407669 -1.66755022\n",
      " -1.68102375 -1.69449728 -1.70797081 -1.72144434 -1.73491786 -1.74839139\n",
      " -1.76186492 -1.77533845 -1.78881198 -1.80228551 -1.81575904 -1.82923257\n",
      " -1.84270609 -1.85617962 -1.86965315 -1.88312668 -1.89660021 -1.91007374\n",
      " -1.92354727 -1.9370208  -1.95049432 -1.96396785 -1.97744138 -1.99091491\n",
      " -2.00438844 -2.01786197 -2.0313355  -2.04480902 -2.05828255 -2.07175608\n",
      " -2.08522961 -2.09870314 -2.11217667 -2.1256502  -2.13912373 -2.15259725\n",
      " -2.16607078 -2.17954431 -2.19301784 -2.20649137 -2.2199649  -2.23343843\n",
      " -2.24691195 -2.26038548 -2.27385901 -2.28733254 -2.30080607 -2.3142796\n",
      " -2.32775313 -2.34122666 -2.35470018 -2.36817371]\n",
      " \n",
      "1.714 x - 4.384\n"
     ]
    }
   ],
   "source": [
    "fit = np.polyfit(LogLaser,LogPMT,1,w=(err1/(np.absolute(Mean_PMT)*log(10)))*-2)\n",
    "f = np.poly1d(fit)\n",
    "pPower = np.linspace(LogLaser[1],LogLaser[-1],100)\n",
    "f_new = f(pPower)\n",
    "print(f_new)\n",
    "print(f)"
   ]
  },
  {
   "cell_type": "code",
   "execution_count": 86,
   "metadata": {
    "collapsed": false
   },
   "outputs": [
    {
     "name": "stdout",
     "output_type": "stream",
     "text": [
      "[ 0.18523154  0.14114748  0.27637458  0.26886072  0.29072692  0.37917899\n",
      "  0.62038774  1.24472447  3.22139423  4.30215745]\n"
     ]
    }
   ],
   "source": []
  },
  {
   "cell_type": "code",
   "execution_count": null,
   "metadata": {
    "collapsed": true
   },
   "outputs": [],
   "source": []
  }
 ],
 "metadata": {
  "kernelspec": {
   "display_name": "Python 3",
   "language": "python",
   "name": "python3"
  },
  "language_info": {
   "codemirror_mode": {
    "name": "ipython",
    "version": 3
   },
   "file_extension": ".py",
   "mimetype": "text/x-python",
   "name": "python",
   "nbconvert_exporter": "python",
   "pygments_lexer": "ipython3",
   "version": "3.5.1"
  }
 },
 "nbformat": 4,
 "nbformat_minor": 0
}
