{
 "cells": [
  {
   "cell_type": "code",
   "execution_count": 9,
   "metadata": {
    "collapsed": true
   },
   "outputs": [],
   "source": [
    "import matplotlib.pyplot as plt\n",
    "import matplotlib.ticker as ticker\n",
    "import numpy as np\n",
    "import scipy as sy\n",
    "from scipy import stats\n",
    "import pylab\n",
    "import re"
   ]
  },
  {
   "cell_type": "code",
   "execution_count": 2,
   "metadata": {
    "collapsed": false
   },
   "outputs": [],
   "source": [
    "c = 3*10**11; #Speed of Light in mm/s, Going to use this to convert spatial information to time. \n",
    "d = 0.112*25.4; #Converting inches on delay stage to mm\n",
    "with open ('RealTimeZeroScanSpeed1_0112Inches2.txt','r') as f:\n",
    "    times1=[];\n",
    "    PDvalue1 = [];\n",
    "    for line in f:\n",
    "        line = line.strip()\n",
    "        if line:\n",
    "            data = line.split()\n",
    "            times1.append(float(data[0])*2*d/(10**-12*c*900)) #So here I am converting the data point number 0-1200 to stage position 0.2in to 0.297 in\n",
    "            PDvalue1.append(float(data[1]))\n",
    "\n",
    "plt.plot(times1,PDvalue1,'r')\n",
    "plt.xlabel('Stage Position (ps)')\n",
    "plt.ylabel('PD Signal (arb)')\n",
    "plt.show()\n",
    "\n",
    "# So this is a plot not normalized to the center of the time zero signal. Now I will to do that below. Need to define zero at the maximum. "
   ]
  },
  {
   "cell_type": "code",
   "execution_count": 16,
   "metadata": {
    "collapsed": false
   },
   "outputs": [
    {
     "data": {
      "text/plain": [
       "9.967336296296295"
      ]
     },
     "execution_count": 16,
     "metadata": {},
     "output_type": "execute_result"
    }
   ],
   "source": [
    "with open ('RealTimeZeroScanSpeed1_0112Inches2.txt','r') as f:\n",
    "    times1=[];\n",
    "    PDvalue1 = [];\n",
    "    for line in f:\n",
    "        line = line.strip()\n",
    "        if line:\n",
    "            data = line.split()\n",
    "            times1.append(float(data[0])*2*d/(10**-12*c*900)) #So here I am converting the data point number 0-1200 to stage position 0.2in to 0.297 in\n",
    "            PDvalue1.append(float(data[1]))\n",
    "\n",
    "#print(max(PDvalue1)) #5.117\n",
    "#PDvalue1.index(max(PDvalue1)) #Finding index in List where this maximum occursIndex: 473\n",
    "T = 473*2*d/(10**-12*c*900); #TimeZero Value. 473 is the index of the TimeZero value\n",
    "# Factor of 2 comes from the fact that there are the 2 mirrors delay the beam by twice the stage value. \n",
    "#Calibrating the time in picoseconds (10**-12). \n",
    "#900 are the total number of datapoints recorded. \n",
    "\n",
    "\n",
    "#plt.plot(times1,PDvalue1,'r')\n",
    "#plt.xlabel('Stage Position (ps)')\n",
    "#plt.ylabel('PD Signal (arb)')\n",
    "#plt.show()\n",
    "\n",
    "# Now I'll implement the new code below with the edits. \n",
    "#Basically I'm going to subtract D from the argument of times1 to set T=0 to the Maximum. "
   ]
  },
  {
   "cell_type": "code",
   "execution_count": 37,
   "metadata": {
    "collapsed": false
   },
   "outputs": [],
   "source": [
    "with open ('RealTimeZeroScanSpeed1_0112Inches2.txt','r') as f:\n",
    "    times2=[];\n",
    "    PDvalue2 = [];\n",
    "    T = 473*2*d/(10**-12*c*900);\n",
    "    for line in f:\n",
    "        line = line.strip()\n",
    "        if line:\n",
    "            data = line.split()\n",
    "            times2.append(float(data[0])*2*d/(10**-12*c*900) - T) #So here I am converting the data point number 0-1200 to stage position 0.2in to 0.297 in\n",
    "            PDvalue2.append(float(data[1]))\n",
    "\n",
    "plt.plot(times2,PDvalue2,'r')\n",
    "plt.xlabel('Delay (ps)')\n",
    "plt.ylabel('PD Signal (arb)')\n",
    "plt.xticks(np.arange(min(times2), max(times2), 1.995))\n",
    "plt.grid(True)\n",
    "#plt.show()\n",
    "plt.savefig('TimeZeroScan05182017.png')\n"
   ]
  },
  {
   "cell_type": "code",
   "execution_count": 42,
   "metadata": {
    "collapsed": false
   },
   "outputs": [],
   "source": [
    "with open ('TestBackGroundScanTestSpeed1_0112Inches.txt','r') as f:\n",
    "    times3=[];\n",
    "    PDvalue3 = [];\n",
    "    D = 473*2*d/(10**-12*c*900);\n",
    "    for line in f:\n",
    "        line = line.strip()\n",
    "        if line:\n",
    "            data = line.split()\n",
    "            times3.append(float(data[0])*2*d/(10**-12*c*900) - T) #So here I am converting the data point number 0-1200 to stage position 0.2in to 0.297 in\n",
    "            PDvalue3.append(float(data[1]))\n",
    "\n",
    "plt.plot(times2,PDvalue2,'r',times3,PDvalue3,'b')\n",
    "plt.xlabel('Delay (ps)')\n",
    "plt.ylabel('PD Signal (arb)')\n",
    "plt.xticks(np.arange(min(times2), max(times2), 1.995))\n",
    "plt.grid(True)\n",
    "#plt.show()\n",
    "plt.savefig('BackGroundAndTimeZeroScan05182017.png')\n"
   ]
  },
  {
   "cell_type": "code",
   "execution_count": null,
   "metadata": {
    "collapsed": true
   },
   "outputs": [],
   "source": []
  }
 ],
 "metadata": {
  "kernelspec": {
   "display_name": "Python 3",
   "language": "python",
   "name": "python3"
  },
  "language_info": {
   "codemirror_mode": {
    "name": "ipython",
    "version": 3
   },
   "file_extension": ".py",
   "mimetype": "text/x-python",
   "name": "python",
   "nbconvert_exporter": "python",
   "pygments_lexer": "ipython3",
   "version": "3.5.1"
  }
 },
 "nbformat": 4,
 "nbformat_minor": 0
}
