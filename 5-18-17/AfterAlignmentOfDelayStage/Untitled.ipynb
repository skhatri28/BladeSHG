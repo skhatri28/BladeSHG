{
 "cells": [
  {
   "cell_type": "code",
   "execution_count": 1,
   "metadata": {
    "collapsed": false
   },
   "outputs": [],
   "source": [
    "import matplotlib.pyplot as plt\n",
    "import numpy as np\n",
    "import scipy as sy\n",
    "from scipy import stats\n",
    "import pylab\n",
    "import re"
   ]
  },
  {
   "cell_type": "code",
   "execution_count": 2,
   "metadata": {
    "collapsed": true
   },
   "outputs": [],
   "source": [
    "c = 3*10**11; #Speed of Light in mm/s, Going to use this to convert spatial information to time. \n",
    "d = 0.104*25.4; #Converting inches on delay stage to mm\n",
    "with open ('0104Inch_Speed1_45DegreePolarizationBackgroundTest.txt','r') as f:\n",
    "    times1=[];\n",
    "    PDvalue1 = [];\n",
    "    for line in f:\n",
    "        line = line.strip()\n",
    "        if line:\n",
    "            data = line.split()\n",
    "            times1.append(float(data[0])*2*d/(10**-12*c*900)) #So here I am converting the data point number 0-1200 to stage position 0.2in to 0.297 in\n",
    "            PDvalue1.append(float(data[1]))\n",
    "\n",
    "plt.plot(times1,PDvalue1,'r')\n",
    "plt.xlabel('Stage Position (ps)')\n",
    "plt.ylabel('PD Signal (arb)')\n",
    "#plt.show()\n",
    "plt.savefig('LaserPolarization_45Degrees.png')"
   ]
  },
  {
   "cell_type": "code",
   "execution_count": 9,
   "metadata": {
    "collapsed": false
   },
   "outputs": [],
   "source": [
    "c = 3*10**11; #Speed of Light in mm/s, Going to use this to convert spatial information to time. \n",
    "d = 0.117*25.4; #Converting inches on delay stage to mm\n",
    "with open ('0117Inch_Speed1_0DegreePolarizationBackgroundTest.txt','r') as f:\n",
    "    times2=[];\n",
    "    PDvalue2 = [];\n",
    "    for line in f:\n",
    "        line = line.strip()\n",
    "        if line:\n",
    "            data = line.split()\n",
    "            times2.append(float(data[0])*2*d/(10**-12*c*900)) #So here I am converting the data point number 0-1200 to stage position 0.2in to 0.297 in\n",
    "            PDvalue2.append(float(data[1]))\n",
    "\n",
    "plt.plot(times1,PDvalue1,'r', label = '45 Degree')\n",
    "plt.plot(times2,PDvalue2,'b', label = '0 Degree')\n",
    "plt.legend( loc='upper left', numpoints = 1 )\n",
    "plt.xlabel('Stage Position (ps)')\n",
    "plt.ylabel('PD Signal (arb)')\n",
    "#plt.show()\n",
    "plt.grid(True)\n",
    "plt.savefig('LaserPolarization_0And45Degrees.png')"
   ]
  },
  {
   "cell_type": "code",
   "execution_count": null,
   "metadata": {
    "collapsed": true
   },
   "outputs": [],
   "source": []
  }
 ],
 "metadata": {
  "kernelspec": {
   "display_name": "Python 3",
   "language": "python",
   "name": "python3"
  },
  "language_info": {
   "codemirror_mode": {
    "name": "ipython",
    "version": 3
   },
   "file_extension": ".py",
   "mimetype": "text/x-python",
   "name": "python",
   "nbconvert_exporter": "python",
   "pygments_lexer": "ipython3",
   "version": "3.5.1"
  }
 },
 "nbformat": 4,
 "nbformat_minor": 0
}
