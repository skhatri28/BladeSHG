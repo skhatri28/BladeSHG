{
 "cells": [
  {
   "cell_type": "code",
   "execution_count": 27,
   "metadata": {
    "collapsed": true
   },
   "outputs": [],
   "source": [
    "import matplotlib.pyplot as plt\n",
    "import numpy as np\n",
    "import scipy as sy\n",
    "from scipy import stats\n",
    "import pylab\n",
    "import re"
   ]
  },
  {
   "cell_type": "code",
   "execution_count": 29,
   "metadata": {
    "collapsed": true
   },
   "outputs": [],
   "source": [
    "with open ('background1_Speed_03.txt','r') as f:\n",
    "    times1=[];\n",
    "    PDvalue1 = [];\n",
    "    for line in f:\n",
    "        line = line.strip()\n",
    "        if line:\n",
    "            data = line.split()\n",
    "            times1.append(0.2+float(data[0])*97/1200000) #So here I am converting the data point number 0-1200 to stage position 0.2in to 0.297 in\n",
    "            PDvalue1.append(float(data[1]))\n",
    "\n",
    "plt.plot(times1,PDvalue1,'r')\n",
    "plt.xlabel('Stage Position (in)')\n",
    "plt.ylabel('PD Signal (arb)')\n",
    "#plt.show()   \n"
   ]
  },
  {
   "cell_type": "code",
   "execution_count": 30,
   "metadata": {
    "collapsed": true
   },
   "outputs": [],
   "source": [
    "with open ('background2_Speed_03.txt','r') as f:\n",
    "    times2=[];\n",
    "    PDvalue2 = [];\n",
    "    for line in f:\n",
    "        line = line.strip()\n",
    "        if line:\n",
    "            data = line.split()\n",
    "            times2.append(0.2+float(data[0])*97/1200000) #So here I am converting the data point number 0-1200 to stage position 0.2in to 0.297 in\n",
    "            PDvalue2.append(float(data[1]))\n",
    "\n",
    "plt.plot(times2,PDvalue2,'r')\n",
    "plt.xlabel('Stage Position (in)')\n",
    "plt.ylabel('PD Signal (arb)')\n",
    "#plt.show() "
   ]
  },
  {
   "cell_type": "code",
   "execution_count": 31,
   "metadata": {
    "collapsed": true
   },
   "outputs": [],
   "source": [
    "with open ('background3_Speed_03.txt','r') as f:\n",
    "    times3=[];\n",
    "    PDvalue3 = [];\n",
    "    for line in f:\n",
    "        line = line.strip()\n",
    "        if line:\n",
    "            data = line.split()\n",
    "            times3.append(0.2+float(data[0])*97/1200000) #So here I am converting the data point number 0-1200 to stage position 0.2in to 0.297 in\n",
    "            PDvalue3.append(float(data[1]))\n",
    "\n",
    "plt.plot(times3,PDvalue3,'r')\n",
    "plt.xlabel('Stage Position (in)')\n",
    "plt.ylabel('PD Signal (arb)')\n",
    "#plt.show() "
   ]
  },
  {
   "cell_type": "code",
   "execution_count": 32,
   "metadata": {
    "collapsed": true
   },
   "outputs": [],
   "source": [
    "with open ('background4_Speed_03.txt','r') as f:\n",
    "    times4=[];\n",
    "    PDvalue4 = [];\n",
    "    for line in f:\n",
    "        line = line.strip()\n",
    "        if line:\n",
    "            data = line.split()\n",
    "            times4.append(0.2+float(data[0])*97/1200000) #So here I am converting the data point number 0-1200 to stage position 0.2in to 0.297 in\n",
    "            PDvalue4.append(float(data[1]))\n",
    "\n",
    "plt.plot(times4,PDvalue4,'r')\n",
    "plt.xlabel('Stage Position (in)')\n",
    "plt.ylabel('PD Signal (arb)')\n",
    "#plt.show() "
   ]
  },
  {
   "cell_type": "code",
   "execution_count": 33,
   "metadata": {
    "collapsed": true
   },
   "outputs": [],
   "source": [
    "with open ('background5_Speed_03.txt','r') as f:\n",
    "    times5=[];\n",
    "    PDvalue5 = [];\n",
    "    for line in f:\n",
    "        line = line.strip()\n",
    "        if line:\n",
    "            data = line.split()\n",
    "            times5.append(0.2+float(data[0])*97/1200000) #So here I am converting the data point number 0-1200 to stage position 0.2in to 0.297 in\n",
    "            PDvalue5.append(float(data[1]))\n",
    "\n",
    "plt.plot(times5,PDvalue5,'r')\n",
    "plt.xlabel('Stage Position (in)')\n",
    "plt.ylabel('PD Signal (arb)')\n",
    "#plt.show() "
   ]
  },
  {
   "cell_type": "code",
   "execution_count": 34,
   "metadata": {
    "collapsed": true
   },
   "outputs": [],
   "source": [
    "with open ('background6_Speed_03.txt','r') as f:\n",
    "    times6=[];\n",
    "    PDvalue6 = [];\n",
    "    for line in f:\n",
    "        line = line.strip()\n",
    "        if line:\n",
    "            data = line.split()\n",
    "            times6.append(0.2+float(data[0])*97/1200000) #So here I am converting the data point number 0-1200 to stage position 0.2in to 0.297 in\n",
    "            PDvalue6.append(float(data[1]))\n",
    "\n",
    "plt.plot(times6,PDvalue6,'r')\n",
    "plt.xlabel('Stage Position (in)')\n",
    "plt.ylabel('PD Signal (arb)')\n",
    "#plt.show() "
   ]
  },
  {
   "cell_type": "code",
   "execution_count": 35,
   "metadata": {
    "collapsed": true
   },
   "outputs": [],
   "source": [
    "with open ('background7_Speed_03.txt','r') as f:\n",
    "    times7=[];\n",
    "    PDvalue7 = [];\n",
    "    for line in f:\n",
    "        line = line.strip()\n",
    "        if line:\n",
    "            data = line.split()\n",
    "            times7.append(0.2+float(data[0])*97/1200000) #So here I am converting the data point number 0-1200 to stage position 0.2in to 0.297 in\n",
    "            PDvalue7.append(float(data[1]))\n",
    "\n",
    "plt.plot(times7,PDvalue7,'r')\n",
    "plt.xlabel('Stage Position (in)')\n",
    "plt.ylabel('PD Signal (arb)')\n",
    "#plt.show() "
   ]
  },
  {
   "cell_type": "code",
   "execution_count": 36,
   "metadata": {
    "collapsed": true
   },
   "outputs": [],
   "source": [
    "with open ('background8_Speed_03.txt','r') as f:\n",
    "    times8=[];\n",
    "    PDvalue8 = [];\n",
    "    for line in f:\n",
    "        line = line.strip()\n",
    "        if line:\n",
    "            data = line.split()\n",
    "            times8.append(0.2+float(data[0])*97/1200000) #So here I am converting the data point number 0-1200 to stage position 0.2in to 0.297 in\n",
    "            PDvalue8.append(float(data[1]))\n",
    "\n",
    "plt.plot(times8,PDvalue8,'r')\n",
    "plt.xlabel('Stage Position (in)')\n",
    "plt.ylabel('PD Signal (arb)')\n",
    "#plt.show() "
   ]
  },
  {
   "cell_type": "code",
   "execution_count": 37,
   "metadata": {
    "collapsed": true
   },
   "outputs": [],
   "source": [
    "with open ('background9_Speed_03.txt','r') as f:\n",
    "    times9=[];\n",
    "    PDvalue9 = [];\n",
    "    for line in f:\n",
    "        line = line.strip()\n",
    "        if line:\n",
    "            data = line.split()\n",
    "            times9.append(0.2+float(data[0])*97/1200000) #So here I am converting the data point number 0-1200 to stage position 0.2in to 0.297 in\n",
    "            PDvalue9.append(float(data[1]))\n",
    "\n",
    "plt.plot(times9,PDvalue9,'r')\n",
    "plt.xlabel('Stage Position (in)')\n",
    "plt.ylabel('PD Signal (arb)')\n",
    "#plt.show() "
   ]
  },
  {
   "cell_type": "code",
   "execution_count": 38,
   "metadata": {
    "collapsed": true
   },
   "outputs": [],
   "source": [
    "with open ('background10_Speed_03.txt','r') as f:\n",
    "    times10=[];\n",
    "    PDvalue10 = [];\n",
    "    for line in f:\n",
    "        line = line.strip()\n",
    "        if line:\n",
    "            data = line.split()\n",
    "            times10.append(0.2+float(data[0])*97/1200000) #So here I am converting the data point number 0-1200 to stage position 0.2in to 0.297 in\n",
    "            PDvalue10.append(float(data[1]))\n",
    "\n",
    "plt.plot(times10,PDvalue10,'r')\n",
    "plt.xlabel('Stage Position (in)')\n",
    "plt.ylabel('PD Signal (arb)')\n",
    "#plt.show() "
   ]
  },
  {
   "cell_type": "code",
   "execution_count": 39,
   "metadata": {
    "collapsed": true
   },
   "outputs": [],
   "source": [
    "with open ('background11_Speed_03.txt','r') as f:\n",
    "    times11=[];\n",
    "    PDvalue11 = [];\n",
    "    for line in f:\n",
    "        line = line.strip()\n",
    "        if line:\n",
    "            data = line.split()\n",
    "            times11.append(0.2+float(data[0])*97/1200000) #So here I am converting the data point number 0-1200 to stage position 0.2in to 0.297 in\n",
    "            PDvalue11.append(float(data[1]))\n",
    "\n",
    "plt.plot(times11,PDvalue11,'r')\n",
    "plt.xlabel('Stage Position (in)')\n",
    "plt.ylabel('PD Signal (arb)')\n",
    "#plt.show() "
   ]
  },
  {
   "cell_type": "code",
   "execution_count": 40,
   "metadata": {
    "collapsed": true
   },
   "outputs": [],
   "source": [
    "with open ('background12_Speed_03.txt','r') as f:\n",
    "    times12=[];\n",
    "    PDvalue12 = [];\n",
    "    for line in f:\n",
    "        line = line.strip()\n",
    "        if line:\n",
    "            data = line.split()\n",
    "            times12.append(0.2+float(data[0])*97/1200000) #So here I am converting the data point number 0-1200 to stage position 0.2in to 0.297 in\n",
    "            PDvalue12.append(float(data[1]))\n",
    "\n",
    "plt.plot(times12,PDvalue12,'r')\n",
    "plt.xlabel('Stage Position (in)')\n",
    "plt.ylabel('PD Signal (arb)')\n",
    "#plt.show() "
   ]
  },
  {
   "cell_type": "code",
   "execution_count": 41,
   "metadata": {
    "collapsed": true
   },
   "outputs": [],
   "source": [
    "with open ('background13_Speed_03.txt','r') as f:\n",
    "    times13=[];\n",
    "    PDvalue13 = [];\n",
    "    for line in f:\n",
    "        line = line.strip()\n",
    "        if line:\n",
    "            data = line.split()\n",
    "            times13.append(0.2+float(data[0])*97/1200000) #So here I am converting the data point number 0-1200 to stage position 0.2in to 0.297 in\n",
    "            PDvalue13.append(float(data[1]))\n",
    "\n",
    "plt.plot(times13,PDvalue13,'r')\n",
    "plt.xlabel('Stage Position (in)')\n",
    "plt.ylabel('PD Signal (arb)')\n",
    "#plt.show() "
   ]
  },
  {
   "cell_type": "code",
   "execution_count": 42,
   "metadata": {
    "collapsed": true
   },
   "outputs": [],
   "source": [
    "with open ('background14_Speed_03.txt','r') as f:\n",
    "    times14=[];\n",
    "    PDvalue14 = [];\n",
    "    for line in f:\n",
    "        line = line.strip()\n",
    "        if line:\n",
    "            data = line.split()\n",
    "            times14.append(0.2+float(data[0])*97/1200000) #So here I am converting the data point number 0-1200 to stage position 0.2in to 0.297 in\n",
    "            PDvalue14.append(float(data[1]))\n",
    "\n",
    "plt.plot(times14,PDvalue14,'r')\n",
    "plt.xlabel('Stage Position (in)')\n",
    "plt.ylabel('PD Signal (arb)')\n",
    "#plt.show() "
   ]
  },
  {
   "cell_type": "code",
   "execution_count": 43,
   "metadata": {
    "collapsed": true
   },
   "outputs": [],
   "source": [
    "with open ('background15_Speed_03.txt','r') as f:\n",
    "    times15=[];\n",
    "    PDvalue15 = [];\n",
    "    for line in f:\n",
    "        line = line.strip()\n",
    "        if line:\n",
    "            data = line.split()\n",
    "            times15.append(0.2+float(data[0])*97/1200000) #So here I am converting the data point number 0-1200 to stage position 0.2in to 0.297 in\n",
    "            PDvalue15.append(float(data[1]))\n",
    "\n",
    "plt.plot(times15,PDvalue15,'r')\n",
    "plt.xlabel('Stage Position (in)')\n",
    "plt.ylabel('PD Signal (arb)')\n",
    "#plt.show() "
   ]
  },
  {
   "cell_type": "code",
   "execution_count": 44,
   "metadata": {
    "collapsed": true
   },
   "outputs": [],
   "source": [
    "with open ('background16_Speed_03.txt','r') as f:\n",
    "    times16=[];\n",
    "    PDvalue16 = [];\n",
    "    for line in f:\n",
    "        line = line.strip()\n",
    "        if line:\n",
    "            data = line.split()\n",
    "            times16.append(0.2+float(data[0])*97/1200000) #So here I am converting the data point number 0-1200 to stage position 0.2in to 0.297 in\n",
    "            PDvalue16.append(float(data[1]))\n",
    "\n",
    "plt.plot(times16,PDvalue16,'r')\n",
    "plt.xlabel('Stage Position (in)')\n",
    "plt.ylabel('PD Signal (arb)')\n",
    "#plt.show() "
   ]
  },
  {
   "cell_type": "code",
   "execution_count": 45,
   "metadata": {
    "collapsed": true
   },
   "outputs": [],
   "source": [
    "with open ('background17_Speed_03.txt','r') as f:\n",
    "    times17=[];\n",
    "    PDvalue17 = [];\n",
    "    for line in f:\n",
    "        line = line.strip()\n",
    "        if line:\n",
    "            data = line.split()\n",
    "            times17.append(0.2+float(data[0])*97/1200000) #So here I am converting the data point number 0-1200 to stage position 0.2in to 0.297 in\n",
    "            PDvalue17.append(float(data[1]))\n",
    "\n",
    "plt.plot(times17,PDvalue17,'r')\n",
    "plt.xlabel('Stage Position (in)')\n",
    "plt.ylabel('PD Signal (arb)')\n",
    "#plt.show() "
   ]
  },
  {
   "cell_type": "code",
   "execution_count": 46,
   "metadata": {
    "collapsed": true
   },
   "outputs": [],
   "source": [
    "with open ('background18_Speed_03.txt','r') as f:\n",
    "    times18=[];\n",
    "    PDvalue18 = [];\n",
    "    for line in f:\n",
    "        line = line.strip()\n",
    "        if line:\n",
    "            data = line.split()\n",
    "            times18.append(0.2+float(data[0])*97/1200000) #So here I am converting the data point number 0-1200 to stage position 0.2in to 0.297 in\n",
    "            PDvalue18.append(float(data[1]))\n",
    "\n",
    "plt.plot(times18,PDvalue18,'r')\n",
    "plt.xlabel('Stage Position (in)')\n",
    "plt.ylabel('PD Signal (arb)')\n",
    "#plt.show() "
   ]
  },
  {
   "cell_type": "code",
   "execution_count": 47,
   "metadata": {
    "collapsed": true
   },
   "outputs": [],
   "source": [
    "with open ('background19_Speed_03.txt','r') as f:\n",
    "    times19=[];\n",
    "    PDvalue19 = [];\n",
    "    for line in f:\n",
    "        line = line.strip()\n",
    "        if line:\n",
    "            data = line.split()\n",
    "            times19.append(0.2+float(data[0])*97/1200000) #So here I am converting the data point number 0-1200 to stage position 0.2in to 0.297 in\n",
    "            PDvalue19.append(float(data[1]))\n",
    "\n",
    "plt.plot(times19,PDvalue19,'r')\n",
    "plt.xlabel('Stage Position (in)')\n",
    "plt.ylabel('PD Signal (arb)')\n",
    "#plt.show() "
   ]
  },
  {
   "cell_type": "code",
   "execution_count": 49,
   "metadata": {
    "collapsed": false
   },
   "outputs": [],
   "source": [
    "with open ('background20_Speed_03.txt','r') as f:\n",
    "    times20=[];\n",
    "    PDvalue20 = [];\n",
    "    for line in f:\n",
    "        line = line.strip()\n",
    "        if line:\n",
    "            data = line.split()\n",
    "            times20.append(0.2+float(data[0])*97/1200000) #So here I am converting the data point number 0-1200 to stage position 0.2in to 0.297 in\n",
    "            PDvalue20.append(float(data[1]))\n",
    "\n",
    "plt.plot(times20,PDvalue20,'r')\n",
    "plt.xlabel('Stage Position (in)')\n",
    "plt.ylabel('PD Signal (arb)')\n",
    "#plt.show() "
   ]
  },
  {
   "cell_type": "code",
   "execution_count": 50,
   "metadata": {
    "collapsed": false
   },
   "outputs": [],
   "source": [
    "FinalPD = [PDvalue1,PDvalue2,PDvalue3,PDvalue4,PDvalue5,PDvalue6,PDvalue7,PDvalue8,PDvalue9,PDvalue10,\n",
    "           PDvalue11,PDvalue12,PDvalue13,PDvalue14,PDvalue15,PDvalue16,PDvalue17,PDvalue18,PDvalue19,PDvalue20]"
   ]
  },
  {
   "cell_type": "code",
   "execution_count": 51,
   "metadata": {
    "collapsed": false
   },
   "outputs": [],
   "source": [
    "FinalaveragePD = [];\n",
    "averagePD = [];\n",
    "\n",
    "for i in range(len(FinalPD[0])):\n",
    "    #print ([finalPD[0][i], finalPD[1][i], finalPD[2][i], finalPD[3][i], finalPD[4][i]])\n",
    "    #print(np.mean([finalPD[0][i], finalPD[1][i], finalPD[2][i], finalPD[3][i], finalPD[4][i]]))\n",
    "    averagePD = np.sum([FinalPD[0][i],FinalPD[1][i],FinalPD[2][i],FinalPD[3][i],FinalPD[4][i],FinalPD[5][i],FinalPD[6][i],\n",
    "                       FinalPD[7][i],FinalPD[8][i],FinalPD[9][i],FinalPD[10][i],FinalPD[11][i],FinalPD[12][i],FinalPD[13][i],\n",
    "                       FinalPD[14][i],FinalPD[15][i],FinalPD[16][i],FinalPD[17][i],FinalPD[18][i],FinalPD[19][i]])/len(FinalPD)\n",
    "    FinalaveragePD.append(averagePD)\n",
    "#print(FinalaveragePD)\n",
    "plt.plot(times,FinalaveragePD,'b')\n",
    "#pylab.xlim([0.24,0.26])\n",
    "plt.xlabel('Stage Position (in)')\n",
    "plt.ylabel('PD Signal (arb)')\n",
    "plt.grid()\n",
    "plt.show()"
   ]
  },
  {
   "cell_type": "code",
   "execution_count": 52,
   "metadata": {
    "collapsed": true
   },
   "outputs": [],
   "source": [
    "with open ('bRun1_0200_0297_Speed__03.txt','r') as f:\n",
    "    times1=[];\n",
    "    Pvalue1 = [];\n",
    "    for line in f:\n",
    "        line = line.strip()\n",
    "        if line:\n",
    "            data = line.split()\n",
    "            times1.append(0.2+float(data[0])*97/1200000) #So here I am converting the data point number 0-1200 to stage position 0.2in to 0.297 in\n",
    "            Pvalue1.append(float(data[1]))\n",
    "\n",
    "plt.plot(times1,Pvalue1,'r')\n",
    "plt.xlabel('Stage Position (in)')\n",
    "plt.ylabel('PD Signal (arb)')\n",
    "plt.show() "
   ]
  },
  {
   "cell_type": "code",
   "execution_count": 53,
   "metadata": {
    "collapsed": true
   },
   "outputs": [],
   "source": [
    "with open ('Run2_0200_0297_Speed__03.txt','r') as f:\n",
    "    times2=[];\n",
    "    Pvalue2 = [];\n",
    "    for line in f:\n",
    "        line = line.strip()\n",
    "        if line:\n",
    "            data = line.split()\n",
    "            times2.append(0.2+float(data[0])*97/1200000) #So here I am converting the data point number 0-1200 to stage position 0.2in to 0.297 in\n",
    "            Pvalue2.append(float(data[1]))\n",
    "\n",
    "plt.plot(times2,Pvalue2,'b')\n",
    "plt.xlabel('Stage Position (in)')\n",
    "plt.ylabel('PD Signal (arb)')\n",
    "plt.show()"
   ]
  },
  {
   "cell_type": "code",
   "execution_count": 54,
   "metadata": {
    "collapsed": true
   },
   "outputs": [],
   "source": [
    "with open ('Run3_0200_0297_Speed__03.txt','r') as f:\n",
    "    times3=[];\n",
    "    Pvalue3 = [];\n",
    "    for line in f:\n",
    "        line = line.strip()\n",
    "        if line:\n",
    "            data = line.split()\n",
    "            times3.append(0.2+float(data[0])*97/1200000) #So here I am converting the data point number 0-1200 to stage position 0.2in to 0.297 in\n",
    "            Pvalue3.append(float(data[1]))\n",
    "\n",
    "plt.plot(times3,Pvalue3,'b')\n",
    "plt.xlabel('Stage Position (in)')\n",
    "plt.ylabel('PD Signal (arb)')\n",
    "plt.show() "
   ]
  },
  {
   "cell_type": "code",
   "execution_count": 55,
   "metadata": {
    "collapsed": true
   },
   "outputs": [],
   "source": [
    "with open ('Run4_0200_0297_Speed__03.txt','r') as f:\n",
    "    times4=[];\n",
    "    Pvalue4 = [];\n",
    "    for line in f:\n",
    "        line = line.strip()\n",
    "        if line:\n",
    "            data = line.split()\n",
    "            times4.append(0.2+float(data[0])*97/1200000) #So here I am converting the data point number 0-1200 to stage position 0.2in to 0.297 in\n",
    "            Pvalue4.append(float(data[1]))\n",
    "\n",
    "plt.plot(times4,Pvalue4,'b')\n",
    "plt.xlabel('Stage Position (in)')\n",
    "plt.ylabel('PD Signal (arb)')\n",
    "plt.show() "
   ]
  },
  {
   "cell_type": "code",
   "execution_count": 56,
   "metadata": {
    "collapsed": true
   },
   "outputs": [],
   "source": [
    "with open ('Run5_0200_0297_Speed__03.txt','r') as f:\n",
    "    times5=[];\n",
    "    Pvalue5 = [];\n",
    "    for line in f:\n",
    "        line = line.strip()\n",
    "        if line:\n",
    "            data = line.split()\n",
    "            times5.append(0.2+float(data[0])*97/1200000) #So here I am converting the data point number 0-1200 to stage position 0.2in to 0.297 in\n",
    "            Pvalue5.append(float(data[1]))\n",
    "\n",
    "plt.plot(times5,Pvalue5,'b')\n",
    "plt.xlabel('Stage Position (in)')\n",
    "plt.ylabel('PD Signal (arb)')\n",
    "plt.show() "
   ]
  },
  {
   "cell_type": "code",
   "execution_count": 57,
   "metadata": {
    "collapsed": true
   },
   "outputs": [],
   "source": [
    "with open ('Run6_0200_0297_Speed__03.txt','r') as f:\n",
    "    times6=[];\n",
    "    Pvalue6 = [];\n",
    "    for line in f:\n",
    "        line = line.strip()\n",
    "        if line:\n",
    "            data = line.split()\n",
    "            times6.append(0.2+float(data[0])*97/1200000) #So here I am converting the data point number 0-1200 to stage position 0.2in to 0.297 in\n",
    "            Pvalue6.append(float(data[1]))\n",
    "\n",
    "plt.plot(times6,Pvalue6,'b')\n",
    "plt.xlabel('Stage Position (in)')\n",
    "plt.ylabel('PD Signal (arb)')\n",
    "plt.show() "
   ]
  },
  {
   "cell_type": "code",
   "execution_count": 58,
   "metadata": {
    "collapsed": true
   },
   "outputs": [],
   "source": [
    "with open ('Run7_0200_0297_Speed__03.txt','r') as f:\n",
    "    times7=[];\n",
    "    Pvalue7 = [];\n",
    "    for line in f:\n",
    "        line = line.strip()\n",
    "        if line:\n",
    "            data = line.split()\n",
    "            times7.append(0.2+float(data[0])*97/1200000) #So here I am converting the data point number 0-1200 to stage position 0.2in to 0.297 in\n",
    "            Pvalue7.append(float(data[1]))\n",
    "\n",
    "plt.plot(times7,Pvalue7,'b')\n",
    "plt.xlabel('Stage Position (in)')\n",
    "plt.ylabel('PD Signal (arb)')\n",
    "plt.show() "
   ]
  },
  {
   "cell_type": "code",
   "execution_count": 59,
   "metadata": {
    "collapsed": false
   },
   "outputs": [],
   "source": [
    "with open ('Run8_0200_0297_Speed__03.txt','r') as f:\n",
    "    times8=[];\n",
    "    Pvalue8 = [];\n",
    "    for line in f:\n",
    "        line = line.strip()\n",
    "        if line:\n",
    "            data = line.split()\n",
    "            times8.append(0.2+float(data[0])*97/1200000) #So here I am converting the data point number 0-1200 to stage position 0.2in to 0.297 in\n",
    "            Pvalue8.append(float(data[1]))\n",
    "\n",
    "plt.plot(times8,Pvalue8,'b')\n",
    "plt.xlabel('Stage Position (in)')\n",
    "plt.ylabel('PD Signal (arb)')\n",
    "plt.show()"
   ]
  },
  {
   "cell_type": "code",
   "execution_count": 60,
   "metadata": {
    "collapsed": true
   },
   "outputs": [],
   "source": [
    "with open ('Run9_0200_0297_Speed__03.txt','r') as f:\n",
    "    times9=[];\n",
    "    Pvalue9 = [];\n",
    "    for line in f:\n",
    "        line = line.strip()\n",
    "        if line:\n",
    "            data = line.split()\n",
    "            times9.append(0.2+float(data[0])*97/1200000) #So here I am converting the data point number 0-1200 to stage position 0.2in to 0.297 in\n",
    "            Pvalue9.append(float(data[1]))\n",
    "\n",
    "plt.plot(times9,Pvalue9,'b')\n",
    "plt.xlabel('Stage Position (in)')\n",
    "plt.ylabel('PD Signal (arb)')\n",
    "plt.show() "
   ]
  },
  {
   "cell_type": "code",
   "execution_count": 61,
   "metadata": {
    "collapsed": true
   },
   "outputs": [],
   "source": [
    "with open ('Run10_0200_0297_Speed__03.txt','r') as f:\n",
    "    times10=[];\n",
    "    Pvalue10 = [];\n",
    "    for line in f:\n",
    "        line = line.strip()\n",
    "        if line:\n",
    "            data = line.split()\n",
    "            times10.append(0.2+float(data[0])*97/1200000) #So here I am converting the data point number 0-1200 to stage position 0.2in to 0.297 in\n",
    "            Pvalue10.append(float(data[1]))\n",
    "\n",
    "plt.plot(times10,Pvalue10,'b')\n",
    "plt.xlabel('Stage Position (in)')\n",
    "plt.ylabel('PD Signal (arb)')\n",
    "plt.show() "
   ]
  },
  {
   "cell_type": "code",
   "execution_count": 62,
   "metadata": {
    "collapsed": true
   },
   "outputs": [],
   "source": [
    "with open ('Run11_0200_0297_Speed__03.txt','r') as f:\n",
    "    times11=[];\n",
    "    Pvalue11 = [];\n",
    "    for line in f:\n",
    "        line = line.strip()\n",
    "        if line:\n",
    "            data = line.split()\n",
    "            times11.append(0.2+float(data[0])*97/1200000) #So here I am converting the data point number 0-1200 to stage position 0.2in to 0.297 in\n",
    "            Pvalue11.append(float(data[1]))\n",
    "\n",
    "plt.plot(times11,Pvalue11,'b')\n",
    "plt.xlabel('Stage Position (in)')\n",
    "plt.ylabel('PD Signal (arb)')\n",
    "plt.show() "
   ]
  },
  {
   "cell_type": "code",
   "execution_count": 63,
   "metadata": {
    "collapsed": true
   },
   "outputs": [],
   "source": [
    "with open ('Run12_0200_0297_Speed__03.txt','r') as f:\n",
    "    times12=[];\n",
    "    Pvalue12 = [];\n",
    "    for line in f:\n",
    "        line = line.strip()\n",
    "        if line:\n",
    "            data = line.split()\n",
    "            times12.append(0.2+float(data[0])*97/1200000) #So here I am converting the data point number 0-1200 to stage position 0.2in to 0.297 in\n",
    "            Pvalue12.append(float(data[1]))\n",
    "\n",
    "plt.plot(times12,Pvalue12,'b')\n",
    "plt.xlabel('Stage Position (in)')\n",
    "plt.ylabel('PD Signal (arb)')\n",
    "plt.show() "
   ]
  },
  {
   "cell_type": "code",
   "execution_count": 64,
   "metadata": {
    "collapsed": true
   },
   "outputs": [],
   "source": [
    "with open ('Run13_0200_0297_Speed__03.txt','r') as f:\n",
    "    times13=[];\n",
    "    Pvalue13 = [];\n",
    "    for line in f:\n",
    "        line = line.strip()\n",
    "        if line:\n",
    "            data = line.split()\n",
    "            times13.append(0.2+float(data[0])*97/1200000) #So here I am converting the data point number 0-1200 to stage position 0.2in to 0.297 in\n",
    "            Pvalue13.append(float(data[1]))\n",
    "\n",
    "plt.plot(times13,Pvalue13,'b')\n",
    "plt.xlabel('Stage Position (in)')\n",
    "plt.ylabel('PD Signal (arb)')\n",
    "plt.show() "
   ]
  },
  {
   "cell_type": "code",
   "execution_count": 65,
   "metadata": {
    "collapsed": true
   },
   "outputs": [],
   "source": [
    "with open ('Run14_0200_0297_Speed__03.txt','r') as f:\n",
    "    times14=[];\n",
    "    Pvalue14 = [];\n",
    "    for line in f:\n",
    "        line = line.strip()\n",
    "        if line:\n",
    "            data = line.split()\n",
    "            times14.append(0.2+float(data[0])*97/1200000) #So here I am converting the data point number 0-1200 to stage position 0.2in to 0.297 in\n",
    "            Pvalue14.append(float(data[1]))\n",
    "\n",
    "plt.plot(times14,Pvalue14,'b')\n",
    "plt.xlabel('Stage Position (in)')\n",
    "plt.ylabel('PD Signal (arb)')\n",
    "plt.show() "
   ]
  },
  {
   "cell_type": "code",
   "execution_count": 66,
   "metadata": {
    "collapsed": true
   },
   "outputs": [],
   "source": [
    "with open ('Run15_0200_0297_Speed__03.txt','r') as f:\n",
    "    times15=[];\n",
    "    Pvalue15 = [];\n",
    "    for line in f:\n",
    "        line = line.strip()\n",
    "        if line:\n",
    "            data = line.split()\n",
    "            times15.append(0.2+float(data[0])*97/1200000) #So here I am converting the data point number 0-1200 to stage position 0.2in to 0.297 in\n",
    "            Pvalue15.append(float(data[1]))\n",
    "\n",
    "plt.plot(times15,Pvalue15,'b')\n",
    "plt.xlabel('Stage Position (in)')\n",
    "plt.ylabel('PD Signal (arb)')\n",
    "plt.show() "
   ]
  },
  {
   "cell_type": "code",
   "execution_count": 67,
   "metadata": {
    "collapsed": true
   },
   "outputs": [],
   "source": [
    "with open ('Run16_0200_0297_Speed__03.txt','r') as f:\n",
    "    times16=[];\n",
    "    Pvalue16 = [];\n",
    "    for line in f:\n",
    "        line = line.strip()\n",
    "        if line:\n",
    "            data = line.split()\n",
    "            times16.append(0.2+float(data[0])*97/1200000) #So here I am converting the data point number 0-1200 to stage position 0.2in to 0.297 in\n",
    "            Pvalue16.append(float(data[1]))\n",
    "\n",
    "plt.plot(times16,Pvalue16,'b')\n",
    "plt.xlabel('Stage Position (in)')\n",
    "plt.ylabel('PD Signal (arb)')\n",
    "plt.show() "
   ]
  },
  {
   "cell_type": "code",
   "execution_count": 68,
   "metadata": {
    "collapsed": true
   },
   "outputs": [],
   "source": [
    "with open ('Run17_0200_0297_Speed__03.txt','r') as f:\n",
    "    times17=[];\n",
    "    Pvalue17 = [];\n",
    "    for line in f:\n",
    "        line = line.strip()\n",
    "        if line:\n",
    "            data = line.split()\n",
    "            times17.append(0.2+float(data[0])*97/1200000) #So here I am converting the data point number 0-1200 to stage position 0.2in to 0.297 in\n",
    "            Pvalue17.append(float(data[1]))\n",
    "\n",
    "plt.plot(times17,Pvalue17,'b')\n",
    "plt.xlabel('Stage Position (in)')\n",
    "plt.ylabel('PD Signal (arb)')\n",
    "plt.show() "
   ]
  },
  {
   "cell_type": "code",
   "execution_count": 69,
   "metadata": {
    "collapsed": true
   },
   "outputs": [],
   "source": [
    "with open ('Run18_0200_0297_Speed__03.txt','r') as f:\n",
    "    times18=[];\n",
    "    Pvalue18 = [];\n",
    "    for line in f:\n",
    "        line = line.strip()\n",
    "        if line:\n",
    "            data = line.split()\n",
    "            times18.append(0.2+float(data[0])*97/1200000) #So here I am converting the data point number 0-1200 to stage position 0.2in to 0.297 in\n",
    "            Pvalue18.append(float(data[1]))\n",
    "\n",
    "plt.plot(times18,Pvalue18,'b')\n",
    "plt.xlabel('Stage Position (in)')\n",
    "plt.ylabel('PD Signal (arb)')\n",
    "plt.show()"
   ]
  },
  {
   "cell_type": "code",
   "execution_count": 70,
   "metadata": {
    "collapsed": true
   },
   "outputs": [],
   "source": [
    "with open ('Run19_0200_0297_Speed__03.txt','r') as f:\n",
    "    times19=[];\n",
    "    Pvalue19 = [];\n",
    "    for line in f:\n",
    "        line = line.strip()\n",
    "        if line:\n",
    "            data = line.split()\n",
    "            times19.append(0.2+float(data[0])*97/1200000) #So here I am converting the data point number 0-1200 to stage position 0.2in to 0.297 in\n",
    "            Pvalue19.append(float(data[1]))\n",
    "\n",
    "plt.plot(times19,Pvalue19,'b')\n",
    "plt.xlabel('Stage Position (in)')\n",
    "plt.ylabel('PD Signal (arb)')\n",
    "plt.show() "
   ]
  },
  {
   "cell_type": "code",
   "execution_count": 71,
   "metadata": {
    "collapsed": true
   },
   "outputs": [],
   "source": [
    "with open ('Run20_0200_0297_Speed__03.txt','r') as f:\n",
    "    times20=[];\n",
    "    Pvalue20 = [];\n",
    "    for line in f:\n",
    "        line = line.strip()\n",
    "        if line:\n",
    "            data = line.split()\n",
    "            times20.append(0.2+float(data[0])*97/1200000) #So here I am converting the data point number 0-1200 to stage position 0.2in to 0.297 in\n",
    "            Pvalue20.append(float(data[1]))\n",
    "\n",
    "plt.plot(times20,Pvalue20,'b')\n",
    "plt.xlabel('Stage Position (in)')\n",
    "plt.ylabel('PD Signal (arb)')\n",
    "plt.show() "
   ]
  },
  {
   "cell_type": "code",
   "execution_count": null,
   "metadata": {
    "collapsed": false
   },
   "outputs": [],
   "source": [
    "finalPD = [Pvalue1,Pvalue2,Pvalue3,Pvalue4,Pvalue5,Pvalue6,Pvalue7,Pvalue8,Pvalue9,Pvalue10,\n",
    "           Pvalue11,Pvalue12,Pvalue13,Pvalue14,Pvalue15,Pvalue16,Pvalue17,Pvalue18,Pvalue19,Pvalue20]"
   ]
  },
  {
   "cell_type": "code",
   "execution_count": null,
   "metadata": {
    "collapsed": false
   },
   "outputs": [],
   "source": [
    "FinalaverageP = [];\n",
    "averagePD = [];\n",
    "\n",
    "for i in range(len(FinalPD[0])):\n",
    "    #print ([finalPD[0][i], finalPD[1][i], finalPD[2][i], finalPD[3][i], finalPD[4][i]])\n",
    "    #print(np.mean([finalPD[0][i], finalPD[1][i], finalPD[2][i], finalPD[3][i], finalPD[4][i]]))\n",
    "    averagePD = np.sum([finalPD[0][i],finalPD[1][i],finalPD[2][i],finalPD[3][i],finalPD[4][i],finalPD[5][i],finalPD[6][i],\n",
    "                       finalPD[7][i],finalPD[8][i],finalPD[9][i],finalPD[10][i],finalPD[11][i],finalPD[12][i],finalPD[13][i],\n",
    "                       finalPD[14][i],finalPD[15][i],finalPD[16][i],finalPD[17][i],finalPD[18][i],finalPD[19][i]])/len(finalPD)\n",
    "    FinalaverageP.append(averagePD)\n",
    "#print(FinalaveragePD)\n",
    "plt.plot(times,FinalaveragePD,'r',times,FinalaverageP,'b')\n",
    "#pylab.xlim([0.24,0.26])\n",
    "plt.xlabel('Stage Position (in)')\n",
    "plt.ylabel('PD Signal (arb)')\n",
    "plt.grid()\n",
    "plt.show()"
   ]
  },
  {
   "cell_type": "code",
   "execution_count": null,
   "metadata": {
    "collapsed": true
   },
   "outputs": [],
   "source": []
  }
 ],
 "metadata": {
  "kernelspec": {
   "display_name": "Python 3",
   "language": "python",
   "name": "python3"
  },
  "language_info": {
   "codemirror_mode": {
    "name": "ipython",
    "version": 3
   },
   "file_extension": ".py",
   "mimetype": "text/x-python",
   "name": "python",
   "nbconvert_exporter": "python",
   "pygments_lexer": "ipython3",
   "version": "3.5.1"
  }
 },
 "nbformat": 4,
 "nbformat_minor": 0
}
