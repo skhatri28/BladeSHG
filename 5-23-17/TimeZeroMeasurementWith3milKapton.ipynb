{
 "cells": [
  {
   "cell_type": "code",
   "execution_count": 1,
   "metadata": {
    "collapsed": true
   },
   "outputs": [],
   "source": [
    "import matplotlib.pyplot as plt\n",
    "import numpy as np\n",
    "import scipy as sy\n",
    "from scipy import stats\n",
    "import pylab\n",
    "import re"
   ]
  },
  {
   "cell_type": "code",
   "execution_count": 12,
   "metadata": {
    "collapsed": true
   },
   "outputs": [],
   "source": [
    "c = 3*10**11; #Speed of Light in mm/s, Going to use this to convert spatial information to time. \n",
    "T1 = (478*0.000125 + 0.0225)*2*25.4/(10**-12*c)\n",
    "with open ('TimeZero_3milKapton_0DegPolarizationCopy.txt','r') as f:\n",
    "    times1=[];\n",
    "    PDvalue1 = [];\n",
    "    for line in f:\n",
    "        line = line.strip()\n",
    "        if line:\n",
    "            data = line.split()\n",
    "            times1.append((float(data[0])*0.000125 + 0.0225)*25.4*2/(10**-12*c)-T1) # Here I did a linear extrapolation. \n",
    "                                                                                  # Refer to labbook for more information. \n",
    "            PDvalue1.append(float(data[1]))\n",
    "extraticks = [-10,-9,-8,-7,-6,-5,-4, -3, -2, -1, 1, 2, 3, 4,5,6,7,8,9,10]\n",
    "plt.plot(times1,PDvalue1,'k')\n",
    "plt.xlabel('Stage Position (ps)')\n",
    "plt.ylabel('PD Signal (arb)')\n",
    "plt.grid(True)\n",
    "plt.xticks(list(plt.xticks()[0]) + extraticks)\n",
    "plt.xlim(-10,10)\n",
    "plt.show()"
   ]
  },
  {
   "cell_type": "code",
   "execution_count": 3,
   "metadata": {
    "collapsed": false
   },
   "outputs": [
    {
     "data": {
      "text/plain": [
       "478"
      ]
     },
     "execution_count": 3,
     "metadata": {},
     "output_type": "execute_result"
    }
   ],
   "source": [
    "PDvalue1.index(max(PDvalue1))"
   ]
  },
  {
   "cell_type": "code",
   "execution_count": 5,
   "metadata": {
    "collapsed": false
   },
   "outputs": [
    {
     "data": {
      "text/plain": [
       "220"
      ]
     },
     "execution_count": 5,
     "metadata": {},
     "output_type": "execute_result"
    }
   ],
   "source": [
    "PDvalue1.index(min(PDvalue1[150:250]))"
   ]
  },
  {
   "cell_type": "code",
   "execution_count": 6,
   "metadata": {
    "collapsed": false
   },
   "outputs": [
    {
     "data": {
      "text/plain": [
       "0.0319"
      ]
     },
     "execution_count": 6,
     "metadata": {},
     "output_type": "execute_result"
    }
   ],
   "source": [
    "min(PDvalue1[150:250])"
   ]
  },
  {
   "cell_type": "code",
   "execution_count": 19,
   "metadata": {
    "collapsed": true
   },
   "outputs": [],
   "source": []
  },
  {
   "cell_type": "code",
   "execution_count": 14,
   "metadata": {
    "collapsed": false
   },
   "outputs": [
    {
     "data": {
      "text/plain": [
       "473"
      ]
     },
     "execution_count": 14,
     "metadata": {},
     "output_type": "execute_result"
    }
   ],
   "source": [
    "PDvalue2.index(max(PDvalue2))"
   ]
  },
  {
   "cell_type": "code",
   "execution_count": 20,
   "metadata": {
    "collapsed": true
   },
   "outputs": [],
   "source": [
    "# Going to compare the old data(no Kapton) to new Data (w/Kapton)\n",
    "c = 3*10**11; #Speed of Light in mm/s, Going to use this to convert spatial information to time. \n",
    "T3 = (441*0.000125 + 0.0235)*2*25.4/(10**-12*c)\n",
    "with open ('NewlyTimeZero_Speed1_0DegreePolarizCopy.txt','r') as f:\n",
    "    times3=[];\n",
    "    PDvalue3 = [];\n",
    "    for line in f:\n",
    "        line = line.strip()\n",
    "        if line:\n",
    "            data = line.split()\n",
    "            times3.append((float(data[0])*0.000125 + 0.0235)*25.4*2/(10**-12*c)-T3) # Here I did a linear extrapolation. \n",
    "            PDvalue3.append(float(data[1]))\n",
    "plt.plot(times3,PDvalue3,'k+')\n",
    "extraticks = [-10,-9,-8,-7,-6,-5,-4, -3, -2, -1, 1, 2, 3, 4,5,6,7,8,9,10]\n",
    "plt.xlabel('Stage Position (ps)')\n",
    "plt.ylabel('PD Signal (arb)')\n",
    "plt.xticks(list(plt.xticks()[0]) + extraticks)\n",
    "plt.grid(True)\n",
    "plt.show()"
   ]
  },
  {
   "cell_type": "code",
   "execution_count": 22,
   "metadata": {
    "collapsed": true
   },
   "outputs": [],
   "source": [
    "c = 3*10**11; #Speed of Light in mm/s, Going to use this to convert spatial information to time. \n",
    "T4 = (446*0.000125 + 0.024)*2*25.4/(10**-12*c)\n",
    "with open ('NewlyTimeZero_Speed1_90DegreePolarizCopy.txt','r') as f:\n",
    "    times4=[];\n",
    "    PDvalue4 = [];\n",
    "    for line in f:\n",
    "        line = line.strip()\n",
    "        if line:\n",
    "            data = line.split()\n",
    "            times4.append((float(data[0])*0.000125 + 0.024)*25.4*2/(10**-12*c)-T4) # Here I did a linear extrapolation. \n",
    "            PDvalue4.append(float(data[1]))\n",
    "plt.plot(times4,PDvalue4,'r*',label = '90 Degrees')\n",
    "plt.xlabel('Stage Delay (ps)')\n",
    "plt.ylabel('PD Signal (arb)')\n",
    "plt.grid(True)\n",
    "plt.xticks(list(plt.xticks()[0]) + extraticks)\n",
    "plt.legend( loc='upper left' )\n",
    "plt.show()\n",
    "#plt.savefig('TimeZeroKaptonVsNoKapton.png')"
   ]
  },
  {
   "cell_type": "code",
   "execution_count": null,
   "metadata": {
    "collapsed": true
   },
   "outputs": [],
   "source": []
  },
  {
   "cell_type": "code",
   "execution_count": 36,
   "metadata": {
    "collapsed": true
   },
   "outputs": [],
   "source": [
    "c = 3*10**11; #Speed of Light in mm/s, Going to use this to convert spatial information to time. \n",
    "T2 = (473*0.000125 + 0.0231)*2*25.4/(10**-12*c)\n",
    "with open ('TimeZero_3milKapton_90DegPolarizationCopy.txt','r') as f:\n",
    "    times2=[];\n",
    "    PDvalue2 = [];\n",
    "    for line in f:\n",
    "        line = line.strip()\n",
    "        if line:\n",
    "            data = line.split()\n",
    "            times2.append((float(data[0])*0.000125 + 0.0231)*25.4*2/(10**-12*c)-T2) # Here I did a linear extrapolation. \n",
    "                                                                                  # Refer to labbook for more information. \n",
    "            PDvalue2.append(float(data[1]))\n",
    "extraticks = [-10,-9,-8,-7,-6,-5,-4, -3, -2, -1, 1, 2, 3, 4,5,6,7,8,9,10]\n",
    "plt.plot(times1,PDvalue1,'k',label = '0 Degrees 3mil Kapton')\n",
    "plt.plot(times2,PDvalue2,'r',label = '90 Degrees 3mil Kapton')\n",
    "plt.plot(times3,PDvalue3,'k.',label = '0 Degrees')\n",
    "plt.plot(times4,PDvalue4,'r.',label = '90 Degrees')\n",
    "plt.xlabel('Stage Delay (ps)')\n",
    "plt.ylabel('PD Signal (arb)')\n",
    "plt.grid(True)\n",
    "plt.xticks(list(plt.xticks()[0]) + extraticks)\n",
    "plt.xlim(-10,10)\n",
    "plt.legend( loc='upper left', fontsize ='medium')\n",
    "#plt.show()\n",
    "plt.savefig('TimeZero3milKaptonvsNoKapton.png')"
   ]
  },
  {
   "cell_type": "code",
   "execution_count": 39,
   "metadata": {
    "collapsed": false
   },
   "outputs": [
    {
     "data": {
      "text/plain": [
       "3.5522"
      ]
     },
     "execution_count": 39,
     "metadata": {},
     "output_type": "execute_result"
    }
   ],
   "source": [
    "max(PDvalue1)"
   ]
  },
  {
   "cell_type": "code",
   "execution_count": 40,
   "metadata": {
    "collapsed": false
   },
   "outputs": [
    {
     "data": {
      "text/plain": [
       "3.295"
      ]
     },
     "execution_count": 40,
     "metadata": {},
     "output_type": "execute_result"
    }
   ],
   "source": [
    "max(PDvalue3)"
   ]
  },
  {
   "cell_type": "code",
   "execution_count": null,
   "metadata": {
    "collapsed": true
   },
   "outputs": [],
   "source": []
  }
 ],
 "metadata": {
  "kernelspec": {
   "display_name": "Python 3",
   "language": "python",
   "name": "python3"
  },
  "language_info": {
   "codemirror_mode": {
    "name": "ipython",
    "version": 3
   },
   "file_extension": ".py",
   "mimetype": "text/x-python",
   "name": "python",
   "nbconvert_exporter": "python",
   "pygments_lexer": "ipython3",
   "version": "3.5.1"
  }
 },
 "nbformat": 4,
 "nbformat_minor": 0
}
