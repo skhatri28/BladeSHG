{
 "cells": [
  {
   "cell_type": "code",
   "execution_count": 1,
   "metadata": {
    "collapsed": true
   },
   "outputs": [],
   "source": [
    "import matplotlib.pyplot as plt\n",
    "import numpy as np\n",
    "import scipy as sy\n",
    "from scipy import stats\n",
    "import pylab\n",
    "import re"
   ]
  },
  {
   "cell_type": "code",
   "execution_count": 13,
   "metadata": {
    "collapsed": false
   },
   "outputs": [],
   "source": [
    "c = 3*10**11; #Speed of Light in mm/s, Going to use this to convert spatial information to time. \n",
    "d = 0.113*25.4; #Converting inches on delay stage to mm\n",
    "with open ('BestTimeZero_Speed1_0113Inches_45DegreePolariz copy.txt','r') as f:\n",
    "    times1=[];\n",
    "    PDvalue1 = [];\n",
    "    for line in f:\n",
    "        line = line.strip()\n",
    "        if line:\n",
    "            data = line.split()\n",
    "            times1.append(float(data[0])*2*d/(10**-12*c*900)) #So here I am converting the data point number 0-1200 to stage position 0.2in to 0.297 in\n",
    "            PDvalue1.append(float(data[1]))\n",
    "\n",
    "plt.plot(times1,PDvalue1,'k')\n",
    "plt.xlabel('Stage Position (ps)')\n",
    "plt.ylabel('PD Signal (arb)')\n",
    "plt.grid(True)\n",
    "#plt.show()\n",
    "plt.savefig('TimeZeroLaserPolarization_45Degrees.png')"
   ]
  },
  {
   "cell_type": "code",
   "execution_count": 18,
   "metadata": {
    "collapsed": false
   },
   "outputs": [],
   "source": [
    "c = 3*10**11; #Speed of Light in mm/s, Going to use this to convert spatial information to time. \n",
    "d = 0.108*25.4; #Converting inches on delay stage to mm\n",
    "with open ('BestTimeZero_Speed1_0108Inches_0DegreePolarizcopy.txt','r') as f:\n",
    "    times2=[];\n",
    "    PDvalue2 = [];\n",
    "    for line in f:\n",
    "        line = line.strip()\n",
    "        if line:\n",
    "            data = line.split()\n",
    "            times2.append(float(data[0])*2*d/(10**-12*c*900)) #So here I am converting the data point number 0-1200 to stage position 0.2in to 0.297 in\n",
    "            PDvalue2.append(float(data[1]))\n",
    "\n",
    "plt.plot(times2,PDvalue2,'b')\n",
    "plt.xlabel('Stage Position (ps)')\n",
    "plt.ylabel('PD Signal (arb)')\n",
    "plt.grid(True)\n",
    "#plt.show()\n",
    "plt.savefig('TimeZeroLaserPolarization_0Degrees.png')"
   ]
  },
  {
   "cell_type": "code",
   "execution_count": 42,
   "metadata": {
    "collapsed": false
   },
   "outputs": [
    {
     "ename": "SyntaxError",
     "evalue": "invalid syntax (<ipython-input-42-e7b330c8fc57>, line 4)",
     "output_type": "error",
     "traceback": [
      "\u001b[0;36m  File \u001b[0;32m\"<ipython-input-42-e7b330c8fc57>\"\u001b[0;36m, line \u001b[0;32m4\u001b[0m\n\u001b[0;31m    lines = f.readlines(10:910)\u001b[0m\n\u001b[0m                          ^\u001b[0m\n\u001b[0;31mSyntaxError\u001b[0m\u001b[0;31m:\u001b[0m invalid syntax\n"
     ]
    }
   ],
   "source": [
    "# Trying to convert the file without deleting all the text\n",
    "\n",
    "c = 3*10**11; #Speed of Light in mm/s, Going to use this to convert spatial information to time. \n",
    "d = 0.108*25.4; #Converting inches on delay stage to mm\n",
    "f = open ('BestTimeZero_Speed1_0108Inches_0DegreePolariz.txt')\n",
    "lines = f.readlines()\n",
    "f.close()\n",
    "f = open('NewFile.txt','w')\n",
    "times2=[];\n",
    "PDvalue2 = [];\n",
    "for line in lines:\n",
    "        line = line.strip()\n",
    "        if line:\n",
    "            data = line.split()\n",
    "            times2.append(float(data[0])*2*d/(10**-12*c*900)) #So here I am converting the data point number 0-1200 to stage position 0.2in to 0.297 in\n",
    "            PDvalue2.append(float(data[1]))\n",
    "\n",
    "plt.plot(times2,PDvalue2,'b')\n",
    "plt.xlabel('Stage Position (ps)')\n",
    "plt.ylabel('PD Signal (arb)')\n",
    "plt.grid(True)\n",
    "#plt.show()\n",
    "plt.savefig('TimeZeroLaserPolarization_0Degrees.png')"
   ]
  },
  {
   "cell_type": "code",
   "execution_count": 29,
   "metadata": {
    "collapsed": false
   },
   "outputs": [
    {
     "data": {
      "text/plain": [
       "NoneType"
      ]
     },
     "execution_count": 29,
     "metadata": {},
     "output_type": "execute_result"
    }
   ],
   "source": [
    "type(g)"
   ]
  },
  {
   "cell_type": "code",
   "execution_count": 38,
   "metadata": {
    "collapsed": false
   },
   "outputs": [
    {
     "data": {
      "text/plain": [
       "NoneType"
      ]
     },
     "execution_count": 38,
     "metadata": {},
     "output_type": "execute_result"
    }
   ],
   "source": [
    "type(f)"
   ]
  },
  {
   "cell_type": "code",
   "execution_count": 33,
   "metadata": {
    "collapsed": false
   },
   "outputs": [
    {
     "name": "stdout",
     "output_type": "stream",
     "text": [
      "None\n"
     ]
    }
   ],
   "source": [
    "print(g)"
   ]
  },
  {
   "cell_type": "code",
   "execution_count": null,
   "metadata": {
    "collapsed": true
   },
   "outputs": [],
   "source": []
  }
 ],
 "metadata": {
  "kernelspec": {
   "display_name": "Python 3",
   "language": "python",
   "name": "python3"
  },
  "language_info": {
   "codemirror_mode": {
    "name": "ipython",
    "version": 3
   },
   "file_extension": ".py",
   "mimetype": "text/x-python",
   "name": "python",
   "nbconvert_exporter": "python",
   "pygments_lexer": "ipython3",
   "version": "3.5.1"
  }
 },
 "nbformat": 4,
 "nbformat_minor": 0
}
