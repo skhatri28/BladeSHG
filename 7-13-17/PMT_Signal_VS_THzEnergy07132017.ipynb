{
 "cells": [
  {
   "cell_type": "code",
   "execution_count": 1,
   "metadata": {
    "collapsed": true
   },
   "outputs": [],
   "source": [
    "import matplotlib.pyplot as plt\n",
    "import numpy as np\n",
    "import pandas as pd\n",
    "from pandas import Series, DataFrame\n",
    "import glob\n",
    "import os\n",
    "from math import log"
   ]
  },
  {
   "cell_type": "code",
   "execution_count": 2,
   "metadata": {
    "collapsed": false
   },
   "outputs": [
    {
     "name": "stdout",
     "output_type": "stream",
     "text": [
      "['SHG_Signal_280Deg_07132017.txt', 'SHG_Background_280Deg_07132017.txt', 'SHG_Background_275Deg_07132017.txt', 'SHG_Signal_275Deg_07132017.txt', 'SHG_Signal_270Deg_07132017.txt', 'SHG_Background_270Deg_07132017.txt', 'SHG_Background_265Deg_07132017.txt', 'SHG_Signal_265Deg_07132017.txt', 'SHG_Signal_260Deg_07132017.txt', 'SHG_Background_260Deg_07132017.txt', 'SHG_Background_255Deg_07132017.txt', 'SHG_Signal_255Deg_07132017.txt', 'SHG_Signal_250Deg_07132017.txt', 'SHG_Background_250Deg_07132017.txt', 'SHG2_Signal_280Deg_07132017.txt', 'SHG2_Background_280Deg_07132017.txt', 'SHG2_Background_275Deg_07132017.txt', 'SHG2_Signal_275Deg_07132017.txt', 'SHG2_Signal_270Deg_07132017.txt', 'SHG2_Background_270Deg_07132017.txt', 'SHG2_Background_265Deg_07132017.txt', 'SHG2_Signal_265Deg_07132017.txt', 'SHG2_Signal_260Deg_07132017.txt', 'SHG2_Background_260Deg_07132017.txt', 'SHG2_Background_255Deg_07132017.txt', 'SHG2_Signal_255Deg_07132017.txt', 'SHG2_Signal_250Deg_07132017.txt', 'SHG2_Background_250Deg_07132017.txt', 'SHG3_Signal_280Deg_07132017.txt', 'SHG3_Background_280Deg_07132017.txt', 'SHG3_Background_275Deg_07132017.txt', 'SHG3_Signal_275Deg_07132017.txt', 'SHG3_Background_270Deg_07132017.txt', 'SHG3_Signal_270Deg_07132017.txt', 'SHG3_Signal_265Deg_07132017.txt', 'SHG3_Background_265Deg_07132017.txt', 'SHG3_Background_260Deg_07132017.txt', 'SHG3_Signal_260Deg_07132017.txt', 'SHG3_Signal_255Deg_07132017.txt', 'SHG3_Background_255Deg_07132017.txt', 'SHG3_Background_250Deg_07132017.txt', 'SHG3_Signal_250Deg_07132017.txt', 'SHG4_Signal_280Deg_07132017.txt', 'SHG4_Background_280Deg_07132017.txt', 'SHG4_Background_275Deg_07132017.txt', 'SHG4_Signal_275Deg_07132017.txt', 'SHG4_Signal_270Deg_07132017.txt', 'SHG4_Background_270Deg_07132017.txt', 'SHG4_Background_265Deg_07132017.txt', 'SHG4_Signal_265Deg_07132017.txt', 'SHG4_Signal_260Deg_07132017.txt', 'SHG4_Background_260Deg_07132017.txt', 'SHG4_Background_255Deg_07132017.txt', 'SHG4_Signal_255Deg_07132017.txt', 'SHG4_Signal_250Deg_07132017.txt', 'SHG4_Background_250Deg_07132017.txt', 'SHG5_Signal_280Deg_07132017.txt', 'SHG5_Background_280Deg_07132017.txt', 'SHG5_Background_275Deg_07132017.txt', 'SHG5_Signal_275Deg_07132017.txt', 'SHG5_Signal_270Deg_07132017.txt', 'SHG5_Background_270Deg_07132017.txt', 'SHG5_Background_265Deg_07132017.txt', 'SHG5_Signal_265Deg_07132017.txt', 'SHG5_Signal_260Deg_07132017.txt', 'SHG5_Background_260Deg_07132017.txt', 'SHG5_Background_255Deg_07132017.txt', 'SHG5_Signal_255Deg_07132017.txt', 'SHG5_Signal_250Deg_07132017.txt', 'SHG5_Background_250Deg_07132017.txt', 'SHG6_Signal_280Deg_07132017.txt', 'SHG6_Background_280Deg_07132017.txt', 'SHG6_Background_275Deg_07132017.txt', 'SHG6_Signal_275Deg_07132017.txt', 'SHG6_Signal_270Deg_07132017.txt', 'SHG6_Background_270Deg_07132017.txt', 'SHG6_Background_265Deg_07132017.txt', 'SHG6_Signal_265Deg_07132017.txt', 'SHG6_Signal_260Deg_07132017.txt', 'SHG6_Background_260Deg_07132017.txt', 'SHG6_Background_255Deg_07132017.txt', 'SHG6_Signal_255Deg_07132017.txt', 'SHG6_Signal_250Deg_07132017.txt', 'SHG6_Background_250Deg_07132017.txt', 'SHG7_Signal_280Deg_07132017.txt', 'SHG7_Background_280Deg_07132017.txt', 'SHG7_Background_275Deg_07132017.txt', 'SHG7_Signal_275Deg_07132017.txt', 'SHG7_Signal_270Deg_07132017.txt', 'SHG7_Background_270Deg_07132017.txt', 'SHG7_Background_265Deg_07132017.txt', 'SHG7_Signal_265Deg_07132017.txt', 'SHG7_Signal_260Deg_07132017.txt', 'SHG7_Background_260Deg_07132017.txt', 'SHG7_Background_255Deg_07132017.txt', 'SHG7_Signal_255Deg_07132017.txt', 'SHG7_Signal_250Deg_07132017.txt', 'SHG7_Background_250Deg_07132017.txt', 'SHG8_Signal_280Deg_07132017.txt', 'SHG8_Background_280Deg_07132017.txt', 'SHG8_Background_275Deg_07132017.txt', 'SHG8_Signal_275Deg_07132017.txt', 'SHG8_Signal_270Deg_07132017.txt', 'SHG8_Background_270Deg_07132017.txt', 'SHG8_Background_265Deg_07132017.txt', 'SHG8_Signal_265Deg_07132017.txt', 'SHG8_Signal_260Deg_07132017.txt', 'SHG8_Background_260Deg_07132017.txt', 'SHG8_Background_255Deg_07132017.txt', 'SHG8_Signal_255Deg_07132017.txt', 'SHG8_Signal_250Deg_07132017.txt', 'SHG8_Background_250Deg_07132017.txt', 'SHG9_Signal_280Deg_07132017.txt', 'SHG9_Background_280Deg_07132017.txt', 'SHG9_Background_275Deg_07132017.txt', 'SHG9_Signal_275Deg_07132017.txt', 'SHG9_Signal_270Deg_07132017.txt', 'SHG9_Background_270Deg_07132017.txt', 'SHG9_Background_265Deg_07132017.txt', 'SHG9_Signal_265Deg_07132017.txt', 'SHG9_Signal_260Deg_07132017.txt', 'SHG9_Background_260Deg_07132017.txt', 'SHG9_Background_255Deg_07132017.txt', 'SHG9_Signal_255Deg_07132017.txt', 'SHG9_Signal_250Deg_07132017.txt', 'SHG9_Background_250Deg_07132017.txt', 'SHG10_Signal_280Deg_07132017.txt', 'SHG10_Background_280Deg_07132017.txt', 'SHG10_Background_275Deg_07132017.txt', 'SHG10_Signal_275Deg_07132017.txt', 'SHG10_Signal_270Deg_07132017.txt', 'SHG10_Background_270Deg_07132017.txt', 'SHG10_Background_265Deg_07132017.txt', 'SHG10_Signal_265Deg_07132017.txt', 'SHG10_Signal_260Deg_07132017.txt', 'SHG10_Background_260Deg_07132017.txt', 'SHG10_Background_255Deg_07132017.txt', 'SHG10_Signal_255Deg_07132017.txt', 'SHG10_Signal_250Deg_07132017.txt', 'SHG10_Background_250Deg_07132017.txt']\n"
     ]
    }
   ],
   "source": [
    "allFiles = sorted(glob.glob(\"*.txt\"),key=os.path.getmtime) # includes all files into a single stucture,\n",
    "# Sorted by modification time so that the first measurement is first...\n",
    "print(allFiles)"
   ]
  },
  {
   "cell_type": "code",
   "execution_count": 3,
   "metadata": {
    "collapsed": false
   },
   "outputs": [],
   "source": [
    "frame = pd.DataFrame()\n",
    "df = pd.DataFrame()"
   ]
  },
  {
   "cell_type": "code",
   "execution_count": 4,
   "metadata": {
    "collapsed": false
   },
   "outputs": [
    {
     "name": "stderr",
     "output_type": "stream",
     "text": [
      "/Users/sanjaykhatri/anaconda/lib/python3.5/site-packages/ipykernel/__main__.py:7: ParserWarning: Falling back to the 'python' engine because the 'c' engine does not support skip_footer; you can avoid this warning by specifying engine='python'.\n"
     ]
    }
   ],
   "source": [
    "for i,file_ in enumerate(allFiles):\n",
    "#    f = open(file_,'r')\n",
    "#     for j,line in enumerate(f):\n",
    "#         if j == 1:\n",
    "#             date = line[14:22]\n",
    "#             break\n",
    "    df = pd.read_csv(file_,index_col = None, header=None, skiprows = 10, skipfooter = 1, delimiter = '\\t')\n",
    "#     frame[file_] = df[5]\n",
    "    df['file']=file_\n",
    "    df['timeDelay']= df[1]\n",
    "    df['PDvalue'] = df[3]\n",
    "#     df['date']=date\n",
    "    if i < 1:\n",
    "        frame = df\n",
    "    else:\n",
    "        frame = frame.append(df)"
   ]
  },
  {
   "cell_type": "code",
   "execution_count": 5,
   "metadata": {
    "collapsed": false
   },
   "outputs": [
    {
     "name": "stdout",
     "output_type": "stream",
     "text": [
      "[[-0.063945 -0.054555 -0.052355 -0.033251 -0.039358 -0.02784  -0.026865]\n",
      " [-0.052848 -0.063574 -0.055807 -0.036681 -0.032956 -0.023763 -0.012991]\n",
      " [-0.064939 -0.063763 -0.049452 -0.049771 -0.038677 -0.03578  -0.028221]\n",
      " [-0.04985  -0.049497 -0.039427 -0.039165 -0.026885 -0.018814 -0.012178]\n",
      " [-0.056613 -0.063608 -0.057473 -0.045734 -0.035489 -0.027128 -0.022929]\n",
      " [-0.071757 -0.050342 -0.040402 -0.031437 -0.024887 -0.032118 -0.014436]\n",
      " [-0.05185  -0.053518 -0.046282 -0.048834 -0.033823 -0.024036 -0.01499 ]\n",
      " [-0.045963 -0.052343 -0.050053 -0.037357 -0.018978 -0.02233  -0.023553]\n",
      " [-0.054342 -0.041988 -0.042481 -0.028017 -0.026556 -0.030892 -0.023007]\n",
      " [-0.046714 -0.047452 -0.03812  -0.038902 -0.022813 -0.021275 -0.023303]]\n"
     ]
    }
   ],
   "source": [
    "times = pd.Series()\n",
    "PDvalues = pd.Series()\n",
    "AvgPD50 = pd.Series()\n",
    "itr = 0.000125\n",
    "offset = 0.023\n",
    "for i in range(0,100):\n",
    "    time = frame[1][i]\n",
    "    PDvalue = frame[3][i]\n",
    "    times = times.append(time)\n",
    "    PDvalues = PDvalues.append(PDvalue)\n",
    "#print(len(PDvalues))\n",
    "PDvalues = PDvalues.values.reshape(100,len(allFiles))\n",
    "Background = np.array([PDvalues[:,1],PDvalues[:,2],PDvalues[:,5],PDvalues[:,6],PDvalues[:,9],PDvalues[:,10],PDvalues[:,13],\\\n",
    "                       PDvalues[:,15],PDvalues[:,16],PDvalues[:,19],PDvalues[:,20],PDvalues[:,23],PDvalues[:,24],PDvalues[:,27],\\\n",
    "                       PDvalues[:,29],PDvalues[:,30],PDvalues[:,32],PDvalues[:,35],PDvalues[:,36],PDvalues[:,39],PDvalues[:,40],\\\n",
    "                       PDvalues[:,43],PDvalues[:,44],PDvalues[:,47],PDvalues[:,48],PDvalues[:,51],PDvalues[:,52],PDvalues[:,55],\\\n",
    "                      PDvalues[:,57],PDvalues[:,58],PDvalues[:,61],PDvalues[:,62],PDvalues[:,65],PDvalues[:,66],PDvalues[:,69],\\\n",
    "                      PDvalues[:,71],PDvalues[:,72],PDvalues[:,75],PDvalues[:,76],PDvalues[:,79],PDvalues[:,80],PDvalues[:,83],\\\n",
    "                      PDvalues[:,85],PDvalues[:,86],PDvalues[:,89],PDvalues[:,90],PDvalues[:,93],PDvalues[:,94],PDvalues[:,97],\\\n",
    "                      PDvalues[:,99],PDvalues[:,100],PDvalues[:,103],PDvalues[:,104],PDvalues[:,107],PDvalues[:,108],PDvalues[:,111],\\\n",
    "                      PDvalues[:,113],PDvalues[:,114],PDvalues[:,117],PDvalues[:,118],PDvalues[:,121],PDvalues[:,122],PDvalues[:,125],\\\n",
    "                      PDvalues[:,127],PDvalues[:,128],PDvalues[:,131],PDvalues[:,132],PDvalues[:,135],PDvalues[:,136],PDvalues[:,139]])\n",
    "Background_mean = np.mean(Background, axis = 1)\n",
    "PMT_Raw = np.array([PDvalues[:,0],PDvalues[:,3],PDvalues[:,4],PDvalues[:,7],PDvalues[:,8],PDvalues[:,11],PDvalues[:,12],\\\n",
    "                    PDvalues[:,14],PDvalues[:,17],PDvalues[:,18],PDvalues[:,21],PDvalues[:,22],PDvalues[:,25],PDvalues[:,26],\\\n",
    "                    PDvalues[:,28],PDvalues[:,31],PDvalues[:,33],PDvalues[:,34],PDvalues[:,37],PDvalues[:,38],PDvalues[:,41],\\\n",
    "                    PDvalues[:,42],PDvalues[:,45],PDvalues[:,46],PDvalues[:,49],PDvalues[:,50],PDvalues[:,53],PDvalues[:,54],\\\n",
    "                   PDvalues[:,56],PDvalues[:,59],PDvalues[:,60],PDvalues[:,63],PDvalues[:,64],PDvalues[:,67],PDvalues[:,68],\\\n",
    "                   PDvalues[:,70],PDvalues[:,73],PDvalues[:,74],PDvalues[:,77],PDvalues[:,78],PDvalues[:,81],PDvalues[:,82],\\\n",
    "                   PDvalues[:,84],PDvalues[:,87],PDvalues[:,88],PDvalues[:,91],PDvalues[:,92],PDvalues[:,95],PDvalues[:,96],\\\n",
    "                   PDvalues[:,98],PDvalues[:,101],PDvalues[:,102],PDvalues[:,105],PDvalues[:,106],PDvalues[:,109],PDvalues[:,110],\\\n",
    "                   PDvalues[:,112],PDvalues[:,115],PDvalues[:,116],PDvalues[:,119],PDvalues[:,120],PDvalues[:,123],PDvalues[:,124],\\\n",
    "                   PDvalues[:,126],PDvalues[:,129],PDvalues[:,130],PDvalues[:,133],PDvalues[:,134],PDvalues[:,137],PDvalues[:,138]])\n",
    "MeanPMT1 = np.mean(PMT_Raw,axis = 1)\n",
    "\n",
    "PMT_Net = MeanPMT1 - Background_mean\n",
    "MeanNET = np.reshape(PMT_Net,(10,7)) # As you add more files, change the 4 to the number of runs. 7 is b/c I took 7 different angles\n",
    "MeanNET2 = np.mean(MeanNET,axis =0)\n",
    "THzEnergy = np.array([480,450,390,310,235,160,105])\n",
    "PMT_STD = np.std(MeanNET,axis = 0)\n",
    "PMT_Err = PMT_STD/(10**0.5)\n",
    "w = (PMT_Err/(MeanNET2*log(10)))**-2\n",
    "\n",
    "#print(Background_mean)\n",
    "print(MeanNET)\n",
    "#print(PMT_)\n",
    "#print(MeanNET2)\n",
    "LogPMT = np.log10(np.absolute(MeanNET2))\n",
    "LogTHz = np.log10(np.absolute(THzEnergy))\n",
    "\n",
    "\n",
    "\n"
   ]
  },
  {
   "cell_type": "code",
   "execution_count": 6,
   "metadata": {
    "collapsed": false
   },
   "outputs": [
    {
     "name": "stdout",
     "output_type": "stream",
     "text": [
      "[ 2561.98786764  3078.71925785  2735.10038789  1683.28249956  1094.56825663\n",
      "  1441.03072697   675.79806686]\n",
      "-3.1309051442\n",
      "0.698005930014\n",
      "0.116288096997\n",
      "0.0459979517402\n"
     ]
    }
   ],
   "source": [
    "Delta = sum(w)*sum(w*LogTHz**2) - (sum(w*LogTHz))**2\n",
    "A = (sum(w*LogTHz**2)*sum(w*LogPMT) - sum(w*LogTHz)*sum(w*LogTHz*LogPMT))/Delta\n",
    "B = (sum(w)*sum(w*LogTHz*LogPMT) - (sum(w*LogPMT)*sum(w*LogTHz)))/Delta\n",
    "# Least Squares Fitting Parameters above\n",
    "print(w)\n",
    "print(A)\n",
    "print(B)\n",
    "err = (((len(LogPMT)-2)**-1) * sum((LogPMT - A -B*LogTHz)**2)**0.5)\n",
    "errorA = (sum(w*LogTHz**2)/Delta)**0.5\n",
    "errorB = (sum(w)/Delta)**0.5\n",
    "print(errorA)\n",
    "print(errorB)"
   ]
  },
  {
   "cell_type": "code",
   "execution_count": 111,
   "metadata": {
    "collapsed": true
   },
   "outputs": [],
   "source": [
    "plt.plot(LogTHz, A + B*LogTHz,'r',label = 'Fit: y=0.70x -3.13')\n",
    "plt.plot(LogTHz, LogPMT,'b.', label = 'Data')\n",
    "plt.grid(True)\n",
    "plt.xlabel('Log(THz Energy)')\n",
    "plt.ylabel('Log(PMT Signal)')\n",
    "plt.legend(loc = 'upper left')\n",
    "plt.show()\n",
    "#plt.savefig('PMT_SignalVsTHzEnergy_07132017.png')"
   ]
  },
  {
   "cell_type": "code",
   "execution_count": null,
   "metadata": {
    "collapsed": true
   },
   "outputs": [],
   "source": []
  }
 ],
 "metadata": {
  "kernelspec": {
   "display_name": "Python 3",
   "language": "python",
   "name": "python3"
  },
  "language_info": {
   "codemirror_mode": {
    "name": "ipython",
    "version": 3
   },
   "file_extension": ".py",
   "mimetype": "text/x-python",
   "name": "python",
   "nbconvert_exporter": "python",
   "pygments_lexer": "ipython3",
   "version": "3.5.1"
  }
 },
 "nbformat": 4,
 "nbformat_minor": 0
}
