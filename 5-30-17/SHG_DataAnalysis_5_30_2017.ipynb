{
 "cells": [
  {
   "cell_type": "code",
   "execution_count": 2,
   "metadata": {
    "collapsed": true
   },
   "outputs": [],
   "source": [
    "import matplotlib.pyplot as plt\n",
    "import numpy as np\n",
    "import scipy as sy\n",
    "from scipy import stats\n",
    "import pylab\n",
    "import re\n",
    "import pandas as pd\n",
    "import csv"
   ]
  },
  {
   "cell_type": "code",
   "execution_count": 3,
   "metadata": {
    "collapsed": true
   },
   "outputs": [],
   "source": [
    "c = 3*10**11; #Speed of Light in mm/s, Going to use this to convert spatial information to time. \n",
    "T1 = (499*0.000125 + 0.0229)*2*25.4/(10**-12*c)\n",
    "def ConvertToTimeDelay(x,itr,offset):\n",
    "    c = 3*10**11\n",
    "    timeDelay = []\n",
    "    for i in range(0,len(x)):\n",
    "        timedelay = ((x[i]*itr + offset)*25.4*2/(10**-12*c))-T1\n",
    "        timeDelay.append(timedelay)\n",
    "    return(timeDelay)\n",
    "#This is a function that converts the x-axis of the data into stage delay"
   ]
  },
  {
   "cell_type": "code",
   "execution_count": null,
   "metadata": {
    "collapsed": false,
    "scrolled": true
   },
   "outputs": [],
   "source": [
    "data = []\n",
    "with open('SHGData3.txt', 'r') as f:\n",
    "    for i in range(11):\n",
    "        f.readline()   # This just reads the first 11 lines and does nothing with them. A way to skip the header\n",
    "    for line in f:   #For every line in the file, separate the data into pairs\n",
    "        line = line.strip().split()\n",
    "        data.append(line)\n",
    "#print(data)        \n",
    "del data[-1]\n",
    "data2 = np.array(data).astype(np.float) #Converts the data type from string to float\n",
    "tDelay1 = ConvertToTimeDelay(data2[:,0],0.000125,0.0234)\n",
    "PDvalue1 = data2[:,1]\n",
    "\n",
    "extraticks = [-10,-9,-8,-7,-6,-5,-4, -3, -2, -1, 1, 2, 3, 4,5,6,7,8,9,10]\n",
    "plt.plot(tDelay1,PDvalue1,'k')\n",
    "plt.xlabel('Stage Position (ps)')\n",
    "plt.ylabel('PD Signal (arb)')\n",
    "plt.grid(True)\n",
    "plt.xticks(list(plt.xticks()[0]) + extraticks)\n",
    "plt.xlim(-11,11)\n",
    "plt.show()\n",
    "\n",
    "#13-214\n",
    "\n"
   ]
  },
  {
   "cell_type": "code",
   "execution_count": null,
   "metadata": {
    "collapsed": false
   },
   "outputs": [],
   "source": [
    "data = []\n",
    "with open('SHGData10.txt', 'r') as f:\n",
    "    for i in range(11):\n",
    "        f.readline()   # This just reads the first 11 lines and does nothing with them. A way to skip the header\n",
    "    for line in f:   #For every line in the file, separate the data into pairs\n",
    "        line = line.strip().split()\n",
    "        data.append(line)\n",
    "#print(data)        \n",
    "del data[-1]\n",
    "data2 = np.array(data).astype(np.float) #Converts the data type from string to float\n",
    "tDelay2 = ConvertToTimeDelay(data2[:,0],0.000125,0.02325)\n",
    "PDvalue2 = data2[:,1]\n",
    "\n",
    "extraticks = [-10,-9,-8,-7,-6,-5,-4, -3, -2, -1, 1, 2, 3, 4,5,6,7,8,9,10]\n",
    "plt.plot(tDelay2,PDvalue2,'r')\n",
    "plt.xlabel('Stage Position (ps)')\n",
    "plt.ylabel('PD Signal (arb)')\n",
    "plt.grid(True)\n",
    "plt.xticks(list(plt.xticks()[0]) + extraticks)\n",
    "plt.xlim(-11,11)\n",
    "plt.show()\n",
    "\n",
    "#14-214\n"
   ]
  },
  {
   "cell_type": "code",
   "execution_count": null,
   "metadata": {
    "collapsed": true
   },
   "outputs": [],
   "source": [
    "data = []\n",
    "with open('SHGData28.txt', 'r') as f:\n",
    "    for i in range(11):\n",
    "        f.readline()   # This just reads the first 11 lines and does nothing with them. A way to skip the header\n",
    "    for line in f:   #For every line in the file, separate the data into pairs\n",
    "        line = line.strip().split()\n",
    "        data.append(line)\n",
    "#print(data)        \n",
    "del data[-1]\n",
    "data2 = np.array(data).astype(np.float) #Converts the data type from string to float\n",
    "tDelay3 = ConvertToTimeDelay(data2[:,0],0.000125,0.02315)\n",
    "PDvalue3 = data2[:,1]\n",
    "\n",
    "extraticks = [-10,-9,-8,-7,-6,-5,-4, -3, -2, -1, 1, 2, 3, 4,5,6,7,8,9,10]\n",
    "plt.plot(tDelay3,PDvalue3,'b.')\n",
    "plt.xlabel('Stage Position (ps)')\n",
    "plt.ylabel('PD Signal (arb)')\n",
    "plt.grid(True)\n",
    "plt.xticks(list(plt.xticks()[0]) + extraticks)\n",
    "plt.xlim(-11,11)\n",
    "plt.show()\n",
    "#15-215"
   ]
  },
  {
   "cell_type": "code",
   "execution_count": 6,
   "metadata": {
    "collapsed": false
   },
   "outputs": [],
   "source": [
    "data = []\n",
    "with open('SHGData26.txt', 'r') as f:\n",
    "    for i in range(11):\n",
    "        f.readline()   # This just reads the first 11 lines and does nothing with them. A way to skip the header\n",
    "    for line in f:   #For every line in the file, separate the data into pairs\n",
    "        line = line.strip().split()\n",
    "        data.append(line)\n",
    "#print(data)        \n",
    "del data[-1]\n",
    "data2 = np.array(data).astype(np.float) #Converts the data type from string to float\n",
    "tDelay4 = ConvertToTimeDelay(data2[:,0],0.000125,0.02315)\n",
    "PDvalue4 = data2[:,1]\n",
    "\n",
    "extraticks = list(range(-10,10))\n",
    "plt.plot(tDelay4,PDvalue4,'b.')\n",
    "plt.xlabel('Stage Position (ps)')\n",
    "plt.ylabel('PD Signal (arb)')\n",
    "plt.grid(True)\n",
    "plt.xticks(list(plt.xticks()[0]) + extraticks)\n",
    "plt.xlim(-11,11)\n",
    "plt.show()"
   ]
  },
  {
   "cell_type": "code",
   "execution_count": null,
   "metadata": {
    "collapsed": true
   },
   "outputs": [],
   "source": []
  }
 ],
 "metadata": {
  "kernelspec": {
   "display_name": "Python 3",
   "language": "python",
   "name": "python3"
  },
  "language_info": {
   "codemirror_mode": {
    "name": "ipython",
    "version": 3
   },
   "file_extension": ".py",
   "mimetype": "text/x-python",
   "name": "python",
   "nbconvert_exporter": "python",
   "pygments_lexer": "ipython3",
   "version": "3.5.1"
  }
 },
 "nbformat": 4,
 "nbformat_minor": 0
}
