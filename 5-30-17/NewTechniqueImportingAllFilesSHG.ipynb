{
 "cells": [
  {
   "cell_type": "code",
   "execution_count": 1,
   "metadata": {
    "collapsed": true
   },
   "outputs": [],
   "source": [
    "import matplotlib.pyplot as plt\n",
    "import numpy as np\n",
    "import pandas as pd\n",
    "from pandas import Series, DataFrame\n",
    "import glob\n",
    "import os"
   ]
  },
  {
   "cell_type": "code",
   "execution_count": 2,
   "metadata": {
    "collapsed": true
   },
   "outputs": [],
   "source": [
    "#%matplotlib inline"
   ]
  },
  {
   "cell_type": "code",
   "execution_count": null,
   "metadata": {
    "collapsed": false
   },
   "outputs": [],
   "source": []
  },
  {
   "cell_type": "code",
   "execution_count": 3,
   "metadata": {
    "collapsed": false
   },
   "outputs": [
    {
     "name": "stdout",
     "output_type": "stream",
     "text": [
      "['SHGData1.txt', 'SHGData2.txt', 'SHGData4.txt', 'SHGData5.txt', 'SHGData6.txt', 'SHGData7.txt', 'SHGData8.txt', 'SHGData9.txt', 'SHGData10.txt', 'SHGData11.txt', 'SHGData12.txt', 'SHGData13.txt', 'SHGData14.txt', 'SHGData15.txt', 'SHGData16.txt', 'SHGData17.txt', 'SHGData18.txt', 'SHGData19.txt', 'SHGData20.txt', 'SHGData21.txt', 'SHGData22.txt', 'SHGData23.txt', 'SHGData24.txt', 'SHGData25.txt', 'SHGData26.txt', 'SHGData27.txt', 'SHGData28.txt', 'SHGData29.txt', 'SHGData30.txt', 'SHGData31.txt', 'SHGData32.txt', 'SHGData33.txt', 'SHGData34.txt', 'SHGData35.txt', 'SHGData37.txt', 'SHGData38.txt', 'SHGData39.txt', 'SHGData40.txt', 'SHGData41.txt', 'SHGData42.txt', 'SHGData43.txt', 'SHGData44.txt', 'SHGData45.txt', 'SHGData46.txt', 'SHGData47.txt', 'SHGData48.txt', 'SHGData49.txt', 'SHGData50.txt', 'SHGData3.txt', 'SHGData36.txt']\n"
     ]
    }
   ],
   "source": [
    "allFiles = sorted(glob.glob(\"*.txt\"),key=os.path.getmtime) # includes all files into a single stucture,\n",
    "# Sorted by modification time so that the first measurement is first...\n",
    "print(allFiles)"
   ]
  },
  {
   "cell_type": "code",
   "execution_count": 4,
   "metadata": {
    "collapsed": true
   },
   "outputs": [],
   "source": [
    "frame = pd.DataFrame()\n",
    "df = pd.DataFrame()"
   ]
  },
  {
   "cell_type": "code",
   "execution_count": null,
   "metadata": {
    "collapsed": false
   },
   "outputs": [],
   "source": []
  },
  {
   "cell_type": "code",
   "execution_count": 5,
   "metadata": {
    "collapsed": false
   },
   "outputs": [
    {
     "name": "stderr",
     "output_type": "stream",
     "text": [
      "/Users/sanjaykhatri/anaconda/lib/python3.5/site-packages/ipykernel/__main__.py:7: ParserWarning: Falling back to the 'python' engine because the 'c' engine does not support skip_footer; you can avoid this warning by specifying engine='python'.\n"
     ]
    }
   ],
   "source": [
    "for i,file_ in enumerate(allFiles):\n",
    "#    f = open(file_,'r')\n",
    "#     for j,line in enumerate(f):\n",
    "#         if j == 1:\n",
    "#             date = line[14:22]\n",
    "#             break\n",
    "    df = pd.read_csv(file_,index_col = None, header=None, skiprows = 10, skipfooter = 1, delimiter = '\\t')\n",
    "#     frame[file_] = df[5]\n",
    "    df['file']=file_\n",
    "    df['timeDelay']= df[1]\n",
    "    df['PDvalue'] = df[3]\n",
    "#     df['date']=date\n",
    "    if i < 1:\n",
    "        frame = df\n",
    "    else:\n",
    "        frame = frame.append(df)\n",
    "    #print(df)\n",
    "remove=['SHGData4.txt','SHGData10.txt','SHGData9.txt','SHGData14.txt','SHGData31.txt','SHGData32.txt',\\\n",
    "'SHGData37.txt','SHGData38.txt','SHGData39','SHGData40.txt','SHGData41.txt','SHGData42.txt','SHGData43.txt',\\\n",
    "'SHGData46.txt','SHGData47.txt','SHGData48.txt','SHGData49.txt']\n",
    "frame = frame.loc[~frame.file.isin(remove)] # Removes data values from these select files. \n",
    "#frame = frame.pivot(columns = 'file', index = 'timeDelay', values = 'PDvalue')\n",
    "#print(frame)\n",
    "#print(frame[3][0]) # prints out all the data in third column with values corresponding to row 0. \n",
    "#print(frame[3][0]) # prints out all the time values in the 1st column and can now interpolate them into time delay. \n",
    "# frame2 = frame[[1,3,'date','file']]\n",
    "# frame[1] = frame[0].str.split('\\t')\n",
    "# print(frame[1])\n",
    "# print(frame[frame['file']=='SHGData1.txt'])\n",
    "# frame2.rename(columns={1:'timeDelay',3:'PDsignal'},inplace = True)\n",
    "# timeDelay = frame2['timeDelay']\n",
    "# PDvalue = frame2['PDsignal']\n",
    "# plt.plot(timeDelay[:][:],PDvalue[:][:],'r.')\n",
    "# plt.show()"
   ]
  },
  {
   "cell_type": "code",
   "execution_count": 6,
   "metadata": {
    "collapsed": false
   },
   "outputs": [],
   "source": [
    "c = 3*10**11; #Speed of Light in mm/s, Going to use this to convert spatial information to time. \n",
    "T1 = (499*0.000125 + 0.0229)*2*25.4/(10**-12*c)\n",
    "def ConvertToTimeDelay(x,itr,offset):\n",
    "    c = 3*10**11\n",
    "    timeDelay = []\n",
    "    for i in range(0,len(x)):\n",
    "        timedelay = ((x[i]*itr + offset)*25.4*2/(10**-12*c))-T1\n",
    "        timeDelay.append(timedelay)\n",
    "    return(timeDelay)\n",
    "#This is a function that converts the x-axis of the data into stage delay"
   ]
  },
  {
   "cell_type": "code",
   "execution_count": 7,
   "metadata": {
    "collapsed": false
   },
   "outputs": [],
   "source": [
    "times = pd.Series()\n",
    "PDvalues = pd.Series()\n",
    "AvgPD50 = pd.Series()\n",
    "itr = 0.000125\n",
    "offset = 0.023\n",
    "for i in range(0,900):\n",
    "    time = frame[1][i]\n",
    "    PDvalue = frame[3][i]\n",
    "    times = times.append(time)\n",
    "    PDvalues = PDvalues.append(PDvalue)\n",
    "#print(len(PDvalues))\n",
    "    \n",
    "times = times.values.reshape(900,len(allFiles)-16)\n",
    "PDvalues = PDvalues.values.reshape(900,len(allFiles)-16) \n",
    "timeDelay = ConvertToTimeDelay(times,itr,offset) # function converts to timedelay\n",
    "\n",
    "#PDvalues = np.array(PDvalues.tolist()).reshape((900,len(allFiles)-16))\n",
    "#PDvalues = PDvalues.astype(np.float)\n",
    "#print(np.where(PDvalues=='-0.-0220')) # array 5,32 Used to find where this funky element was\n",
    "#AvgPD50 = PDvalues.mean(axis = 1) \n",
    "\n",
    "PDvalues[5][-2] = -0.0220 # An error popped up because this looked like: -'0.-220'\n",
    "PDvalues = PDvalues.astype(np.float) #Ensures all the values are floats so that I can plot them!\n",
    "AvgPD50 = PDvalues.mean(axis = 1) #average of all the datasets\n",
    "#timeDelay = ConvertToTimeDelay(times, itr, offset)"
   ]
  },
  {
   "cell_type": "code",
   "execution_count": 8,
   "metadata": {
    "collapsed": false
   },
   "outputs": [],
   "source": [
    "extraticks = [-10,-9,-8,-7,-6,-5,-4, -3, -2, -1, 1, 2, 3, 4,5,6,7,8,9,10]\n",
    "plt.plot(timeDelay,AvgPD50,'b')\n",
    "plt.xlabel('Stage Delay (ps)')\n",
    "plt.ylabel('PD Signal (arb)')\n",
    "plt.grid(True)\n",
    "plt.xticks(list(plt.xticks()[0]) + extraticks)\n",
    "plt.xlim(-11,11)\n",
    "plt.show()\n",
    "plt.savefig('PD_SignalVsDelay_5_30_2017.png')"
   ]
  },
  {
   "cell_type": "code",
   "execution_count": 9,
   "metadata": {
    "collapsed": true
   },
   "outputs": [],
   "source": [
    "?pd.read_csv"
   ]
  },
  {
   "cell_type": "code",
   "execution_count": null,
   "metadata": {
    "collapsed": true
   },
   "outputs": [],
   "source": []
  }
 ],
 "metadata": {
  "kernelspec": {
   "display_name": "Python 3",
   "language": "python",
   "name": "python3"
  },
  "language_info": {
   "codemirror_mode": {
    "name": "ipython",
    "version": 3
   },
   "file_extension": ".py",
   "mimetype": "text/x-python",
   "name": "python",
   "nbconvert_exporter": "python",
   "pygments_lexer": "ipython3",
   "version": "3.5.1"
  }
 },
 "nbformat": 4,
 "nbformat_minor": 0
}
