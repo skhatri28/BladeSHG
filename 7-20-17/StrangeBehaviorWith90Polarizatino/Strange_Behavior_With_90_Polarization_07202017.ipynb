{
 "cells": [
  {
   "cell_type": "code",
   "execution_count": 1,
   "metadata": {
    "collapsed": true
   },
   "outputs": [],
   "source": [
    "import matplotlib.pyplot as plt\n",
    "import numpy as np\n",
    "import pandas as pd\n",
    "from pandas import Series, DataFrame\n",
    "import glob\n",
    "import os"
   ]
  },
  {
   "cell_type": "code",
   "execution_count": 2,
   "metadata": {
    "collapsed": false
   },
   "outputs": [
    {
     "name": "stdout",
     "output_type": "stream",
     "text": [
      "['SHG_Blade1_90DegPol_07202017.txt']\n"
     ]
    }
   ],
   "source": [
    "allFiles = sorted(glob.glob(\"*.txt\"),key=os.path.getmtime) # includes all files into a single stucture,\n",
    "# Sorted by modification time so that the first measurement is first...\n",
    "print(allFiles)"
   ]
  },
  {
   "cell_type": "code",
   "execution_count": 3,
   "metadata": {
    "collapsed": true
   },
   "outputs": [],
   "source": [
    "frame = pd.DataFrame()\n",
    "df = pd.DataFrame()"
   ]
  },
  {
   "cell_type": "code",
   "execution_count": 4,
   "metadata": {
    "collapsed": false
   },
   "outputs": [
    {
     "name": "stderr",
     "output_type": "stream",
     "text": [
      "/Users/sanjaykhatri/anaconda/lib/python3.5/site-packages/ipykernel/__main__.py:7: ParserWarning: Falling back to the 'python' engine because the 'c' engine does not support skip_footer; you can avoid this warning by specifying engine='python'.\n"
     ]
    }
   ],
   "source": [
    "for i,file_ in enumerate(allFiles):\n",
    "#    f = open(file_,'r')\n",
    "#     for j,line in enumerate(f):\n",
    "#         if j == 1:\n",
    "#             date = line[14:22]\n",
    "#             break\n",
    "    df = pd.read_csv(file_,index_col = None, header=None, skiprows = 10, skipfooter = 1, delimiter = '\\t')\n",
    "#     frame[file_] = df[5]\n",
    "    df['file']=file_\n",
    "    df['timeDelay']= df[1]\n",
    "    df['PDvalue'] = df[3]\n",
    "#     df['date']=date\n",
    "    if i < 1:\n",
    "        frame = df\n",
    "    else:\n",
    "        frame = frame.append(df)"
   ]
  },
  {
   "cell_type": "code",
   "execution_count": 26,
   "metadata": {
    "collapsed": true
   },
   "outputs": [],
   "source": [
    "c = 3*10**11; #Speed of Light in mm/s, Going to use this to convert spatial information to time. \n",
    "T1 = (718*0.000125 + 0.0229)*2*25.4/(10**-12*c)\n",
    "def ConvertToTimeDelay(x,itr,offset):\n",
    "    c = 3*10**11\n",
    "    timeDelay = []\n",
    "    for i in range(0,len(x)):\n",
    "        timedelay = -((x[i]*itr + offset)*25.4*2/(10**-12*c))+T1\n",
    "        timeDelay.append(timedelay)\n",
    "    return(timeDelay)"
   ]
  },
  {
   "cell_type": "code",
   "execution_count": 33,
   "metadata": {
    "collapsed": false
   },
   "outputs": [
    {
     "name": "stdout",
     "output_type": "stream",
     "text": [
      "[array([ 15.18073333]), array([ 15.15956667]), array([ 15.1384]), array([ 15.11723333]), array([ 15.09606667]), array([ 15.0749]), array([ 15.05373333]), array([ 15.03256667]), array([ 15.0114]), array([ 14.99023333]), array([ 14.96906667]), array([ 14.9479]), array([ 14.92673333]), array([ 14.90556667]), array([ 14.8844]), array([ 14.86323333]), array([ 14.84206667]), array([ 14.8209]), array([ 14.79973333]), array([ 14.77856667]), array([ 14.7574]), array([ 14.73623333]), array([ 14.71506667]), array([ 14.6939]), array([ 14.67273333]), array([ 14.65156667]), array([ 14.6304]), array([ 14.60923333]), array([ 14.58806667]), array([ 14.5669]), array([ 14.54573333]), array([ 14.52456667]), array([ 14.5034]), array([ 14.48223333]), array([ 14.46106667]), array([ 14.4399]), array([ 14.41873333]), array([ 14.39756667]), array([ 14.3764]), array([ 14.35523333]), array([ 14.33406667]), array([ 14.3129]), array([ 14.29173333]), array([ 14.27056667]), array([ 14.2494]), array([ 14.22823333]), array([ 14.20706667]), array([ 14.1859]), array([ 14.16473333]), array([ 14.14356667]), array([ 14.1224]), array([ 14.10123333]), array([ 14.08006667]), array([ 14.0589]), array([ 14.03773333]), array([ 14.01656667]), array([ 13.9954]), array([ 13.97423333]), array([ 13.95306667]), array([ 13.9319]), array([ 13.91073333]), array([ 13.88956667]), array([ 13.8684]), array([ 13.84723333]), array([ 13.82606667]), array([ 13.8049]), array([ 13.78373333]), array([ 13.76256667]), array([ 13.7414]), array([ 13.72023333]), array([ 13.69906667]), array([ 13.6779]), array([ 13.65673333]), array([ 13.63556667]), array([ 13.6144]), array([ 13.59323333]), array([ 13.57206667]), array([ 13.5509]), array([ 13.52973333]), array([ 13.50856667]), array([ 13.4874]), array([ 13.46623333]), array([ 13.44506667]), array([ 13.4239]), array([ 13.40273333]), array([ 13.38156667]), array([ 13.3604]), array([ 13.33923333]), array([ 13.31806667]), array([ 13.2969]), array([ 13.27573333]), array([ 13.25456667]), array([ 13.2334]), array([ 13.21223333]), array([ 13.19106667]), array([ 13.1699]), array([ 13.14873333]), array([ 13.12756667]), array([ 13.1064]), array([ 13.08523333]), array([ 13.06406667]), array([ 13.0429]), array([ 13.02173333]), array([ 13.00056667]), array([ 12.9794]), array([ 12.95823333]), array([ 12.93706667]), array([ 12.9159]), array([ 12.89473333]), array([ 12.87356667]), array([ 12.8524]), array([ 12.83123333]), array([ 12.81006667]), array([ 12.7889]), array([ 12.76773333]), array([ 12.74656667]), array([ 12.7254]), array([ 12.70423333]), array([ 12.68306667]), array([ 12.6619]), array([ 12.64073333]), array([ 12.61956667]), array([ 12.5984]), array([ 12.57723333]), array([ 12.55606667]), array([ 12.5349]), array([ 12.51373333]), array([ 12.49256667]), array([ 12.4714]), array([ 12.45023333]), array([ 12.42906667]), array([ 12.4079]), array([ 12.38673333]), array([ 12.36556667]), array([ 12.3444]), array([ 12.32323333]), array([ 12.30206667]), array([ 12.2809]), array([ 12.25973333]), array([ 12.23856667]), array([ 12.2174]), array([ 12.19623333]), array([ 12.17506667]), array([ 12.1539]), array([ 12.13273333]), array([ 12.11156667]), array([ 12.0904]), array([ 12.06923333]), array([ 12.04806667]), array([ 12.0269]), array([ 12.00573333]), array([ 11.98456667]), array([ 11.9634]), array([ 11.94223333]), array([ 11.92106667]), array([ 11.8999]), array([ 11.87873333]), array([ 11.85756667]), array([ 11.8364]), array([ 11.81523333]), array([ 11.79406667]), array([ 11.7729]), array([ 11.75173333]), array([ 11.73056667]), array([ 11.7094]), array([ 11.68823333]), array([ 11.66706667]), array([ 11.6459]), array([ 11.62473333]), array([ 11.60356667]), array([ 11.5824]), array([ 11.56123333]), array([ 11.54006667]), array([ 11.5189]), array([ 11.49773333]), array([ 11.47656667]), array([ 11.4554]), array([ 11.43423333]), array([ 11.41306667]), array([ 11.3919]), array([ 11.37073333]), array([ 11.34956667]), array([ 11.3284]), array([ 11.30723333]), array([ 11.28606667]), array([ 11.2649]), array([ 11.24373333]), array([ 11.22256667]), array([ 11.2014]), array([ 11.18023333]), array([ 11.15906667]), array([ 11.1379]), array([ 11.11673333]), array([ 11.09556667]), array([ 11.0744]), array([ 11.05323333]), array([ 11.03206667]), array([ 11.0109]), array([ 10.98973333]), array([ 10.96856667]), array([ 10.9474]), array([ 10.92623333]), array([ 10.90506667]), array([ 10.8839]), array([ 10.86273333]), array([ 10.84156667]), array([ 10.8204]), array([ 10.79923333]), array([ 10.77806667]), array([ 10.7569]), array([ 10.73573333]), array([ 10.71456667]), array([ 10.6934]), array([ 10.67223333]), array([ 10.65106667]), array([ 10.6299]), array([ 10.60873333]), array([ 10.58756667]), array([ 10.5664]), array([ 10.54523333]), array([ 10.52406667]), array([ 10.5029]), array([ 10.48173333]), array([ 10.46056667]), array([ 10.4394]), array([ 10.41823333]), array([ 10.39706667]), array([ 10.3759]), array([ 10.35473333]), array([ 10.33356667]), array([ 10.3124]), array([ 10.29123333]), array([ 10.27006667]), array([ 10.2489]), array([ 10.22773333]), array([ 10.20656667]), array([ 10.1854]), array([ 10.16423333]), array([ 10.14306667]), array([ 10.1219]), array([ 10.10073333]), array([ 10.07956667]), array([ 10.0584]), array([ 10.03723333]), array([ 10.01606667]), array([ 9.9949]), array([ 9.97373333]), array([ 9.95256667]), array([ 9.9314]), array([ 9.91023333]), array([ 9.88906667]), array([ 9.8679]), array([ 9.84673333]), array([ 9.82556667]), array([ 9.8044]), array([ 9.78323333]), array([ 9.76206667]), array([ 9.7409]), array([ 9.71973333]), array([ 9.69856667]), array([ 9.6774]), array([ 9.65623333]), array([ 9.63506667]), array([ 9.6139]), array([ 9.59273333]), array([ 9.57156667]), array([ 9.5504]), array([ 9.52923333]), array([ 9.50806667]), array([ 9.4869]), array([ 9.46573333]), array([ 9.44456667]), array([ 9.4234]), array([ 9.40223333]), array([ 9.38106667]), array([ 9.3599]), array([ 9.33873333]), array([ 9.31756667]), array([ 9.2964]), array([ 9.27523333]), array([ 9.25406667]), array([ 9.2329]), array([ 9.21173333]), array([ 9.19056667]), array([ 9.1694]), array([ 9.14823333]), array([ 9.12706667]), array([ 9.1059]), array([ 9.08473333]), array([ 9.06356667]), array([ 9.0424]), array([ 9.02123333]), array([ 9.00006667]), array([ 8.9789]), array([ 8.95773333]), array([ 8.93656667]), array([ 8.9154]), array([ 8.89423333]), array([ 8.87306667]), array([ 8.8519]), array([ 8.83073333]), array([ 8.80956667]), array([ 8.7884]), array([ 8.76723333]), array([ 8.74606667]), array([ 8.7249]), array([ 8.70373333]), array([ 8.68256667]), array([ 8.6614]), array([ 8.64023333]), array([ 8.61906667]), array([ 8.5979]), array([ 8.57673333]), array([ 8.55556667]), array([ 8.5344]), array([ 8.51323333]), array([ 8.49206667]), array([ 8.4709]), array([ 8.44973333]), array([ 8.42856667]), array([ 8.4074]), array([ 8.38623333]), array([ 8.36506667]), array([ 8.3439]), array([ 8.32273333]), array([ 8.30156667]), array([ 8.2804]), array([ 8.25923333]), array([ 8.23806667]), array([ 8.2169]), array([ 8.19573333]), array([ 8.17456667]), array([ 8.1534]), array([ 8.13223333]), array([ 8.11106667]), array([ 8.0899]), array([ 8.06873333]), array([ 8.04756667]), array([ 8.0264]), array([ 8.00523333]), array([ 7.98406667]), array([ 7.9629]), array([ 7.94173333]), array([ 7.92056667]), array([ 7.8994]), array([ 7.87823333]), array([ 7.85706667]), array([ 7.8359]), array([ 7.81473333]), array([ 7.79356667]), array([ 7.7724]), array([ 7.75123333]), array([ 7.73006667]), array([ 7.7089]), array([ 7.68773333]), array([ 7.66656667]), array([ 7.6454]), array([ 7.62423333]), array([ 7.60306667]), array([ 7.5819]), array([ 7.56073333]), array([ 7.53956667]), array([ 7.5184]), array([ 7.49723333]), array([ 7.47606667]), array([ 7.4549]), array([ 7.43373333]), array([ 7.41256667]), array([ 7.3914]), array([ 7.37023333]), array([ 7.34906667]), array([ 7.3279]), array([ 7.30673333]), array([ 7.28556667]), array([ 7.2644]), array([ 7.24323333]), array([ 7.22206667]), array([ 7.2009]), array([ 7.17973333]), array([ 7.15856667]), array([ 7.1374]), array([ 7.11623333]), array([ 7.09506667]), array([ 7.0739]), array([ 7.05273333]), array([ 7.03156667]), array([ 7.0104]), array([ 6.98923333]), array([ 6.96806667]), array([ 6.9469]), array([ 6.92573333]), array([ 6.90456667]), array([ 6.8834]), array([ 6.86223333]), array([ 6.84106667]), array([ 6.8199]), array([ 6.79873333]), array([ 6.77756667]), array([ 6.7564]), array([ 6.73523333]), array([ 6.71406667]), array([ 6.6929]), array([ 6.67173333]), array([ 6.65056667]), array([ 6.6294]), array([ 6.60823333]), array([ 6.58706667]), array([ 6.5659]), array([ 6.54473333]), array([ 6.52356667]), array([ 6.5024]), array([ 6.48123333]), array([ 6.46006667]), array([ 6.4389]), array([ 6.41773333]), array([ 6.39656667]), array([ 6.3754]), array([ 6.35423333]), array([ 6.33306667]), array([ 6.3119]), array([ 6.29073333]), array([ 6.26956667]), array([ 6.2484]), array([ 6.22723333]), array([ 6.20606667]), array([ 6.1849]), array([ 6.16373333]), array([ 6.14256667]), array([ 6.1214]), array([ 6.10023333]), array([ 6.07906667]), array([ 6.0579]), array([ 6.03673333]), array([ 6.01556667]), array([ 5.9944]), array([ 5.97323333]), array([ 5.95206667]), array([ 5.9309]), array([ 5.90973333]), array([ 5.88856667]), array([ 5.8674]), array([ 5.84623333]), array([ 5.82506667]), array([ 5.8039]), array([ 5.78273333]), array([ 5.76156667]), array([ 5.7404]), array([ 5.71923333]), array([ 5.69806667]), array([ 5.6769]), array([ 5.65573333]), array([ 5.63456667]), array([ 5.6134]), array([ 5.59223333]), array([ 5.57106667]), array([ 5.5499]), array([ 5.52873333]), array([ 5.50756667]), array([ 5.4864]), array([ 5.46523333]), array([ 5.44406667]), array([ 5.4229]), array([ 5.40173333]), array([ 5.38056667]), array([ 5.3594]), array([ 5.33823333]), array([ 5.31706667]), array([ 5.2959]), array([ 5.27473333]), array([ 5.25356667]), array([ 5.2324]), array([ 5.21123333]), array([ 5.19006667]), array([ 5.1689]), array([ 5.14773333]), array([ 5.12656667]), array([ 5.1054]), array([ 5.08423333]), array([ 5.06306667]), array([ 5.0419]), array([ 5.02073333]), array([ 4.99956667]), array([ 4.9784]), array([ 4.95723333]), array([ 4.93606667]), array([ 4.9149]), array([ 4.89373333]), array([ 4.87256667]), array([ 4.8514]), array([ 4.83023333]), array([ 4.80906667]), array([ 4.7879]), array([ 4.76673333]), array([ 4.74556667]), array([ 4.7244]), array([ 4.70323333]), array([ 4.68206667]), array([ 4.6609]), array([ 4.63973333]), array([ 4.61856667]), array([ 4.5974]), array([ 4.57623333]), array([ 4.55506667]), array([ 4.5339]), array([ 4.51273333]), array([ 4.49156667]), array([ 4.4704]), array([ 4.44923333]), array([ 4.42806667]), array([ 4.4069]), array([ 4.38573333]), array([ 4.36456667]), array([ 4.3434]), array([ 4.32223333]), array([ 4.30106667]), array([ 4.2799]), array([ 4.25873333]), array([ 4.23756667]), array([ 4.2164]), array([ 4.19523333]), array([ 4.17406667]), array([ 4.1529]), array([ 4.13173333]), array([ 4.11056667]), array([ 4.0894]), array([ 4.06823333]), array([ 4.04706667]), array([ 4.0259]), array([ 4.00473333]), array([ 3.98356667]), array([ 3.9624]), array([ 3.94123333]), array([ 3.92006667]), array([ 3.8989]), array([ 3.87773333]), array([ 3.85656667]), array([ 3.8354]), array([ 3.81423333]), array([ 3.79306667]), array([ 3.7719]), array([ 3.75073333]), array([ 3.72956667]), array([ 3.7084]), array([ 3.68723333]), array([ 3.66606667]), array([ 3.6449]), array([ 3.62373333]), array([ 3.60256667]), array([ 3.5814]), array([ 3.56023333]), array([ 3.53906667]), array([ 3.5179]), array([ 3.49673333]), array([ 3.47556667]), array([ 3.4544]), array([ 3.43323333]), array([ 3.41206667]), array([ 3.3909]), array([ 3.36973333]), array([ 3.34856667]), array([ 3.3274]), array([ 3.30623333]), array([ 3.28506667]), array([ 3.2639]), array([ 3.24273333]), array([ 3.22156667]), array([ 3.2004]), array([ 3.17923333]), array([ 3.15806667]), array([ 3.1369]), array([ 3.11573333]), array([ 3.09456667]), array([ 3.0734]), array([ 3.05223333]), array([ 3.03106667]), array([ 3.0099]), array([ 2.98873333]), array([ 2.96756667]), array([ 2.9464]), array([ 2.92523333]), array([ 2.90406667]), array([ 2.8829]), array([ 2.86173333]), array([ 2.84056667]), array([ 2.8194]), array([ 2.79823333]), array([ 2.77706667]), array([ 2.7559]), array([ 2.73473333]), array([ 2.71356667]), array([ 2.6924]), array([ 2.67123333]), array([ 2.65006667]), array([ 2.6289]), array([ 2.60773333]), array([ 2.58656667]), array([ 2.5654]), array([ 2.54423333]), array([ 2.52306667]), array([ 2.5019]), array([ 2.48073333]), array([ 2.45956667]), array([ 2.4384]), array([ 2.41723333]), array([ 2.39606667]), array([ 2.3749]), array([ 2.35373333]), array([ 2.33256667]), array([ 2.3114]), array([ 2.29023333]), array([ 2.26906667]), array([ 2.2479]), array([ 2.22673333]), array([ 2.20556667]), array([ 2.1844]), array([ 2.16323333]), array([ 2.14206667]), array([ 2.1209]), array([ 2.09973333]), array([ 2.07856667]), array([ 2.0574]), array([ 2.03623333]), array([ 2.01506667]), array([ 1.9939]), array([ 1.97273333]), array([ 1.95156667]), array([ 1.9304]), array([ 1.90923333]), array([ 1.88806667]), array([ 1.8669]), array([ 1.84573333]), array([ 1.82456667]), array([ 1.8034]), array([ 1.78223333]), array([ 1.76106667]), array([ 1.7399]), array([ 1.71873333]), array([ 1.69756667]), array([ 1.6764]), array([ 1.65523333]), array([ 1.63406667]), array([ 1.6129]), array([ 1.59173333]), array([ 1.57056667]), array([ 1.5494]), array([ 1.52823333]), array([ 1.50706667]), array([ 1.4859]), array([ 1.46473333]), array([ 1.44356667]), array([ 1.4224]), array([ 1.40123333]), array([ 1.38006667]), array([ 1.3589]), array([ 1.33773333]), array([ 1.31656667]), array([ 1.2954]), array([ 1.27423333]), array([ 1.25306667]), array([ 1.2319]), array([ 1.21073333]), array([ 1.18956667]), array([ 1.1684]), array([ 1.14723333]), array([ 1.12606667]), array([ 1.1049]), array([ 1.08373333]), array([ 1.06256667]), array([ 1.0414]), array([ 1.02023333]), array([ 0.99906667]), array([ 0.9779]), array([ 0.95673333]), array([ 0.93556667]), array([ 0.9144]), array([ 0.89323333]), array([ 0.87206667]), array([ 0.8509]), array([ 0.82973333]), array([ 0.80856667]), array([ 0.7874]), array([ 0.76623333]), array([ 0.74506667]), array([ 0.7239]), array([ 0.70273333]), array([ 0.68156667]), array([ 0.6604]), array([ 0.63923333]), array([ 0.61806667]), array([ 0.5969]), array([ 0.57573333]), array([ 0.55456667]), array([ 0.5334]), array([ 0.51223333]), array([ 0.49106667]), array([ 0.4699]), array([ 0.44873333]), array([ 0.42756667]), array([ 0.4064]), array([ 0.38523333]), array([ 0.36406667]), array([ 0.3429]), array([ 0.32173333]), array([ 0.30056667]), array([ 0.2794]), array([ 0.25823333]), array([ 0.23706667]), array([ 0.2159]), array([ 0.19473333]), array([ 0.17356667]), array([ 0.1524]), array([ 0.13123333]), array([ 0.11006667]), array([ 0.0889]), array([ 0.06773333]), array([ 0.04656667]), array([ 0.0254]), array([ 0.00423333]), array([-0.01693333]), array([-0.0381]), array([-0.05926667]), array([-0.08043333]), array([-0.1016]), array([-0.12276667]), array([-0.14393333]), array([-0.1651]), array([-0.18626667]), array([-0.20743333]), array([-0.2286]), array([-0.24976667]), array([-0.27093333]), array([-0.2921]), array([-0.31326667]), array([-0.33443333]), array([-0.3556]), array([-0.37676667]), array([-0.39793333]), array([-0.4191]), array([-0.44026667]), array([-0.46143333]), array([-0.4826]), array([-0.50376667]), array([-0.52493333]), array([-0.5461]), array([-0.56726667]), array([-0.58843333]), array([-0.6096]), array([-0.63076667]), array([-0.65193333]), array([-0.6731]), array([-0.69426667]), array([-0.71543333]), array([-0.7366]), array([-0.75776667]), array([-0.77893333]), array([-0.8001]), array([-0.82126667]), array([-0.84243333]), array([-0.8636]), array([-0.88476667]), array([-0.90593333]), array([-0.9271]), array([-0.94826667]), array([-0.96943333]), array([-0.9906]), array([-1.01176667]), array([-1.03293333]), array([-1.0541]), array([-1.07526667]), array([-1.09643333]), array([-1.1176]), array([-1.13876667]), array([-1.15993333]), array([-1.1811]), array([-1.20226667]), array([-1.22343333]), array([-1.2446]), array([-1.26576667]), array([-1.28693333]), array([-1.3081]), array([-1.32926667]), array([-1.35043333]), array([-1.3716]), array([-1.39276667]), array([-1.41393333]), array([-1.4351]), array([-1.45626667]), array([-1.47743333]), array([-1.4986]), array([-1.51976667]), array([-1.54093333]), array([-1.5621]), array([-1.58326667]), array([-1.60443333]), array([-1.6256]), array([-1.64676667]), array([-1.66793333]), array([-1.6891]), array([-1.71026667]), array([-1.73143333]), array([-1.7526]), array([-1.77376667]), array([-1.79493333]), array([-1.8161]), array([-1.83726667]), array([-1.85843333]), array([-1.8796]), array([-1.90076667]), array([-1.92193333]), array([-1.9431]), array([-1.96426667]), array([-1.98543333]), array([-2.0066]), array([-2.02776667]), array([-2.04893333]), array([-2.0701]), array([-2.09126667]), array([-2.11243333]), array([-2.1336]), array([-2.15476667]), array([-2.17593333]), array([-2.1971]), array([-2.21826667]), array([-2.23943333]), array([-2.2606]), array([-2.28176667]), array([-2.30293333]), array([-2.3241]), array([-2.34526667]), array([-2.36643333]), array([-2.3876]), array([-2.40876667]), array([-2.42993333]), array([-2.4511]), array([-2.47226667]), array([-2.49343333]), array([-2.5146]), array([-2.53576667]), array([-2.55693333]), array([-2.5781]), array([-2.59926667]), array([-2.62043333]), array([-2.6416]), array([-2.66276667]), array([-2.68393333]), array([-2.7051]), array([-2.72626667]), array([-2.74743333]), array([-2.7686]), array([-2.78976667]), array([-2.81093333]), array([-2.8321]), array([-2.85326667]), array([-2.87443333]), array([-2.8956]), array([-2.91676667]), array([-2.93793333]), array([-2.9591]), array([-2.98026667]), array([-3.00143333]), array([-3.0226]), array([-3.04376667]), array([-3.06493333]), array([-3.0861]), array([-3.10726667]), array([-3.12843333]), array([-3.1496]), array([-3.17076667]), array([-3.19193333]), array([-3.2131]), array([-3.23426667]), array([-3.25543333]), array([-3.2766]), array([-3.29776667]), array([-3.31893333]), array([-3.3401]), array([-3.36126667]), array([-3.38243333]), array([-3.4036]), array([-3.42476667]), array([-3.44593333]), array([-3.4671]), array([-3.48826667]), array([-3.50943333]), array([-3.5306]), array([-3.55176667]), array([-3.57293333]), array([-3.5941]), array([-3.61526667]), array([-3.63643333]), array([-3.6576]), array([-3.67876667]), array([-3.69993333]), array([-3.7211]), array([-3.74226667]), array([-3.76343333]), array([-3.7846]), array([-3.80576667]), array([-3.82693333]), array([-3.8481])]\n"
     ]
    }
   ],
   "source": [
    "times = df[1]\n",
    "PDvalues = df[3]\n",
    "AvgPD50 = pd.Series()\n",
    "itr = 0.000125\n",
    "offset = 0.023\n",
    "# for i in range(0,900):\n",
    "#     time = frame[1][i]\n",
    "#     PDvalue = frame[3][i]\n",
    "#     times = times.append(time)\n",
    "#     PDvalues = PDvalues.append(PDvalue)\n",
    "# #print(len(PDvalues))\n",
    "times = times.values.reshape(900,len(allFiles))\n",
    "PDvalues = PDvalues.values.reshape(900,len(allFiles)) \n",
    "timeDelay = ConvertToTimeDelay(times,itr,offset)\n",
    "print(timeDelay)"
   ]
  },
  {
   "cell_type": "code",
   "execution_count": 37,
   "metadata": {
    "collapsed": false
   },
   "outputs": [],
   "source": [
    "plt.plot(timeDelay,np.max(PDvalues[50:900])-PDvalues,'k')\n",
    "extraticks = [-10,-9,-8,-7,-6,-5,-4, -3, -2, -1, 1, 2, 3, 4,5,6,7,8,9,10]\n",
    "plt.xlabel('Delay(ps)')\n",
    "plt.ylabel('PMT Signal')\n",
    "plt.grid(True)\n",
    "plt.xticks(list(plt.xticks()[0]) + extraticks)\n",
    "plt.xlim(-11,11)\n",
    "plt.show()"
   ]
  },
  {
   "cell_type": "code",
   "execution_count": null,
   "metadata": {
    "collapsed": true
   },
   "outputs": [],
   "source": []
  }
 ],
 "metadata": {
  "kernelspec": {
   "display_name": "Python 3",
   "language": "python",
   "name": "python3"
  },
  "language_info": {
   "codemirror_mode": {
    "name": "ipython",
    "version": 3
   },
   "file_extension": ".py",
   "mimetype": "text/x-python",
   "name": "python",
   "nbconvert_exporter": "python",
   "pygments_lexer": "ipython3",
   "version": "3.5.1"
  }
 },
 "nbformat": 4,
 "nbformat_minor": 0
}
