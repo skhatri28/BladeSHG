{
 "cells": [
  {
   "cell_type": "code",
   "execution_count": 1,
   "metadata": {
    "collapsed": true
   },
   "outputs": [],
   "source": [
    "import matplotlib.pyplot as plt\n",
    "import numpy as np\n",
    "import scipy as sy\n",
    "from scipy import stats\n",
    "import pylab\n",
    "import re"
   ]
  },
  {
   "cell_type": "code",
   "execution_count": 9,
   "metadata": {
    "collapsed": false
   },
   "outputs": [],
   "source": [
    "c = 3*10**11; #Speed of Light in mm/s, Going to use this to convert spatial information to time. \n",
    "T1 = (465*0.000125 + 0.0225)*2*25.4/(10**-12*c)\n",
    "with open ('3mil_0Degrees_Copy.txt','r') as f:\n",
    "    times1=[];\n",
    "    PDvalue1 = [];\n",
    "    for line in f:\n",
    "        line = line.strip()\n",
    "        if line:\n",
    "            data = line.split()\n",
    "            times1.append((float(data[0])*0.000125 + 0.0225)*25.4*2/(10**-12*c)-T1) # Here I did a linear extrapolation. \n",
    "                                                                                  # Refer to labbook for more information. \n",
    "            PDvalue1.append(float(data[1]))\n",
    "extraticks = [-10,-9,-8,-7,-6,-5,-4, -3, -2, -1, 1, 2, 3, 4,5,6,7,8,9,10]\n",
    "plt.plot(times1,PDvalue1,'k')\n",
    "plt.xlabel('Stage Position (ps)')\n",
    "plt.ylabel('PD Signal (arb)')\n",
    "plt.grid(True)\n",
    "plt.xticks(list(plt.xticks()[0]) + extraticks)\n",
    "plt.xlim(-10,10)\n",
    "plt.show()"
   ]
  },
  {
   "cell_type": "code",
   "execution_count": 4,
   "metadata": {
    "collapsed": false
   },
   "outputs": [
    {
     "data": {
      "text/plain": [
       "465"
      ]
     },
     "execution_count": 4,
     "metadata": {},
     "output_type": "execute_result"
    }
   ],
   "source": [
    "PDvalue1.index(max(PDvalue1))"
   ]
  },
  {
   "cell_type": "code",
   "execution_count": 10,
   "metadata": {
    "collapsed": true
   },
   "outputs": [],
   "source": [
    "c = 3*10**11; #Speed of Light in mm/s, Going to use this to convert spatial information to time. \n",
    "T2 = (469*0.000125 + 0.0225)*2*25.4/(10**-12*c)\n",
    "with open ('3mil_45Degrees_Copy.txt','r') as f:\n",
    "    times2=[];\n",
    "    PDvalue2 = [];\n",
    "    for line in f:\n",
    "        line = line.strip()\n",
    "        if line:\n",
    "            data = line.split()\n",
    "            times2.append((float(data[0])*0.000125 + 0.0225)*25.4*2/(10**-12*c)-T2) # Here I did a linear extrapolation. \n",
    "                                                                                  # Refer to labbook for more information. \n",
    "            PDvalue2.append(float(data[1]))\n",
    "extraticks = [-10,-9,-8,-7,-6,-5,-4, -3, -2, -1, 1, 2, 3, 4,5,6,7,8,9,10]\n",
    "plt.plot(times2,PDvalue2,'r')\n",
    "plt.xlabel('Stage Position (ps)')\n",
    "plt.ylabel('PD Signal (arb)')\n",
    "plt.grid(True)\n",
    "plt.xticks(list(plt.xticks()[0]) + extraticks)\n",
    "plt.xlim(-10,10)\n",
    "plt.show()"
   ]
  },
  {
   "cell_type": "code",
   "execution_count": 7,
   "metadata": {
    "collapsed": false
   },
   "outputs": [
    {
     "data": {
      "text/plain": [
       "469"
      ]
     },
     "execution_count": 7,
     "metadata": {},
     "output_type": "execute_result"
    }
   ],
   "source": [
    "PDvalue2.index(max(PDvalue2))"
   ]
  },
  {
   "cell_type": "code",
   "execution_count": 17,
   "metadata": {
    "collapsed": true
   },
   "outputs": [],
   "source": [
    "c = 3*10**11; #Speed of Light in mm/s, Going to use this to convert spatial information to time. \n",
    "T3 = (464*0.000124 + 0.0231)*2*25.4/(10**-12*c)\n",
    "with open ('3mil_90Degrees_Copy.txt','r') as f:\n",
    "    times3=[];\n",
    "    PDvalue3 = [];\n",
    "    for line in f:\n",
    "        line = line.strip()\n",
    "        if line:\n",
    "            data = line.split()\n",
    "            times3.append((float(data[0])*0.000124 + 0.0231)*25.4*2/(10**-12*c)-T3) # Here I did a linear extrapolation. \n",
    "                                                                                  # Refer to labbook for more information. \n",
    "            PDvalue3.append(float(data[1]))\n",
    "extraticks = [-10,-9,-8,-7,-6,-5,-4, -3, -2, -1, 1, 2, 3, 4,5,6,7,8,9,10]\n",
    "plt.plot(times3,PDvalue3,'b')\n",
    "plt.xlabel('Stage Position (ps)')\n",
    "plt.ylabel('PD Signal (arb)')\n",
    "plt.grid(True)\n",
    "plt.xticks(list(plt.xticks()[0]) + extraticks)\n",
    "plt.xlim(-10,10)\n",
    "plt.show()"
   ]
  },
  {
   "cell_type": "code",
   "execution_count": 12,
   "metadata": {
    "collapsed": false
   },
   "outputs": [
    {
     "data": {
      "text/plain": [
       "464"
      ]
     },
     "execution_count": 12,
     "metadata": {},
     "output_type": "execute_result"
    }
   ],
   "source": [
    "PDvalue3.index(max(PDvalue3))"
   ]
  },
  {
   "cell_type": "code",
   "execution_count": 21,
   "metadata": {
    "collapsed": true
   },
   "outputs": [],
   "source": [
    "extraticks = [-10,-9,-8,-7,-6,-5,-4, -3, -2, -1, 1, 2, 3, 4,5,6,7,8,9,10]\n",
    "plt.plot(times1,PDvalue1,'k',label = '3 mil- 0 Degrees')\n",
    "plt.plot(times2,PDvalue2,'r',label = '3 mil- 45 Degrees')\n",
    "plt.plot(times3,PDvalue3,'b',label = '3 mil- 90 Degrees')\n",
    "plt.xlabel('Stage Position (ps)')\n",
    "plt.ylabel('PD Signal (arb)')\n",
    "plt.grid(True)\n",
    "plt.xticks(list(plt.xticks()[0]) + extraticks)\n",
    "plt.xlim(-10,10)\n",
    "plt.legend(loc = 'upper left')\n",
    "#plt.show()\n",
    "plt.savefig('TimeZero_3milKapton_0vs45vs90Degree.png')"
   ]
  },
  {
   "cell_type": "code",
   "execution_count": null,
   "metadata": {
    "collapsed": true
   },
   "outputs": [],
   "source": []
  }
 ],
 "metadata": {
  "kernelspec": {
   "display_name": "Python 3",
   "language": "python",
   "name": "python3"
  },
  "language_info": {
   "codemirror_mode": {
    "name": "ipython",
    "version": 3
   },
   "file_extension": ".py",
   "mimetype": "text/x-python",
   "name": "python",
   "nbconvert_exporter": "python",
   "pygments_lexer": "ipython3",
   "version": "3.5.1"
  }
 },
 "nbformat": 4,
 "nbformat_minor": 0
}
