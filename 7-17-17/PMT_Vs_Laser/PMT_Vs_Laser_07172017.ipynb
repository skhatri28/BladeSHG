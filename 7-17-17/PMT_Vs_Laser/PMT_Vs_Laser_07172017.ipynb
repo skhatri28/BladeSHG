{
 "cells": [
  {
   "cell_type": "code",
   "execution_count": 20,
   "metadata": {
    "collapsed": true
   },
   "outputs": [],
   "source": [
    "import matplotlib.pyplot as plt\n",
    "import numpy as np\n",
    "import pandas as pd\n",
    "from pandas import Series, DataFrame\n",
    "import glob\n",
    "import os\n",
    "from math import log"
   ]
  },
  {
   "cell_type": "code",
   "execution_count": 21,
   "metadata": {
    "collapsed": false
   },
   "outputs": [
    {
     "name": "stdout",
     "output_type": "stream",
     "text": [
      "['PMT_Signal_120mW_071717.txt', 'PMT_Background_120mW_071717.txt', 'PMT_Background_110mW_071717.txt', 'PMT_Signal_110mW_071717.txt', 'PMT_Signal_100mW_071717.txt', 'PMT_Background_100mW_071717.txt', 'PMT_Background_90mW_071717.txt', 'PMT_Signal_90mW_071717.txt', 'PMT_Signal_80mW_071717.txt', 'PMT_Background_80mW_071717.txt', 'PMT2_Signal_120mW_071717.txt', 'PMT2_Background_120mW_071717.txt', 'PMT2_Background_110mW_071717.txt', 'PMT2_Signal_110mW_071717.txt', 'PMT2_Signal_100mW_071717.txt', 'PMT2_Background_100mW_071717.txt', 'PMT2_Background_90mW_071717.txt', 'PMT2_Signal_90mW_071717.txt', 'PMT2_Signal_80mW_071717.txt', 'PMT2_Background_80mW_071717.txt', 'PMT4_Signal_120mW_071717.txt', 'PMT4_Background_120mW_071717.txt', 'PMT4_Background_110mW_071717.txt', 'PMT4_Signal_110mW_071717.txt', 'PMT4_Signal_100mW_071717.txt', 'PMT4_Background_100mW_071717.txt', 'PMT4_Background_90mW_071717.txt', 'PMT4_Signal_90mW_071717.txt', 'PMT4_Signal_80mW_071717.txt', 'PMT4_Background_80mW_071717.txt', 'PMT5_Signal_120mW_071717.txt', 'PMT5_Background_120mW_071717.txt', 'PMT5_Background_110mW_071717.txt', 'PMT5_Signal_110mW_071717.txt', 'PMT5_Signal_100mW_071717.txt', 'PMT5_Background_100mW_071717.txt', 'PMT5_Background_90mW_071717.txt', 'PMT5_Signal_90mW_071717.txt', 'PMT5_Signal_80mW_071717.txt', 'PMT5_Background_80mW_071717.txt', 'PMT6_Signal_120mW_071717.txt', 'PMT6_Background_120mW_071717.txt', 'PMT6_Background_110mW_071717.txt', 'PMT6_Signal_110mW_071717.txt', 'PMT6_Signal_100mW_071717.txt', 'PMT6_Background_100mW_071717.txt', 'PMT6_Background_90mW_071717.txt', 'PMT6_Signal_90mW_071717.txt', 'PMT6_Signal_80mW_071717.txt', 'PMT6_Background_80mW_071717.txt', 'PMT7_Signal_120mW_071717.txt', 'PMT7_Background_120mW_071717.txt', 'PMT7_Background_110mW_071717.txt', 'PMT7_Signal_110mW_071717.txt', 'PMT7_Signal_100mW_071717.txt', 'PMT7_Background_100mW_071717.txt', 'PMT7_Background_90mW_071717.txt', 'PMT7_Signal_90mW_071717.txt', 'PMT7_Signal_80mW_071717.txt', 'PMT7_Background_80mW_071717.txt', 'PMT8_Signal_120mW_071717.txt', 'PMT8_Background_120mW_071717.txt', 'PMT8_Background_110mW_071717.txt', 'PMT8_Signal_110mW_071717.txt', 'PMT8_Signal_100mW_071717.txt', 'PMT8_Background_100mW_071717.txt', 'PMT8_Background_90mW_071717.txt', 'PMT8_Signal_90mW_071717.txt', 'PMT8_Signal_80mW_071717.txt', 'PMT8_Background_80mW_071717.txt', 'PMT9_Signal_120mW_071717.txt', 'PMT9_Background_120mW_071717.txt', 'PMT9_Background_110mW_071717.txt', 'PMT9_Signal_110mW_071717.txt', 'PMT9_Signal_100mW_071717.txt', 'PMT9_Background_100mW_071717.txt', 'PMT9_Background_90mW_071717.txt', 'PMT9_Signal_90mW_071717.txt', 'PMT9_Signal_80mW_071717.txt', 'PMT9_Background_80mW_071717.txt']\n"
     ]
    }
   ],
   "source": [
    "allFiles = sorted(glob.glob(\"*.txt\"),key=os.path.getmtime) # includes all files into a single stucture,\n",
    "# Sorted by modification time so that the first measurement is first...\n",
    "print(allFiles)"
   ]
  },
  {
   "cell_type": "code",
   "execution_count": 22,
   "metadata": {
    "collapsed": true
   },
   "outputs": [],
   "source": [
    "frame = pd.DataFrame()\n",
    "df = pd.DataFrame()"
   ]
  },
  {
   "cell_type": "code",
   "execution_count": 23,
   "metadata": {
    "collapsed": false
   },
   "outputs": [
    {
     "name": "stderr",
     "output_type": "stream",
     "text": [
      "/Users/sanjaykhatri/anaconda/lib/python3.5/site-packages/ipykernel/__main__.py:7: ParserWarning: Falling back to the 'python' engine because the 'c' engine does not support skip_footer; you can avoid this warning by specifying engine='python'.\n"
     ]
    }
   ],
   "source": [
    "for i,file_ in enumerate(allFiles):\n",
    "#    f = open(file_,'r')\n",
    "#     for j,line in enumerate(f):\n",
    "#         if j == 1:\n",
    "#             date = line[14:22]\n",
    "#             break\n",
    "    df = pd.read_csv(file_,index_col = None, header=None, skiprows = 10, skipfooter = 1, delimiter = '\\t')\n",
    "#     frame[file_] = df[5]\n",
    "    df['file']=file_\n",
    "    df['timeDelay']= df[1]\n",
    "    df['PDvalue'] = df[3]\n",
    "#     df['date']=date\n",
    "    if i < 1:\n",
    "        frame = df\n",
    "    else:\n",
    "        frame = frame.append(df)"
   ]
  },
  {
   "cell_type": "code",
   "execution_count": 28,
   "metadata": {
    "collapsed": false
   },
   "outputs": [
    {
     "name": "stdout",
     "output_type": "stream",
     "text": [
      "[-0.195411 -0.160279 -0.138781 -0.124037 -0.104475 -0.192259 -0.167829\n",
      " -0.138292 -0.113745 -0.096721 -0.174153 -0.146955 -0.128062 -0.115334\n",
      " -0.095628 -0.184778 -0.15803  -0.133943 -0.109661 -0.09987  -0.190363\n",
      " -0.172119 -0.138881 -0.119636 -0.099045 -0.191127 -0.161    -0.14356\n",
      " -0.116366 -0.099074 -0.184192 -0.16066  -0.135906 -0.116536 -0.100905\n",
      " -0.183651 -0.149291 -0.140936 -0.120705 -0.099608]\n",
      "[-0.231025 -0.193389 -0.157616 -0.132531 -0.120689 -0.222283 -0.188479\n",
      " -0.162107 -0.130944 -0.114552 -0.210904 -0.175603 -0.148455 -0.124255\n",
      " -0.110209 -0.215408 -0.18726  -0.156067 -0.13179  -0.119601 -0.239767\n",
      " -0.195172 -0.160953 -0.14544  -0.111934 -0.219571 -0.188375 -0.168904\n",
      " -0.129682 -0.112376 -0.230762 -0.195003 -0.158665 -0.141952 -0.112239\n",
      " -0.212136 -0.181481 -0.166482 -0.131414 -0.119347]\n",
      "[[-0.035614 -0.03311  -0.018835 -0.008494 -0.016214]\n",
      " [-0.030024 -0.02065  -0.023815 -0.017199 -0.017831]\n",
      " [-0.036751 -0.028648 -0.020393 -0.008921 -0.014581]\n",
      " [-0.03063  -0.02923  -0.022124 -0.022129 -0.019731]\n",
      " [-0.049404 -0.023053 -0.022072 -0.025804 -0.012889]\n",
      " [-0.028444 -0.027375 -0.025344 -0.013316 -0.013302]\n",
      " [-0.04657  -0.034343 -0.022759 -0.025416 -0.011334]\n",
      " [-0.028485 -0.03219  -0.025546 -0.010709 -0.019739]]\n",
      "[-1.44684241 -1.54401566 -1.64568023 -1.78255554 -1.80402774]\n"
     ]
    }
   ],
   "source": [
    "times = pd.Series()\n",
    "PDvalues = pd.Series()\n",
    "AvgPD50 = pd.Series()\n",
    "itr = 0.000125\n",
    "offset = 0.023\n",
    "for i in range(0,100):\n",
    "    time = frame[1][i]\n",
    "    PDvalue = frame[3][i]\n",
    "    times = times.append(time)\n",
    "    PDvalues = PDvalues.append(PDvalue)\n",
    "#print(len(PDvalues))\n",
    "PDvalues = PDvalues.values.reshape(100,len(allFiles))\n",
    "Background = np.array([PDvalues[:,1],PDvalues[:,2],PDvalues[:,5],PDvalues[:,6],PDvalues[:,9],\\\n",
    "                       PDvalues[:,11],PDvalues[:,12],PDvalues[:,15],PDvalues[:,16],PDvalues[:,19],\\\n",
    "                       PDvalues[:,21],PDvalues[:,22],PDvalues[:,25],PDvalues[:,26],PDvalues[:,29],\\\n",
    "                       PDvalues[:,31],PDvalues[:,32],PDvalues[:,35],PDvalues[:,36],PDvalues[:,39],\\\n",
    "                       PDvalues[:,41],PDvalues[:,42],PDvalues[:,45],PDvalues[:,46],PDvalues[:,49],\\\n",
    "                       PDvalues[:,51],PDvalues[:,52],PDvalues[:,55],PDvalues[:,56],PDvalues[:,59],\\\n",
    "                       PDvalues[:,61],PDvalues[:,62],PDvalues[:,65],PDvalues[:,66],PDvalues[:,69],\\\n",
    "                       PDvalues[:,71],PDvalues[:,72],PDvalues[:,75],PDvalues[:,76],PDvalues[:,79]])\n",
    "                       #PDvalues[:,81],PDvalues[:,82],PDvalues[:,85],PDvalues[:,86],PDvalues[:,89]])\n",
    "                       #PDvalues[:,91],PDvalues[:,92],PDvalues[:,95],PDvalues[:,96],PDvalues[:,99]])\n",
    "Background_mean = np.mean(Background, axis = 1)\n",
    "PMT_Raw = np.array([PDvalues[:,0],PDvalues[:,3],PDvalues[:,4],PDvalues[:,7],PDvalues[:,8],\\\n",
    "                    PDvalues[:,10],PDvalues[:,13],PDvalues[:,14],PDvalues[:,17],PDvalues[:,18],\\\n",
    "                    PDvalues[:,20],PDvalues[:,23],PDvalues[:,24],PDvalues[:,27],PDvalues[:,28],\\\n",
    "                    PDvalues[:,30],PDvalues[:,33],PDvalues[:,34],PDvalues[:,37],PDvalues[:,38],\\\n",
    "                    PDvalues[:,40],PDvalues[:,43],PDvalues[:,44],PDvalues[:,47],PDvalues[:,48],\\\n",
    "                    PDvalues[:,50],PDvalues[:,53],PDvalues[:,54],PDvalues[:,57],PDvalues[:,58],\\\n",
    "                    PDvalues[:,60],PDvalues[:,63],PDvalues[:,64],PDvalues[:,67],PDvalues[:,68],\\\n",
    "                    PDvalues[:,70],PDvalues[:,73],PDvalues[:,74],PDvalues[:,77],PDvalues[:,78]])\n",
    "                    #PDvalues[:,80],PDvalues[:,83],PDvalues[:,84],PDvalues[:,87],PDvalues[:,88]])\n",
    "                    #PDvalues[:,90],PDvalues[:,93],PDvalues[:,94],PDvalues[:,97],PDvalues[:,98]])\n",
    "MeanPMT1 = np.mean(PMT_Raw,axis = 1)\n",
    "\n",
    "PMT_Net = MeanPMT1 - Background_mean\n",
    "MeanNET = np.reshape(PMT_Net,(8,5)) # As you add more files, change the 4 to the number of runs. 7 is b/c I took 7 different angles\n",
    "MeanNET2 = np.mean(MeanNET,axis =0)\n",
    "THzEnergy = np.array([120,110,100,90,80])\n",
    "PMT_STD = np.std(MeanNET,axis = 0)\n",
    "PMT_Err = PMT_STD/(8**0.5)\n",
    "w = (PMT_Err/(MeanNET2*log(10)))**-2\n",
    "\n",
    "print(Background_mean)\n",
    "print(MeanPMT1)\n",
    "print(MeanNET)\n",
    "#print(PMT_)\n",
    "#print(MeanNET2)\n",
    "LogPMT = np.log10(np.absolute(MeanNET2))\n",
    "LogTHz = np.log10(np.absolute(THzEnergy))\n",
    "print(LogPMT)"
   ]
  },
  {
   "cell_type": "code",
   "execution_count": 29,
   "metadata": {
    "collapsed": false
   },
   "outputs": [
    {
     "name": "stdout",
     "output_type": "stream",
     "text": [
      "[  922.82958025  1709.46158407  4655.89415589   254.1336421   1172.89500012]\n",
      "-5.69135198404\n",
      "2.0285255988\n",
      "0.445345912064\n",
      "0.222372055722\n"
     ]
    }
   ],
   "source": [
    "Delta = sum(w)*sum(w*LogTHz**2) - (sum(w*LogTHz))**2\n",
    "A = (sum(w*LogTHz**2)*sum(w*LogPMT) - sum(w*LogTHz)*sum(w*LogTHz*LogPMT))/Delta\n",
    "B = (sum(w)*sum(w*LogTHz*LogPMT) - (sum(w*LogPMT)*sum(w*LogTHz)))/Delta\n",
    "# Least Squares Fitting Parameters above\n",
    "print(w)\n",
    "print(A)\n",
    "print(B)\n",
    "err = (((len(LogPMT)-2)**-1) * sum((LogPMT - A -B*LogTHz)**2)**0.5)\n",
    "errorA = (sum(w*LogTHz**2)/Delta)**0.5\n",
    "errorB = (sum(w)/Delta)**0.5\n",
    "print(errorA)\n",
    "print(errorB)"
   ]
  },
  {
   "cell_type": "code",
   "execution_count": 32,
   "metadata": {
    "collapsed": true
   },
   "outputs": [],
   "source": [
    "plt.plot(LogTHz, A + B*LogTHz,'r',label = 'Fit: y=2.02x -2.47')\n",
    "plt.plot(LogTHz, LogPMT,'b.', label = 'Data')\n",
    "plt.grid(True)\n",
    "plt.xlabel('Log(Laser Power)')\n",
    "plt.ylabel('Log(PMT Signal)')\n",
    "plt.legend(loc = 'upper left')\n",
    "#plt.show()\n",
    "plt.savefig('LogPMT_Vs_LogLaser_07172017.png')"
   ]
  },
  {
   "cell_type": "code",
   "execution_count": null,
   "metadata": {
    "collapsed": true
   },
   "outputs": [],
   "source": []
  }
 ],
 "metadata": {
  "kernelspec": {
   "display_name": "Python 3",
   "language": "python",
   "name": "python3"
  },
  "language_info": {
   "codemirror_mode": {
    "name": "ipython",
    "version": 3
   },
   "file_extension": ".py",
   "mimetype": "text/x-python",
   "name": "python",
   "nbconvert_exporter": "python",
   "pygments_lexer": "ipython3",
   "version": "3.5.1"
  }
 },
 "nbformat": 4,
 "nbformat_minor": 0
}
