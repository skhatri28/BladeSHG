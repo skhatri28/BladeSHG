{
 "cells": [
  {
   "cell_type": "code",
   "execution_count": 10,
   "metadata": {
    "collapsed": true
   },
   "outputs": [],
   "source": [
    "import matplotlib.pyplot as plt\n",
    "import numpy as np\n",
    "import pandas as pd\n",
    "from pandas import Series, DataFrame\n",
    "import glob\n",
    "import os\n",
    "from math import log"
   ]
  },
  {
   "cell_type": "code",
   "execution_count": 11,
   "metadata": {
    "collapsed": false
   },
   "outputs": [
    {
     "name": "stdout",
     "output_type": "stream",
     "text": [
      "['PMT_Signal_280Deg_071717.txt', 'PMT_Background_280Deg_071717.txt', 'PMT_Background_275Deg_071717.txt', 'PMT_Signal_275Deg_071717.txt', 'PMT_Signal_270Deg_071717.txt', 'PMT_Background_270Deg_071717.txt', 'PMT_Background_265Deg_071717.txt', 'PMT_Signal_265Deg_071717.txt', 'PMT_Signal_260Deg_071717.txt', 'PMT_Background_260Deg_071717.txt', 'PMT2_Signal_280Deg_071717.txt', 'PMT2_Background_280Deg_071717.txt', 'PMT2_Background_275Deg_071717.txt', 'PMT2_Signal_275Deg_071717.txt', 'PMT2_Signal_270Deg_071717.txt', 'PMT2_Background_270Deg_071717.txt', 'PMT2_Background_265Deg_071717.txt', 'PMT2_Signal_265Deg_071717.txt', 'PMT2_Signal_260Deg_071717.txt', 'PMT2_Background_260Deg_071717.txt', 'PMT3_Signal_280Deg_071717.txt', 'PMT3_Background_280Deg_071717.txt', 'PMT3_Background_275Deg_071717.txt', 'PMT3_Signal_275Deg_071717.txt', 'PMT3_Signal_270Deg_071717.txt', 'PMT3_Background_270Deg_071717.txt', 'PMT3_Background_265Deg_071717.txt', 'PMT3_Signal_265Deg_071717.txt', 'PMT3_Signal_260Deg_071717.txt', 'PMT3_Background_260Deg_071717.txt', 'PMT4_Signal_280Deg_071717.txt', 'PMT4_Background_280Deg_071717.txt', 'PMT4_Background_275Deg_071717.txt', 'PMT4_Signal_275Deg_071717.txt', 'PMT4_Signal_270Deg_071717.txt', 'PMT4_Background_270Deg_071717.txt', 'PMT4_Background_265Deg_071717.txt', 'PMT4_Signal_265Deg_071717.txt', 'PMT4_Signal_260Deg_071717.txt', 'PMT4_Background_260Deg_071717.txt', 'PMT5_Signal_280Deg_071717.txt', 'PMT5_Background_280Deg_071717.txt', 'PMT5_Background_275Deg_071717.txt', 'PMT5_Signal_275Deg_071717.txt', 'PMT5_Signal_270Deg_071717.txt', 'PMT5_Background_270Deg_071717.txt', 'PMT5_Background_265Deg_071717.txt', 'PMT5_Signal_265Deg_071717.txt', 'PMT5_Signal_260Deg_071717.txt', 'PMT5_Background_260Deg_071717.txt']\n"
     ]
    }
   ],
   "source": [
    "allFiles = sorted(glob.glob(\"*.txt\"),key=os.path.getmtime) # includes all files into a single stucture,\n",
    "# Sorted by modification time so that the first measurement is first...\n",
    "print(allFiles)"
   ]
  },
  {
   "cell_type": "code",
   "execution_count": 3,
   "metadata": {
    "collapsed": true
   },
   "outputs": [],
   "source": [
    "frame = pd.DataFrame()\n",
    "df = pd.DataFrame()"
   ]
  },
  {
   "cell_type": "code",
   "execution_count": 4,
   "metadata": {
    "collapsed": false
   },
   "outputs": [
    {
     "name": "stderr",
     "output_type": "stream",
     "text": [
      "/Users/sanjaykhatri/anaconda/lib/python3.5/site-packages/ipykernel/__main__.py:7: ParserWarning: Falling back to the 'python' engine because the 'c' engine does not support skip_footer; you can avoid this warning by specifying engine='python'.\n"
     ]
    }
   ],
   "source": [
    "for i,file_ in enumerate(allFiles):\n",
    "#    f = open(file_,'r')\n",
    "#     for j,line in enumerate(f):\n",
    "#         if j == 1:\n",
    "#             date = line[14:22]\n",
    "#             break\n",
    "    df = pd.read_csv(file_,index_col = None, header=None, skiprows = 10, skipfooter = 1, delimiter = '\\t')\n",
    "#     frame[file_] = df[5]\n",
    "    df['file']=file_\n",
    "    df['timeDelay']= df[1]\n",
    "    df['PDvalue'] = df[3]\n",
    "#     df['date']=date\n",
    "    if i < 1:\n",
    "        frame = df\n",
    "    else:\n",
    "        frame = frame.append(df)"
   ]
  },
  {
   "cell_type": "code",
   "execution_count": 5,
   "metadata": {
    "collapsed": false
   },
   "outputs": [
    {
     "name": "stdout",
     "output_type": "stream",
     "text": [
      "[-0.224645 -0.210712 -0.194199 -0.1816   -0.180882 -0.200697 -0.198974\n",
      " -0.189569 -0.181136 -0.170216 -0.201327 -0.196883 -0.183178 -0.171792\n",
      " -0.174529 -0.198239 -0.191966 -0.182369 -0.170356 -0.161154]\n",
      "[-0.259974 -0.249862 -0.231133 -0.209298 -0.19886  -0.243399 -0.236447\n",
      " -0.214466 -0.196183 -0.180476 -0.241802 -0.23357  -0.209388 -0.192573\n",
      " -0.187463 -0.233269 -0.226209 -0.202422 -0.191129 -0.183088]\n",
      "[[-0.035329 -0.03915  -0.036934 -0.027698 -0.017978]\n",
      " [-0.042702 -0.037473 -0.024897 -0.015047 -0.01026 ]\n",
      " [-0.040475 -0.036687 -0.02621  -0.020781 -0.012934]\n",
      " [-0.03503  -0.034243 -0.020053 -0.020773 -0.021934]]\n",
      "[-1.41584977 -1.43311195 -1.5682584  -1.67623757 -1.80198934]\n"
     ]
    }
   ],
   "source": [
    "times = pd.Series()\n",
    "PDvalues = pd.Series()\n",
    "AvgPD50 = pd.Series()\n",
    "itr = 0.000125\n",
    "offset = 0.023\n",
    "for i in range(0,100):\n",
    "    time = frame[1][i]\n",
    "    PDvalue = frame[3][i]\n",
    "    times = times.append(time)\n",
    "    PDvalues = PDvalues.append(PDvalue)\n",
    "#print(len(PDvalues))\n",
    "PDvalues = PDvalues.values.reshape(100,len(allFiles))\n",
    "Background = np.array([PDvalues[:,1],PDvalues[:,2],PDvalues[:,5],PDvalues[:,6],PDvalues[:,9],\\\n",
    "                       PDvalues[:,21],PDvalues[:,22],PDvalues[:,25],PDvalues[:,26],PDvalues[:,29],\\\n",
    "                       PDvalues[:,31],PDvalues[:,32],PDvalues[:,35],PDvalues[:,36],PDvalues[:,39],\\\n",
    "                       PDvalues[:,41],PDvalues[:,42],PDvalues[:,45],PDvalues[:,46],PDvalues[:,49]])\n",
    "Background_mean = np.mean(Background, axis = 1)\n",
    "PMT_Raw = np.array([PDvalues[:,0],PDvalues[:,3],PDvalues[:,4],PDvalues[:,7],PDvalues[:,8],\\\n",
    "                    PDvalues[:,20],PDvalues[:,23],PDvalues[:,24],PDvalues[:,27],PDvalues[:,28],\\\n",
    "                    PDvalues[:,30],PDvalues[:,33],PDvalues[:,34],PDvalues[:,37],PDvalues[:,38],\\\n",
    "                    PDvalues[:,40],PDvalues[:,43],PDvalues[:,44],PDvalues[:,47],PDvalues[:,48]])\n",
    "MeanPMT1 = np.mean(PMT_Raw,axis = 1)\n",
    "\n",
    "PMT_Net = MeanPMT1 - Background_mean\n",
    "MeanNET = np.reshape(PMT_Net,(4,5)) # As you add more files, change the 4 to the number of runs. 7 is b/c I took 7 different angles\n",
    "MeanNET2 = np.mean(MeanNET,axis =0)\n",
    "THzEnergy = np.array([11,10,8,6,4.5])\n",
    "PMT_STD = np.std(MeanNET,axis = 0)\n",
    "PMT_Err = PMT_STD/(4**0.5)\n",
    "w = (PMT_Err/(MeanNET2*log(10)))**-2\n",
    "\n",
    "print(Background_mean)\n",
    "print(MeanPMT1)\n",
    "print(MeanNET)\n",
    "#print(PMT_)\n",
    "#print(MeanNET2)\n",
    "LogPMT = np.log10(np.absolute(MeanNET2))\n",
    "LogTHz = np.log10(np.absolute(THzEnergy))\n",
    "print(LogPMT)"
   ]
  },
  {
   "cell_type": "code",
   "execution_count": 6,
   "metadata": {
    "collapsed": false
   },
   "outputs": [
    {
     "name": "stdout",
     "output_type": "stream",
     "text": [
      "[ 2866.60505322  9238.06385888   407.58716158   468.74434435   259.79241201]\n",
      "-2.47229420705\n",
      "1.031871012\n",
      "0.126141684888\n",
      "0.126943798409\n"
     ]
    }
   ],
   "source": [
    "Delta = sum(w)*sum(w*LogTHz**2) - (sum(w*LogTHz))**2\n",
    "A = (sum(w*LogTHz**2)*sum(w*LogPMT) - sum(w*LogTHz)*sum(w*LogTHz*LogPMT))/Delta\n",
    "B = (sum(w)*sum(w*LogTHz*LogPMT) - (sum(w*LogPMT)*sum(w*LogTHz)))/Delta\n",
    "# Least Squares Fitting Parameters above\n",
    "print(w)\n",
    "print(A)\n",
    "print(B)\n",
    "err = (((len(LogPMT)-2)**-1) * sum((LogPMT - A -B*LogTHz)**2)**0.5)\n",
    "errorA = (sum(w*LogTHz**2)/Delta)**0.5\n",
    "errorB = (sum(w)/Delta)**0.5\n",
    "print(errorA)\n",
    "print(errorB)"
   ]
  },
  {
   "cell_type": "code",
   "execution_count": 9,
   "metadata": {
    "collapsed": true
   },
   "outputs": [],
   "source": [
    "plt.plot(LogTHz, A + B*LogTHz,'r',label = 'Fit: y=1.03x -2.47')\n",
    "plt.plot(LogTHz, LogPMT,'b.', label = 'Data')\n",
    "plt.grid(True)\n",
    "plt.xlabel('Log(THz Energy)')\n",
    "plt.ylabel('Log(PMT Signal)')\n",
    "plt.legend(loc = 'upper left')\n",
    "plt.show()\n",
    "#plt.savefig('PMT_SignalVsTHzEnergy_07172017.png')"
   ]
  },
  {
   "cell_type": "code",
   "execution_count": null,
   "metadata": {
    "collapsed": true
   },
   "outputs": [],
   "source": []
  }
 ],
 "metadata": {
  "kernelspec": {
   "display_name": "Python 3",
   "language": "python",
   "name": "python3"
  },
  "language_info": {
   "codemirror_mode": {
    "name": "ipython",
    "version": 3
   },
   "file_extension": ".py",
   "mimetype": "text/x-python",
   "name": "python",
   "nbconvert_exporter": "python",
   "pygments_lexer": "ipython3",
   "version": "3.5.1"
  }
 },
 "nbformat": 4,
 "nbformat_minor": 0
}
