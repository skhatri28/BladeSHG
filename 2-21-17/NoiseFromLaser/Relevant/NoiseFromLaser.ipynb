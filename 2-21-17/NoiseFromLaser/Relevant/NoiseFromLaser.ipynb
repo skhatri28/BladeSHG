{
 "cells": [
  {
   "cell_type": "code",
   "execution_count": 1,
   "metadata": {
    "collapsed": true
   },
   "outputs": [],
   "source": [
    "import matplotlib.pyplot as plt\n",
    "import numpy as np\n",
    "import scipy as sy\n",
    "from scipy import stats\n",
    "import pylab\n",
    "import re"
   ]
  },
  {
   "cell_type": "code",
   "execution_count": 74,
   "metadata": {
    "collapsed": false
   },
   "outputs": [
    {
     "data": {
      "text/plain": [
       "<matplotlib.text.Text at 0x11362c0b8>"
      ]
     },
     "execution_count": 74,
     "metadata": {},
     "output_type": "execute_result"
    }
   ],
   "source": [
    "with open ('LaserNoise1Speed01_0150_0253.txt','r') as f:\n",
    "    times1=[];\n",
    "    PDvalue1 = [];\n",
    "    for line in f:\n",
    "        line = line.strip()\n",
    "        if line:\n",
    "            data = line.split()\n",
    "            times1.append(0.15+float(data[0])*1) #So here I am converting the data point number 0-1200 to stage position 0.2in to 0.297 in\n",
    "            PDvalue1.append(float(data[1]))\n",
    "Pvalue1 = np.mean(PDvalue1)-PDvalue1;\n",
    "plt.plot(times1,PDvalue1,'r')\n",
    "plt.xlabel('Data Point')\n",
    "plt.ylabel('PD Signal (arb)')\n",
    "#plt.show()"
   ]
  },
  {
   "cell_type": "code",
   "execution_count": 75,
   "metadata": {
    "collapsed": false
   },
   "outputs": [],
   "source": [
    "with open ('LaserNoise2Speed01_0150_0253.txt','r') as f:\n",
    "    times2=[];\n",
    "    PDvalue2 = [];\n",
    "    for line in f:\n",
    "        line = line.strip()\n",
    "        if line:\n",
    "            data = line.split()\n",
    "            times2.append(0.15+float(data[0])*1) #So here I am converting the data point number 0-1200 to stage position 0.2in to 0.297 in\n",
    "            PDvalue2.append(float(data[1]))\n",
    "Pvalue2 = np.mean(PDvalue2)-PDvalue2;\n",
    "plt.plot(times2,PDvalue2,'r')\n",
    "plt.xlabel('Data Point')\n",
    "plt.ylabel('PD Signal (arb)')\n",
    "plt.show()"
   ]
  },
  {
   "cell_type": "code",
   "execution_count": 107,
   "metadata": {
    "collapsed": true
   },
   "outputs": [],
   "source": [
    "with open ('LaserNoise3Speed01_0150_0253.txt','r') as f:\n",
    "    times3=[];\n",
    "    PDvalue3 = [];\n",
    "    for line in f:\n",
    "        line = line.strip()\n",
    "        if line:\n",
    "            data = line.split()\n",
    "            times3.append(0.15+float(data[0])*1) #So here I am converting the data point number 0-1200 to stage position 0.2in to 0.297 in\n",
    "            PDvalue3.append(float(data[1]))\n",
    "Pvalue3 = np.mean(PDvalue3)-PDvalue3;\n",
    "plt.plot(times3,PDvalue3,'r')\n",
    "plt.xlabel('Data Point')\n",
    "plt.ylabel('PD Signal (arb)')\n",
    "plt.show()"
   ]
  },
  {
   "cell_type": "code",
   "execution_count": 78,
   "metadata": {
    "collapsed": true
   },
   "outputs": [],
   "source": [
    "with open ('LaserNoise4Speed01_0150_0253.txt','r') as f:\n",
    "    times4=[];\n",
    "    PDvalue4 = [];\n",
    "    for line in f:\n",
    "        line = line.strip()\n",
    "        if line:\n",
    "            data = line.split()\n",
    "            times4.append(0.15+float(data[0])*1) #So here I am converting the data point number 0-1200 to stage position 0.2in to 0.297 in\n",
    "            PDvalue4.append(float(data[1]))\n",
    "Pvalue4 = np.mean(Pvalue25)-Pvalue25;\n",
    "plt.plot(times4,PDvalue4,'r')\n",
    "plt.xlabel('Data Point')\n",
    "plt.ylabel('PD Signal (arb)')\n",
    "plt.show()"
   ]
  },
  {
   "cell_type": "code",
   "execution_count": 77,
   "metadata": {
    "collapsed": true
   },
   "outputs": [],
   "source": [
    "with open ('LaserNoise5Speed01_0150_0253.txt','r') as f:\n",
    "    times5=[];\n",
    "    PDvalue5 = [];\n",
    "    for line in f:\n",
    "        line = line.strip()\n",
    "        if line:\n",
    "            data = line.split()\n",
    "            times5.append(0.15+float(data[0])*1) #So here I am converting the data point number 0-1200 to stage position 0.2in to 0.297 in\n",
    "            PDvalue5.append(float(data[1]))\n",
    "Pvalue5 = np.mean(PDvalue25)-PDvalue25;\n",
    "plt.plot(times5,PDvalue5,'r')\n",
    "plt.xlabel('Data Point')\n",
    "plt.ylabel('PD Signal (arb)')\n",
    "plt.show()"
   ]
  },
  {
   "cell_type": "code",
   "execution_count": 79,
   "metadata": {
    "collapsed": true
   },
   "outputs": [],
   "source": [
    "with open ('LaserNoise6Speed01_0150_0253.txt','r') as f:\n",
    "    times6=[];\n",
    "    PDvalue6 = [];\n",
    "    for line in f:\n",
    "        line = line.strip()\n",
    "        if line:\n",
    "            data = line.split()\n",
    "            times6.append(0.15+float(data[0])*1) #So here I am converting the data point number 0-1200 to stage position 0.2in to 0.297 in\n",
    "            PDvalue6.append(float(data[1]))\n",
    "Pvalue6 = np.mean(PDvalue6)-PDvalue6;\n",
    "plt.plot(times6,PDvalue6,'r')\n",
    "plt.xlabel('Data Point')\n",
    "plt.ylabel('PD Signal (arb)')\n",
    "plt.show()"
   ]
  },
  {
   "cell_type": "code",
   "execution_count": 80,
   "metadata": {
    "collapsed": true
   },
   "outputs": [],
   "source": [
    "with open ('LaserNoise7Speed01_0150_0253.txt','r') as f:\n",
    "    times7=[];\n",
    "    PDvalue7 = [];\n",
    "    for line in f:\n",
    "        line = line.strip()\n",
    "        if line:\n",
    "            data = line.split()\n",
    "            times7.append(0.15+float(data[0])*1) #So here I am converting the data point number 0-1200 to stage position 0.2in to 0.297 in\n",
    "            PDvalue7.append(float(data[1]))\n",
    "Pvalue7 = np.mean(PDvalue7)-PDvalue7;\n",
    "plt.plot(times7,PDvalue7,'r')\n",
    "plt.xlabel('Data Point')\n",
    "plt.ylabel('PD Signal (arb)')\n",
    "plt.show()"
   ]
  },
  {
   "cell_type": "code",
   "execution_count": 81,
   "metadata": {
    "collapsed": true
   },
   "outputs": [],
   "source": [
    "with open ('LaserNoise8Speed01_0150_0253.txt','r') as f:\n",
    "    times8=[];\n",
    "    PDvalue8 = [];\n",
    "    for line in f:\n",
    "        line = line.strip()\n",
    "        if line:\n",
    "            data = line.split()\n",
    "            times8.append(0.15+float(data[0])*1) #So here I am converting the data point number 0-1200 to stage position 0.2in to 0.297 in\n",
    "            PDvalue8.append(float(data[1]))\n",
    "Pvalue8 = np.mean(PDvalue8)-PDvalue8;\n",
    "plt.plot(times8,PDvalue8,'r')\n",
    "plt.xlabel('Data Point')\n",
    "plt.ylabel('PD Signal (arb)')\n",
    "plt.show()"
   ]
  },
  {
   "cell_type": "code",
   "execution_count": 82,
   "metadata": {
    "collapsed": true
   },
   "outputs": [],
   "source": [
    "with open ('LaserNoise9Speed01_0150_0253.txt','r') as f:\n",
    "    times9=[];\n",
    "    PDvalue9 = [];\n",
    "    for line in f:\n",
    "        line = line.strip()\n",
    "        if line:\n",
    "            data = line.split()\n",
    "            times9.append(0.15+float(data[0])*1) #So here I am converting the data point number 0-1200 to stage position 0.2in to 0.297 in\n",
    "            PDvalue9.append(float(data[1]))\n",
    "Pvalue9 = np.mean(PDvalue9)-PDvalue9;\n",
    "plt.plot(times9,PDvalue9,'r')\n",
    "plt.xlabel('Data Point')\n",
    "plt.ylabel('PD Signal (arb)')\n",
    "plt.show()"
   ]
  },
  {
   "cell_type": "code",
   "execution_count": 91,
   "metadata": {
    "collapsed": true
   },
   "outputs": [],
   "source": [
    "with open ('LaserNoise10Speed01_0150_0253.txt','r') as f:\n",
    "    times10=[];\n",
    "    PDvalue10 = [];\n",
    "    for line in f:\n",
    "        line = line.strip()\n",
    "        if line:\n",
    "            data = line.split()\n",
    "            times10.append(0.15+float(data[0])*1) #So here I am converting the data point number 0-1200 to stage position 0.2in to 0.297 in\n",
    "            PDvalue10.append(float(data[1]))\n",
    "Pvalue10 = np.mean(PDvalue10)-PDvalue10;\n",
    "plt.plot(times10,PDvalue10,'r')\n",
    "plt.xlabel('Data Point')\n",
    "plt.ylabel('PD Signal (arb)')\n",
    "plt.show()"
   ]
  },
  {
   "cell_type": "code",
   "execution_count": 92,
   "metadata": {
    "collapsed": true
   },
   "outputs": [],
   "source": [
    "with open ('LaserNoise11Speed01_0150_0253.txt','r') as f:\n",
    "    times11=[];\n",
    "    PDvalue11 = [];\n",
    "    for line in f:\n",
    "        line = line.strip()\n",
    "        if line:\n",
    "            data = line.split()\n",
    "            times11.append(0.15+float(data[0])*1) #So here I am converting the data point number 0-1200 to stage position 0.2in to 0.297 in\n",
    "            PDvalue11.append(float(data[1]))\n",
    "Pvalue11 = np.mean(PDvalue11)-PDvalue11;\n",
    "plt.plot(times11,PDvalue11,'r')\n",
    "plt.xlabel('Data Point')\n",
    "plt.ylabel('PD Signal (arb)')\n",
    "plt.show()"
   ]
  },
  {
   "cell_type": "code",
   "execution_count": 93,
   "metadata": {
    "collapsed": true
   },
   "outputs": [],
   "source": [
    "with open ('LaserNoise12Speed01_0150_0253.txt','r') as f:\n",
    "    times12=[];\n",
    "    PDvalue12 = [];\n",
    "    for line in f:\n",
    "        line = line.strip()\n",
    "        if line:\n",
    "            data = line.split()\n",
    "            times12.append(0.15+float(data[0])*1) #So here I am converting the data point number 0-1200 to stage position 0.2in to 0.297 in\n",
    "            PDvalue12.append(float(data[1]))\n",
    "Pvalue12 = np.mean(PDvalue12)-PDvalue12;\n",
    "plt.plot(times12,PDvalue12,'r')\n",
    "plt.xlabel('Data Point')\n",
    "plt.ylabel('PD Signal (arb)')\n",
    "plt.show()"
   ]
  },
  {
   "cell_type": "code",
   "execution_count": 94,
   "metadata": {
    "collapsed": true
   },
   "outputs": [],
   "source": [
    "with open ('LaserNoise13Speed01_0150_0253.txt','r') as f:\n",
    "    times13=[];\n",
    "    PDvalue13 = [];\n",
    "    for line in f:\n",
    "        line = line.strip()\n",
    "        if line:\n",
    "            data = line.split()\n",
    "            times13.append(0.15+float(data[0])*1) #So here I am converting the data point number 0-1200 to stage position 0.2in to 0.297 in\n",
    "            PDvalue13.append(float(data[1]))\n",
    "Pvalue13 = np.mean(PDvalue13)-PDvalue13;\n",
    "plt.plot(times13,PDvalue13,'r')\n",
    "plt.xlabel('Data Point')\n",
    "plt.ylabel('PD Signal (arb)')\n",
    "plt.show()"
   ]
  },
  {
   "cell_type": "code",
   "execution_count": 95,
   "metadata": {
    "collapsed": true
   },
   "outputs": [],
   "source": [
    "with open ('LaserNoise14Speed01_0150_0253.txt','r') as f:\n",
    "    times14=[];\n",
    "    PDvalue14 = [];\n",
    "    for line in f:\n",
    "        line = line.strip()\n",
    "        if line:\n",
    "            data = line.split()\n",
    "            times14.append(0.15+float(data[0])*1) #So here I am converting the data point number 0-1200 to stage position 0.2in to 0.297 in\n",
    "            PDvalue14.append(float(data[1]))\n",
    "Pvalue14 = np.mean(PDvalue14)-PDvalue14;\n",
    "plt.plot(times14,PDvalue14,'r')\n",
    "plt.xlabel('Data Point')\n",
    "plt.ylabel('PD Signal (arb)')\n",
    "plt.show()"
   ]
  },
  {
   "cell_type": "code",
   "execution_count": 96,
   "metadata": {
    "collapsed": true
   },
   "outputs": [],
   "source": [
    "with open ('LaserNoise15Speed01_0150_0253.txt','r') as f:\n",
    "    times15=[];\n",
    "    PDvalue15 = [];\n",
    "    for line in f:\n",
    "        line = line.strip()\n",
    "        if line:\n",
    "            data = line.split()\n",
    "            times15.append(0.15+float(data[0])*1) #So here I am converting the data point number 0-1200 to stage position 0.2in to 0.297 in\n",
    "            PDvalue15.append(float(data[1]))\n",
    "Pvalue15 = np.mean(PDvalue15)-PDvalue15;\n",
    "plt.plot(times15,PDvalue15,'r')\n",
    "plt.xlabel('Data Point')\n",
    "plt.ylabel('PD Signal (arb)')\n",
    "plt.show()"
   ]
  },
  {
   "cell_type": "code",
   "execution_count": 97,
   "metadata": {
    "collapsed": true
   },
   "outputs": [],
   "source": [
    "with open ('LaserNoise16Speed01_0150_0253.txt','r') as f:\n",
    "    times16=[];\n",
    "    PDvalue16 = [];\n",
    "    for line in f:\n",
    "        line = line.strip()\n",
    "        if line:\n",
    "            data = line.split()\n",
    "            times16.append(0.15+float(data[0])*1) #So here I am converting the data point number 0-1200 to stage position 0.2in to 0.297 in\n",
    "            PDvalue16.append(float(data[1]))\n",
    "Pvalue16 = np.mean(PDvalue16)-PDvalue16;\n",
    "plt.plot(times16,PDvalue16,'r')\n",
    "plt.xlabel('Data Point')\n",
    "plt.ylabel('PD Signal (arb)')\n",
    "plt.show()"
   ]
  },
  {
   "cell_type": "code",
   "execution_count": 98,
   "metadata": {
    "collapsed": true
   },
   "outputs": [],
   "source": [
    "with open ('LaserNoise17Speed01_0150_0253.txt','r') as f:\n",
    "    times17=[];\n",
    "    PDvalue17 = [];\n",
    "    for line in f:\n",
    "        line = line.strip()\n",
    "        if line:\n",
    "            data = line.split()\n",
    "            times17.append(0.15+float(data[0])*1) #So here I am converting the data point number 0-1200 to stage position 0.2in to 0.297 in\n",
    "            PDvalue17.append(float(data[1]))\n",
    "Pvalue17 = np.mean(PDvalue17)-PDvalue17;\n",
    "plt.plot(times17,PDvalue17,'r')\n",
    "plt.xlabel('Data Point')\n",
    "plt.ylabel('PD Signal (arb)')\n",
    "plt.show()"
   ]
  },
  {
   "cell_type": "code",
   "execution_count": 99,
   "metadata": {
    "collapsed": false
   },
   "outputs": [],
   "source": [
    "with open ('LaserNoise18Speed01_0150_0253.txt','r') as f:\n",
    "    times18=[];\n",
    "    PDvalue18 = [];\n",
    "    for line in f:\n",
    "        line = line.strip()\n",
    "        if line:\n",
    "            data = line.split()\n",
    "            times18.append(0.15+float(data[0])*1) #So here I am converting the data point number 0-1200 to stage position 0.2in to 0.297 in\n",
    "            PDvalue18.append(float(data[1]))\n",
    "Pvalue18 = np.mean(PDvalue18)-PDvalue18;\n",
    "plt.plot(times18,PDvalue18,'r')\n",
    "plt.xlabel('Data Point')\n",
    "plt.ylabel('PD Signal (arb)')\n",
    "plt.show()"
   ]
  },
  {
   "cell_type": "code",
   "execution_count": 100,
   "metadata": {
    "collapsed": true
   },
   "outputs": [],
   "source": [
    "with open ('LaserNoise19Speed01_0150_0253.txt','r') as f:\n",
    "    times19=[];\n",
    "    PDvalue19 = [];\n",
    "    for line in f:\n",
    "        line = line.strip()\n",
    "        if line:\n",
    "            data = line.split()\n",
    "            times19.append(0.15+float(data[0])*1) #So here I am converting the data point number 0-1200 to stage position 0.2in to 0.297 in\n",
    "            PDvalue19.append(float(data[1]))\n",
    "Pvalue19 = np.mean(PDvalue19)-PDvalue19;\n",
    "plt.plot(times19,PDvalue19,'r')\n",
    "plt.xlabel('Data Point')\n",
    "plt.ylabel('PD Signal (arb)')\n",
    "plt.show()"
   ]
  },
  {
   "cell_type": "code",
   "execution_count": 101,
   "metadata": {
    "collapsed": true
   },
   "outputs": [],
   "source": [
    "with open ('LaserNoise20Speed01_0150_0253.txt','r') as f:\n",
    "    times20=[];\n",
    "    PDvalue20 = [];\n",
    "    for line in f:\n",
    "        line = line.strip()\n",
    "        if line:\n",
    "            data = line.split()\n",
    "            times20.append(0.15+float(data[0])*1) #So here I am converting the data point number 0-1200 to stage position 0.2in to 0.297 in\n",
    "            PDvalue20.append(float(data[1]))\n",
    "Pvalue20 = np.mean(PDvalue20)-PDvalue20;\n",
    "plt.plot(times20,PDvalue20,'r')\n",
    "plt.xlabel('Data Point')\n",
    "plt.ylabel('PD Signal (arb)')\n",
    "plt.show()"
   ]
  },
  {
   "cell_type": "code",
   "execution_count": 102,
   "metadata": {
    "collapsed": false
   },
   "outputs": [
    {
     "data": {
      "text/plain": [
       "<matplotlib.text.Text at 0x10db324a8>"
      ]
     },
     "execution_count": 102,
     "metadata": {},
     "output_type": "execute_result"
    }
   ],
   "source": [
    "with open ('LaserNoise21Speed01_0150_0253.txt','r') as f:\n",
    "    times21=[];\n",
    "    PDvalue21 = [];\n",
    "    for line in f:\n",
    "        line = line.strip()\n",
    "        if line:\n",
    "            data = line.split()\n",
    "            times21.append(0.15+float(data[0])*1) #So here I am converting the data point number 0-1200 to stage position 0.2in to 0.297 in\n",
    "            PDvalue21.append(float(data[1]))\n",
    "Pvalue21 = np.mean(PDvalue21)-PDvalue21;\n",
    "plt.plot(times21,PDvalue21,'r')\n",
    "plt.xlabel('Data Point')\n",
    "plt.ylabel('PD Signal (arb)')\n",
    "#plt.show()"
   ]
  },
  {
   "cell_type": "code",
   "execution_count": 103,
   "metadata": {
    "collapsed": false
   },
   "outputs": [
    {
     "data": {
      "text/plain": [
       "<matplotlib.text.Text at 0x10db324a8>"
      ]
     },
     "execution_count": 103,
     "metadata": {},
     "output_type": "execute_result"
    }
   ],
   "source": [
    "with open ('LaserNoise22Speed01_0150_0253.txt','r') as f:\n",
    "    times22=[];\n",
    "    PDvalue22 = [];\n",
    "    for line in f:\n",
    "        line = line.strip()\n",
    "        if line:\n",
    "            data = line.split()\n",
    "            times22.append(0.15+float(data[0])*1) #So here I am converting the data point number 0-1200 to stage position 0.2in to 0.297 in\n",
    "            PDvalue22.append(float(data[1]))\n",
    "Pvalue22 = np.mean(PDvalue22)-PDvalue22;\n",
    "plt.plot(times22,PDvalue22,'r')\n",
    "plt.xlabel('Data Point')\n",
    "plt.ylabel('PD Signal (arb)')\n",
    "#plt.show()"
   ]
  },
  {
   "cell_type": "code",
   "execution_count": 104,
   "metadata": {
    "collapsed": false
   },
   "outputs": [
    {
     "data": {
      "text/plain": [
       "<matplotlib.text.Text at 0x10db324a8>"
      ]
     },
     "execution_count": 104,
     "metadata": {},
     "output_type": "execute_result"
    }
   ],
   "source": [
    "with open ('LaserNoise23Speed01_0150_0253.txt','r') as f:\n",
    "    times23=[];\n",
    "    PDvalue23 = [];\n",
    "    for line in f:\n",
    "        line = line.strip()\n",
    "        if line:\n",
    "            data = line.split()\n",
    "            times23.append(0.15+float(data[0])*1) #So here I am converting the data point number 0-1200 to stage position 0.2in to 0.297 in\n",
    "            PDvalue23.append(float(data[1]))\n",
    "Pvalue23 = np.mean(PDvalue23)-PDvalue23;\n",
    "plt.plot(times23,PDvalue23,'r')\n",
    "plt.xlabel('Data Point')\n",
    "plt.ylabel('PD Signal (arb)')\n",
    "#plt.show()"
   ]
  },
  {
   "cell_type": "code",
   "execution_count": 105,
   "metadata": {
    "collapsed": false
   },
   "outputs": [
    {
     "data": {
      "text/plain": [
       "<matplotlib.text.Text at 0x10db324a8>"
      ]
     },
     "execution_count": 105,
     "metadata": {},
     "output_type": "execute_result"
    }
   ],
   "source": [
    "with open ('LaserNoise24Speed01_0150_0253.txt','r') as f:\n",
    "    times24=[];\n",
    "    PDvalue24 = [];\n",
    "    for line in f:\n",
    "        line = line.strip()\n",
    "        if line:\n",
    "            data = line.split()\n",
    "            times24.append(0.15+float(data[0])*1) #So here I am converting the data point number 0-1200 to stage position 0.2in to 0.297 in\n",
    "            PDvalue24.append(float(data[1]))\n",
    "Pvalue24 = np.mean(PDvalue24)-PDvalue24;\n",
    "plt.plot(times24,PDvalue24,'r')\n",
    "plt.xlabel('Data Point')\n",
    "plt.ylabel('PD Signal (arb)')\n",
    "#plt.show()"
   ]
  },
  {
   "cell_type": "code",
   "execution_count": 69,
   "metadata": {
    "collapsed": false
   },
   "outputs": [
    {
     "name": "stdout",
     "output_type": "stream",
     "text": [
      "[  3.14373333e-03   3.44373333e-03   2.84373333e-03   4.54373333e-03\n",
      "   5.84373333e-03   8.44373333e-03   8.44373333e-03   6.44373333e-03\n",
      "   2.24373333e-03   3.14373333e-03   3.44373333e-03   9.43733333e-04\n",
      "   1.94373333e-03  -2.25626667e-03  -3.65626667e-03  -3.05626667e-03\n",
      "  -8.56266667e-04  -2.05626667e-03  -1.35626667e-03  -3.35626667e-03\n",
      "  -4.55626667e-03  -4.45626667e-03  -8.56266667e-04  -5.62666667e-05\n",
      "   1.64373333e-03   1.94373333e-03   2.54373333e-03   3.43733333e-04\n",
      "   2.43733333e-04   1.34373333e-03   1.04373333e-03   1.34373333e-03\n",
      "   2.24373333e-03   1.94373333e-03   2.24373333e-03   4.94373333e-03\n",
      "   3.94373333e-03   3.94373333e-03   1.64373333e-03   4.64373333e-03\n",
      "   5.14373333e-03   3.34373333e-03   2.84373333e-03   2.24373333e-03\n",
      "   2.24373333e-03   4.34373333e-03   4.14373333e-03   4.94373333e-03\n",
      "   2.54373333e-03   3.44373333e-03   5.43733333e-04  -7.56266667e-04\n",
      "  -4.56266667e-04  -6.56266667e-04   2.24373333e-03   1.04373333e-03\n",
      "   5.43733333e-04  -2.65626667e-03  -2.15626667e-03  -1.85626667e-03\n",
      "  -4.25626667e-03  -3.65626667e-03  -4.85626667e-03  -3.65626667e-03\n",
      "  -4.25626667e-03  -3.35626667e-03  -4.35626667e-03  -5.45626667e-03\n",
      "  -3.65626667e-03  -1.25626667e-03  -1.25626667e-03  -1.35626667e-03\n",
      "  -2.15626667e-03   5.43733333e-04  -2.56266667e-04   7.43733333e-04\n",
      "  -2.75626667e-03  -3.05626667e-03  -1.95626667e-03  -2.85626667e-03\n",
      "   3.43733333e-04   7.43733333e-04   1.64373333e-03   5.43733333e-04\n",
      "  -1.05626667e-03  -4.56266667e-04  -1.35626667e-03  -1.95626667e-03\n",
      "  -3.05626667e-03  -2.45626667e-03  -1.05626667e-03  -2.56266667e-04\n",
      "  -2.15626667e-03  -2.45626667e-03  -6.25626667e-03  -6.85626667e-03\n",
      "  -5.85626667e-03  -2.25626667e-03  -8.56266667e-04  -1.25626667e-03\n",
      "  -3.05626667e-03  -1.55626667e-03   5.43733333e-04   3.43733333e-04\n",
      "   3.64373333e-03   3.44373333e-03   1.94373333e-03   7.43733333e-04\n",
      "   2.84373333e-03   3.44373333e-03   3.74373333e-03   1.94373333e-03\n",
      "   1.34373333e-03   2.24373333e-03   1.94373333e-03   2.54373333e-03\n",
      "   3.94373333e-03   3.74373333e-03   3.74373333e-03   4.54373333e-03\n",
      "   2.54373333e-03   3.74373333e-03   1.34373333e-03   1.94373333e-03\n",
      "   2.54373333e-03   2.84373333e-03   2.84373333e-03  -5.62666667e-05\n",
      "  -4.56266667e-04  -4.56266667e-04  -2.15626667e-03  -2.75626667e-03\n",
      "  -2.15626667e-03  -3.35626667e-03  -3.55626667e-03  -3.65626667e-03\n",
      "  -4.15626667e-03  -1.65626667e-03  -8.56266667e-04  -1.35626667e-03\n",
      "  -6.56266667e-04   5.43733333e-04   4.43733333e-04   3.43733333e-04\n",
      "   7.43733333e-04  -5.62666667e-05   8.43733333e-04   9.43733333e-04\n",
      "  -6.56266667e-04  -6.56266667e-04  -7.56266667e-04  -1.35626667e-03\n",
      "  -2.45626667e-03  -3.05626667e-03  -2.15626667e-03  -5.65626667e-03\n",
      "  -4.05626667e-03  -3.95626667e-03  -2.15626667e-03  -1.35626667e-03\n",
      "  -4.56266667e-04  -8.56266667e-04  -2.45626667e-03  -2.15626667e-03\n",
      "  -2.45626667e-03  -5.62666667e-05  -3.56266667e-04  -4.56266667e-04\n",
      "  -6.56266667e-04  -1.85626667e-03  -3.35626667e-03  -1.55626667e-03\n",
      "  -4.25626667e-03  -2.45626667e-03  -1.25626667e-03  -7.56266667e-04\n",
      "   4.43733333e-04  -1.85626667e-03  -2.75626667e-03  -3.05626667e-03\n",
      "  -3.35626667e-03  -5.25626667e-03  -4.55626667e-03  -3.95626667e-03\n",
      "  -3.65626667e-03  -5.85626667e-03  -3.95626667e-03  -4.45626667e-03\n",
      "  -4.45626667e-03  -5.85626667e-03  -3.05626667e-03  -1.85626667e-03\n",
      "  -2.75626667e-03  -3.65626667e-03  -4.56266667e-04   1.43733333e-04\n",
      "  -1.55626667e-03  -1.25626667e-03   3.43733333e-04  -4.56266667e-04\n",
      "  -3.05626667e-03  -4.56266667e-04   3.43733333e-04  -4.56266667e-04\n",
      "  -1.65626667e-03  -4.65626667e-03  -5.85626667e-03  -2.95626667e-03\n",
      "  -2.95626667e-03  -3.05626667e-03  -2.75626667e-03  -8.56266667e-04\n",
      "   2.64373333e-03   2.24373333e-03  -4.56266667e-04  -1.25626667e-03\n",
      "  -1.35626667e-03  -4.56266667e-04   1.24373333e-03   1.94373333e-03\n",
      "   3.43733333e-04   7.43733333e-04   1.34373333e-03   3.44373333e-03\n",
      "   3.74373333e-03   9.43733333e-04  -1.85626667e-03  -1.65626667e-03\n",
      "  -2.56266667e-04   5.43733333e-04   1.34373333e-03   1.94373333e-03\n",
      "   2.24373333e-03   3.44373333e-03   1.44373333e-03   2.24373333e-03\n",
      "   2.24373333e-03   1.94373333e-03   2.24373333e-03   2.54373333e-03\n",
      "   1.34373333e-03   1.94373333e-03   1.94373333e-03   3.44373333e-03\n",
      "   4.34373333e-03   4.54373333e-03   4.74373333e-03   3.94373333e-03\n",
      "   5.34373333e-03   3.94373333e-03   1.34373333e-03   1.64373333e-03\n",
      "   3.04373333e-03   2.14373333e-03  -4.56266667e-04  -1.25626667e-03\n",
      "  -1.25626667e-03  -2.45626667e-03  -2.15626667e-03  -3.65626667e-03\n",
      "  -3.95626667e-03  -2.45626667e-03  -3.35626667e-03  -4.15626667e-03\n",
      "  -4.15626667e-03  -3.95626667e-03  -4.45626667e-03  -2.55626667e-03\n",
      "   3.43733333e-04  -1.35626667e-03   5.43733333e-04  -2.56266667e-04\n",
      "  -4.05626667e-03  -1.05626667e-03  -1.85626667e-03  -2.75626667e-03\n",
      "  -1.85626667e-03   1.43733333e-04  -1.55626667e-03  -8.56266667e-04\n",
      "  -8.56266667e-04   7.43733333e-04  -8.56266667e-04   1.14373333e-03\n",
      "   7.43733333e-04  -5.62666667e-05   2.84373333e-03   2.54373333e-03\n",
      "   3.64373333e-03   2.84373333e-03   4.14373333e-03   2.24373333e-03\n",
      "   2.54373333e-03   1.34373333e-03   2.24373333e-03   2.84373333e-03\n",
      "   4.54373333e-03   6.34373333e-03   4.14373333e-03   3.74373333e-03\n",
      "   3.44373333e-03   1.34373333e-03   3.74373333e-03   1.94373333e-03\n",
      "   5.43733333e-04   5.43733333e-04   1.34373333e-03   1.64373333e-03\n",
      "   1.43733333e-04   3.44373333e-03  -3.56266667e-04  -1.15626667e-03\n",
      "   4.37333333e-05   7.43733333e-04   1.04373333e-03  -4.56266667e-04\n",
      "   1.94373333e-03   1.94373333e-03   1.64373333e-03  -4.56266667e-04\n",
      "   1.94373333e-03   6.43733333e-04   1.54373333e-03   3.74373333e-03\n",
      "   6.04373333e-03   3.24373333e-03   2.54373333e-03   2.84373333e-03\n",
      "   2.54373333e-03   1.64373333e-03   1.34373333e-03  -5.62666667e-05\n",
      "   1.43733333e-04  -5.62666667e-05  -1.05626667e-03  -1.25626667e-03\n",
      "  -3.05626667e-03  -4.85626667e-03  -6.55626667e-03  -5.45626667e-03\n",
      "  -3.05626667e-03  -3.05626667e-03  -3.65626667e-03  -2.95626667e-03\n",
      "  -5.56266667e-04  -1.75626667e-03  -1.25626667e-03  -6.56266667e-04\n",
      "  -3.35626667e-03  -3.65626667e-03  -3.05626667e-03  -3.05626667e-03\n",
      "  -8.56266667e-04   1.43733333e-04  -4.56266667e-04  -1.05626667e-03\n",
      "   7.43733333e-04  -8.56266667e-04  -2.56266667e-04   5.43733333e-04\n",
      "  -4.56266667e-04   3.43733333e-04  -4.56266667e-04   7.43733333e-04\n",
      "   2.04373333e-03   4.14373333e-03   3.74373333e-03   3.74373333e-03\n",
      "   4.14373333e-03   6.04373333e-03   5.84373333e-03   5.74373333e-03\n",
      "   3.34373333e-03   2.44373333e-03  -6.56266667e-04]\n"
     ]
    },
    {
     "data": {
      "text/plain": [
       "<matplotlib.text.Text at 0x11362c0b8>"
      ]
     },
     "execution_count": 69,
     "metadata": {},
     "output_type": "execute_result"
    }
   ],
   "source": [
    "with open ('LaserNoise25Speed01_0150_0253.txt','r') as f:\n",
    "    times25=[];\n",
    "    PDvalue25 = [];\n",
    "    for line in f:\n",
    "        line = line.strip()\n",
    "        if line:\n",
    "            data = line.split()\n",
    "            times25.append(0.15+float(data[0])*1) #So here I am converting the data point number 0-1200 to stage position 0.2in to 0.297 in\n",
    "            PDvalue25.append(float(data[1]))\n",
    "Pvalue25 = np.mean(PDvalue25)-PDvalue25;\n",
    "\n",
    "plt.plot(times25,Pdvalue25,'r')\n",
    "plt.xlabel('Data Point')\n",
    "plt.ylabel('PD Signal (arb)')\n",
    "#plt.show()"
   ]
  },
  {
   "cell_type": "code",
   "execution_count": 108,
   "metadata": {
    "collapsed": false
   },
   "outputs": [],
   "source": [
    "FinalPD = [PDvalue1,PDvalue2,PDvalue3,PDvalue4,PDvalue5,PDvalue6,PDvalue7,PDvalue8,PDvalue9,PDvalue10,\n",
    "           PDvalue11,PDvalue12,PDvalue13,PDvalue14,PDvalue15,PDvalue16,PDvalue17,PDvalue18,PDvalue19,PDvalue20,PDvalue21,\n",
    "           PDvalue22,PDvalue23,PDvalue24,PDvalue25]\n",
    "NormFinalPD = [Pvalue1,Pvalue2,Pvalue3,Pvalue4,Pvalue5,Pvalue6,Pvalue7,Pvalue8,Pvalue9,Pvalue10,\n",
    "           Pvalue11,Pvalue12,Pvalue13,Pvalue14,Pvalue15,Pvalue16,Pvalue17,Pvalue18,Pvalue19,Pvalue20,Pvalue21,\n",
    "           Pvalue22,Pvalue23,Pvalue24,Pvalue25]"
   ]
  },
  {
   "cell_type": "code",
   "execution_count": null,
   "metadata": {
    "collapsed": false
   },
   "outputs": [],
   "source": [
    "FinalaveragePD = [];\n",
    "averagePD = [];\n",
    "FinalaverageNormPD = [];\n",
    "\n",
    "for i in range(len(FinalPD[0])):\n",
    "    #print ([finalPD[0][i], finalPD[1][i], finalPD[2][i], finalPD[3][i], finalPD[4][i]])\n",
    "    #print(np.mean([finalPD[0][i], finalPD[1][i], finalPD[2][i], finalPD[3][i], finalPD[4][i]]))\n",
    "    averagePD = np.sum([FinalPD[0][i],FinalPD[1][i],FinalPD[2][i],FinalPD[3][i],FinalPD[4][i],FinalPD[5][i],FinalPD[6][i],\n",
    "                       FinalPD[7][i],FinalPD[8][i],FinalPD[9][i],FinalPD[10][i],FinalPD[11][i],FinalPD[12][i],FinalPD[13][i],\n",
    "                       FinalPD[14][i],FinalPD[15][i],FinalPD[16][i],FinalPD[17][i],FinalPD[18][i],FinalPD[19][i],FinalPD[20][i],\n",
    "                       FinalPD[21][i],FinalPD[22][i],FinalPD[23][i],FinalPD[24][i]])/len(FinalPD)\n",
    "    FinalaveragePD.append(averagePD)\n",
    "    \n",
    "    averageNormPD = np.sum([NormFinalPD[0][i],NormFinalPD[1][i],NormFinalPD[2][i],NormFinalPD[3][i],NormFinalPD[4][i],NormFinalPD[5][i],NormFinalPD[6][i],\n",
    "                       NormFinalPD[7][i],NormFinalPD[8][i],NormFinalPD[9][i],NormFinalPD[10][i],NormFinalPD[11][i],NormFinalPD[12][i],NormFinalPD[13][i],\n",
    "                       NormFinalPD[14][i],NormFinalPD[15][i],NormFinalPD[16][i],NormFinalPD[17][i],NormFinalPD[18][i],NormFinalPD[19][i],NormFinalPD[20][i],\n",
    "                       NormFinalPD[21][i],NormFinalPD[22][i],NormFinalPD[23][i],NormFinalPD[24][i]])/len(FinalPD)\n",
    "    FinalaverageNormPD.append(averageNormPD)\n",
    "#error = np.std(FinalaveragePD)/np.mean(FinalaveragePD)\n",
    "#print(error)\n",
    "plt.plot(times1,FinalaverageNormPD,'r')\n",
    "#pylab.xlim([0.24,0.26])\n",
    "plt.xlabel('Data Point')\n",
    "plt.ylabel('PD Signal (arb)')\n",
    "plt.title('Mean subtracted from each data point')\n",
    "plt.grid()\n",
    "plt.show()\n",
    "#Time for these scans was about 4 minutes at speed 1, which is faster than speed 03. "
   ]
  },
  {
   "cell_type": "code",
   "execution_count": null,
   "metadata": {
    "collapsed": true
   },
   "outputs": [],
   "source": []
  }
 ],
 "metadata": {
  "kernelspec": {
   "display_name": "Python 3",
   "language": "python",
   "name": "python3"
  },
  "language_info": {
   "codemirror_mode": {
    "name": "ipython",
    "version": 3
   },
   "file_extension": ".py",
   "mimetype": "text/x-python",
   "name": "python",
   "nbconvert_exporter": "python",
   "pygments_lexer": "ipython3",
   "version": "3.5.1"
  }
 },
 "nbformat": 4,
 "nbformat_minor": 0
}
