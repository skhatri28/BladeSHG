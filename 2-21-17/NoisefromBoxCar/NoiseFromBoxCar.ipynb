{
 "cells": [
  {
   "cell_type": "code",
   "execution_count": 1,
   "metadata": {
    "collapsed": true
   },
   "outputs": [],
   "source": [
    "import matplotlib.pyplot as plt\n",
    "import numpy as np\n",
    "import scipy as sy\n",
    "from scipy import stats\n",
    "import pylab\n",
    "import re"
   ]
  },
  {
   "cell_type": "code",
   "execution_count": 6,
   "metadata": {
    "collapsed": false
   },
   "outputs": [],
   "source": [
    "with open ('BoxCarNoise1_Speed01_0150_0250.txt','r') as f:\n",
    "    times1=[];\n",
    "    PDvalue1 = [];\n",
    "    for line in f:\n",
    "        line = line.strip()\n",
    "        if line:\n",
    "            data = line.split()\n",
    "            times1.append(float(data[0])) #So here I am converting the data point number 0-1200 to stage position 0.2in to 0.297 in\n",
    "            PDvalue1.append(float(data[1]))\n",
    "Pvalue1 = np.mean(PDvalue1)-PDvalue1;\n",
    "plt.plot(times1,PDvalue1,'r')\n",
    "plt.xlabel('Data Point')\n",
    "plt.ylabel('PD Signal (arb)')\n",
    "plt.show()"
   ]
  },
  {
   "cell_type": "code",
   "execution_count": 9,
   "metadata": {
    "collapsed": true
   },
   "outputs": [],
   "source": [
    "with open ('BoxCarNoise2Speed01_0150_0263.txt','r') as f:\n",
    "    times2=[];\n",
    "    PDvalue2 = [];\n",
    "    for line in f:\n",
    "        line = line.strip()\n",
    "        if line:\n",
    "            data = line.split()\n",
    "            times2.append(float(data[0])) #So here I am converting the data point number 0-1200 to stage position 0.2in to 0.297 in\n",
    "            PDvalue2.append(float(data[1]))\n",
    "Pvalue2 = np.mean(PDvalue2)-PDvalue2;\n",
    "plt.plot(times2,PDvalue2,'r')\n",
    "plt.xlabel('Data Point')\n",
    "plt.ylabel('PD Signal (arb)')\n",
    "#plt.show()"
   ]
  },
  {
   "cell_type": "code",
   "execution_count": 11,
   "metadata": {
    "collapsed": false
   },
   "outputs": [
    {
     "data": {
      "text/plain": [
       "<matplotlib.text.Text at 0x10b597c50>"
      ]
     },
     "execution_count": 11,
     "metadata": {},
     "output_type": "execute_result"
    }
   ],
   "source": [
    "with open ('BoxCarNoise3Speed01_0150_0253.txt','r') as f:\n",
    "    times3=[];\n",
    "    PDvalue3 = [];\n",
    "    for line in f:\n",
    "        line = line.strip()\n",
    "        if line:\n",
    "            data = line.split()\n",
    "            times3.append(float(data[0])) #So here I am converting the data point number 0-1200 to stage position 0.2in to 0.297 in\n",
    "            PDvalue3.append(float(data[1]))\n",
    "Pvalue3 = np.mean(PDvalue3)-PDvalue3;\n",
    "plt.plot(times3,PDvalue3,'r')\n",
    "plt.xlabel('Data Point')\n",
    "plt.ylabel('PD Signal (arb)')\n",
    "#plt.show()"
   ]
  },
  {
   "cell_type": "code",
   "execution_count": 12,
   "metadata": {
    "collapsed": false
   },
   "outputs": [
    {
     "data": {
      "text/plain": [
       "<matplotlib.text.Text at 0x10b597c50>"
      ]
     },
     "execution_count": 12,
     "metadata": {},
     "output_type": "execute_result"
    }
   ],
   "source": [
    "with open ('BoxCarNoise4Speed01_0150_0253.txt','r') as f:\n",
    "    times4=[];\n",
    "    PDvalue4 = [];\n",
    "    for line in f:\n",
    "        line = line.strip()\n",
    "        if line:\n",
    "            data = line.split()\n",
    "            times4.append(float(data[0])) #So here I am converting the data point number 0-1200 to stage position 0.2in to 0.297 in\n",
    "            PDvalue4.append(float(data[1]))\n",
    "Pvalue4 = np.mean(PDvalue4)-PDvalue4;\n",
    "plt.plot(times4,PDvalue4,'r')\n",
    "plt.xlabel('Data Point')\n",
    "plt.ylabel('PD Signal (arb)')\n",
    "#plt.show()"
   ]
  },
  {
   "cell_type": "code",
   "execution_count": 13,
   "metadata": {
    "collapsed": false
   },
   "outputs": [
    {
     "data": {
      "text/plain": [
       "<matplotlib.text.Text at 0x10b597c50>"
      ]
     },
     "execution_count": 13,
     "metadata": {},
     "output_type": "execute_result"
    }
   ],
   "source": [
    "with open ('BoxCarNoise5Speed01_0150_0253.txt','r') as f:\n",
    "    times5=[];\n",
    "    PDvalue5 = [];\n",
    "    for line in f:\n",
    "        line = line.strip()\n",
    "        if line:\n",
    "            data = line.split()\n",
    "            times5.append(float(data[0])) #So here I am converting the data point number 0-1200 to stage position 0.2in to 0.297 in\n",
    "            PDvalue5.append(float(data[1]))\n",
    "Pvalue5 = np.mean(PDvalue5)-PDvalue5;\n",
    "plt.plot(times5,PDvalue5,'r')\n",
    "plt.xlabel('Data Point')\n",
    "plt.ylabel('PD Signal (arb)')\n",
    "#plt.show()"
   ]
  },
  {
   "cell_type": "code",
   "execution_count": 14,
   "metadata": {
    "collapsed": false
   },
   "outputs": [
    {
     "data": {
      "text/plain": [
       "<matplotlib.text.Text at 0x10b597c50>"
      ]
     },
     "execution_count": 14,
     "metadata": {},
     "output_type": "execute_result"
    }
   ],
   "source": [
    "with open ('BoxCarNoise6Speed01_0150_0253.txt','r') as f:\n",
    "    times6=[];\n",
    "    PDvalue6 = [];\n",
    "    for line in f:\n",
    "        line = line.strip()\n",
    "        if line:\n",
    "            data = line.split()\n",
    "            times6.append(float(data[0])) #So here I am converting the data point number 0-1200 to stage position 0.2in to 0.297 in\n",
    "            PDvalue6.append(float(data[1]))\n",
    "Pvalue6 = np.mean(PDvalue6)-PDvalue6;\n",
    "plt.plot(times6,PDvalue6,'r')\n",
    "plt.xlabel('Data Point')\n",
    "plt.ylabel('PD Signal (arb)')\n",
    "#plt.show()"
   ]
  },
  {
   "cell_type": "code",
   "execution_count": 15,
   "metadata": {
    "collapsed": false
   },
   "outputs": [
    {
     "data": {
      "text/plain": [
       "<matplotlib.text.Text at 0x10b597c50>"
      ]
     },
     "execution_count": 15,
     "metadata": {},
     "output_type": "execute_result"
    }
   ],
   "source": [
    "with open ('BoxCarNoise7Speed01_0150_0253.txt','r') as f:\n",
    "    times7=[];\n",
    "    PDvalue7 = [];\n",
    "    for line in f:\n",
    "        line = line.strip()\n",
    "        if line:\n",
    "            data = line.split()\n",
    "            times7.append(float(data[0])) #So here I am converting the data point number 0-1200 to stage position 0.2in to 0.297 in\n",
    "            PDvalue7.append(float(data[1]))\n",
    "Pvalue7 = np.mean(PDvalue7)-PDvalue7;\n",
    "plt.plot(times7,PDvalue7,'r')\n",
    "plt.xlabel('Data Point')\n",
    "plt.ylabel('PD Signal (arb)')\n",
    "#plt.show()"
   ]
  },
  {
   "cell_type": "code",
   "execution_count": 16,
   "metadata": {
    "collapsed": false
   },
   "outputs": [
    {
     "data": {
      "text/plain": [
       "<matplotlib.text.Text at 0x10b597c50>"
      ]
     },
     "execution_count": 16,
     "metadata": {},
     "output_type": "execute_result"
    }
   ],
   "source": [
    "with open ('BoxCarNoise8Speed01_0150_0253.txt','r') as f:\n",
    "    times8=[];\n",
    "    PDvalue8 = [];\n",
    "    for line in f:\n",
    "        line = line.strip()\n",
    "        if line:\n",
    "            data = line.split()\n",
    "            times8.append(float(data[0])) #So here I am converting the data point number 0-1200 to stage position 0.2in to 0.297 in\n",
    "            PDvalue8.append(float(data[1]))\n",
    "Pvalue8 = np.mean(PDvalue8)-PDvalue8;\n",
    "plt.plot(times8,PDvalue8,'r')\n",
    "plt.xlabel('Data Point')\n",
    "plt.ylabel('PD Signal (arb)')\n",
    "#plt.show()"
   ]
  },
  {
   "cell_type": "code",
   "execution_count": 17,
   "metadata": {
    "collapsed": false
   },
   "outputs": [
    {
     "data": {
      "text/plain": [
       "<matplotlib.text.Text at 0x10b597c50>"
      ]
     },
     "execution_count": 17,
     "metadata": {},
     "output_type": "execute_result"
    }
   ],
   "source": [
    "with open ('BoxCarNoise9Speed01_0150_0253.txt','r') as f:\n",
    "    times9=[];\n",
    "    PDvalue9 = [];\n",
    "    for line in f:\n",
    "        line = line.strip()\n",
    "        if line:\n",
    "            data = line.split()\n",
    "            times9.append(float(data[0])) #So here I am converting the data point number 0-1200 to stage position 0.2in to 0.297 in\n",
    "            PDvalue9.append(float(data[1]))\n",
    "Pvalue9 = np.mean(PDvalue9)-PDvalue9;\n",
    "plt.plot(times9,PDvalue9,'r')\n",
    "plt.xlabel('Data Point')\n",
    "plt.ylabel('PD Signal (arb)')\n",
    "#plt.show()"
   ]
  },
  {
   "cell_type": "code",
   "execution_count": 18,
   "metadata": {
    "collapsed": false
   },
   "outputs": [
    {
     "data": {
      "text/plain": [
       "<matplotlib.text.Text at 0x10b597c50>"
      ]
     },
     "execution_count": 18,
     "metadata": {},
     "output_type": "execute_result"
    }
   ],
   "source": [
    "with open ('BoxCarNoise10Speed01_0150_0253.txt','r') as f:\n",
    "    times10=[];\n",
    "    PDvalue10 = [];\n",
    "    for line in f:\n",
    "        line = line.strip()\n",
    "        if line:\n",
    "            data = line.split()\n",
    "            times10.append(float(data[0])) #So here I am converting the data point number 0-1200 to stage position 0.2in to 0.297 in\n",
    "            PDvalue10.append(float(data[1]))\n",
    "Pvalue10 = np.mean(PDvalue10)-PDvalue10;\n",
    "plt.plot(times10,PDvalue10,'r')\n",
    "plt.xlabel('Data Point')\n",
    "plt.ylabel('PD Signal (arb)')\n",
    "#plt.show()"
   ]
  },
  {
   "cell_type": "code",
   "execution_count": 19,
   "metadata": {
    "collapsed": false
   },
   "outputs": [
    {
     "data": {
      "text/plain": [
       "<matplotlib.text.Text at 0x10b597c50>"
      ]
     },
     "execution_count": 19,
     "metadata": {},
     "output_type": "execute_result"
    }
   ],
   "source": [
    "with open ('BoxCarNoise11Speed01_0150_0253.txt','r') as f:\n",
    "    times11=[];\n",
    "    PDvalue11 = [];\n",
    "    for line in f:\n",
    "        line = line.strip()\n",
    "        if line:\n",
    "            data = line.split()\n",
    "            times11.append(float(data[0])) #So here I am converting the data point number 0-1200 to stage position 0.2in to 0.297 in\n",
    "            PDvalue11.append(float(data[1]))\n",
    "Pvalue11 = np.mean(PDvalue11)-PDvalue11;\n",
    "plt.plot(times11,PDvalue11,'r')\n",
    "plt.xlabel('Data Point')\n",
    "plt.ylabel('PD Signal (arb)')\n",
    "#plt.show()"
   ]
  },
  {
   "cell_type": "code",
   "execution_count": 20,
   "metadata": {
    "collapsed": false
   },
   "outputs": [
    {
     "data": {
      "text/plain": [
       "<matplotlib.text.Text at 0x10b597c50>"
      ]
     },
     "execution_count": 20,
     "metadata": {},
     "output_type": "execute_result"
    }
   ],
   "source": [
    "with open ('BoxCarNoise12Speed01_0150_0253.txt','r') as f:\n",
    "    times12=[];\n",
    "    PDvalue12 = [];\n",
    "    for line in f:\n",
    "        line = line.strip()\n",
    "        if line:\n",
    "            data = line.split()\n",
    "            times12.append(float(data[0])) #So here I am converting the data point number 0-1200 to stage position 0.2in to 0.297 in\n",
    "            PDvalue12.append(float(data[1]))\n",
    "Pvalue12 = np.mean(PDvalue12)-PDvalue12;\n",
    "plt.plot(times12,PDvalue12,'r')\n",
    "plt.xlabel('Data Point')\n",
    "plt.ylabel('PD Signal (arb)')\n",
    "#plt.show()"
   ]
  },
  {
   "cell_type": "code",
   "execution_count": 21,
   "metadata": {
    "collapsed": false
   },
   "outputs": [
    {
     "data": {
      "text/plain": [
       "<matplotlib.text.Text at 0x10b597c50>"
      ]
     },
     "execution_count": 21,
     "metadata": {},
     "output_type": "execute_result"
    }
   ],
   "source": [
    "with open ('BoxCarNoise13Speed01_0150_0253.txt','r') as f:\n",
    "    times13=[];\n",
    "    PDvalue13 = [];\n",
    "    for line in f:\n",
    "        line = line.strip()\n",
    "        if line:\n",
    "            data = line.split()\n",
    "            times13.append(float(data[0])) #So here I am converting the data point number 0-1200 to stage position 0.2in to 0.297 in\n",
    "            PDvalue13.append(float(data[1]))\n",
    "Pvalue13 = np.mean(PDvalue13)-PDvalue13;\n",
    "plt.plot(times13,PDvalue13,'r')\n",
    "plt.xlabel('Data Point')\n",
    "plt.ylabel('PD Signal (arb)')\n",
    "#plt.show()"
   ]
  },
  {
   "cell_type": "code",
   "execution_count": 22,
   "metadata": {
    "collapsed": false
   },
   "outputs": [
    {
     "data": {
      "text/plain": [
       "<matplotlib.text.Text at 0x10b597c50>"
      ]
     },
     "execution_count": 22,
     "metadata": {},
     "output_type": "execute_result"
    }
   ],
   "source": [
    "with open ('BoxCarNoise14Speed01_0150_0253.txt','r') as f:\n",
    "    times14=[];\n",
    "    PDvalue14 = [];\n",
    "    for line in f:\n",
    "        line = line.strip()\n",
    "        if line:\n",
    "            data = line.split()\n",
    "            times14.append(float(data[0])) #So here I am converting the data point number 0-1200 to stage position 0.2in to 0.297 in\n",
    "            PDvalue14.append(float(data[1]))\n",
    "Pvalue14 = np.mean(PDvalue14)-PDvalue14;\n",
    "plt.plot(times14,PDvalue14,'r')\n",
    "plt.xlabel('Data Point')\n",
    "plt.ylabel('PD Signal (arb)')\n",
    "#plt.show()"
   ]
  },
  {
   "cell_type": "code",
   "execution_count": 23,
   "metadata": {
    "collapsed": false
   },
   "outputs": [
    {
     "data": {
      "text/plain": [
       "<matplotlib.text.Text at 0x10b597c50>"
      ]
     },
     "execution_count": 23,
     "metadata": {},
     "output_type": "execute_result"
    }
   ],
   "source": [
    "with open ('BoxCarNoise15Speed01_0150_0253.txt','r') as f:\n",
    "    times15=[];\n",
    "    PDvalue15 = [];\n",
    "    for line in f:\n",
    "        line = line.strip()\n",
    "        if line:\n",
    "            data = line.split()\n",
    "            times15.append(float(data[0])) #So here I am converting the data point number 0-1200 to stage position 0.2in to 0.297 in\n",
    "            PDvalue15.append(float(data[1]))\n",
    "Pvalue15 = np.mean(PDvalue15)-PDvalue15;\n",
    "plt.plot(times15,PDvalue15,'r')\n",
    "plt.xlabel('Data Point')\n",
    "plt.ylabel('PD Signal (arb)')\n",
    "#plt.show()"
   ]
  },
  {
   "cell_type": "code",
   "execution_count": 24,
   "metadata": {
    "collapsed": false
   },
   "outputs": [
    {
     "data": {
      "text/plain": [
       "<matplotlib.text.Text at 0x10b597c50>"
      ]
     },
     "execution_count": 24,
     "metadata": {},
     "output_type": "execute_result"
    }
   ],
   "source": [
    "with open ('BoxCarNoise16Speed01_0150_0253.txt','r') as f:\n",
    "    times16=[];\n",
    "    PDvalue16 = [];\n",
    "    for line in f:\n",
    "        line = line.strip()\n",
    "        if line:\n",
    "            data = line.split()\n",
    "            times16.append(float(data[0])) #So here I am converting the data point number 0-1200 to stage position 0.2in to 0.297 in\n",
    "            PDvalue16.append(float(data[1]))\n",
    "Pvalue16 = np.mean(PDvalue16)-PDvalue16;\n",
    "plt.plot(times16,PDvalue16,'r')\n",
    "plt.xlabel('Data Point')\n",
    "plt.ylabel('PD Signal (arb)')\n",
    "#plt.show()"
   ]
  },
  {
   "cell_type": "code",
   "execution_count": 25,
   "metadata": {
    "collapsed": false
   },
   "outputs": [
    {
     "data": {
      "text/plain": [
       "<matplotlib.text.Text at 0x10b597c50>"
      ]
     },
     "execution_count": 25,
     "metadata": {},
     "output_type": "execute_result"
    }
   ],
   "source": [
    "with open ('BoxCarNoise17Speed01_0150_0253.txt','r') as f:\n",
    "    times17=[];\n",
    "    PDvalue17 = [];\n",
    "    for line in f:\n",
    "        line = line.strip()\n",
    "        if line:\n",
    "            data = line.split()\n",
    "            times17.append(float(data[0])) #So here I am converting the data point number 0-1200 to stage position 0.2in to 0.297 in\n",
    "            PDvalue17.append(float(data[1]))\n",
    "Pvalue17 = np.mean(PDvalue17)-PDvalue17;\n",
    "plt.plot(times17,PDvalue17,'r')\n",
    "plt.xlabel('Data Point')\n",
    "plt.ylabel('PD Signal (arb)')\n",
    "#plt.show()"
   ]
  },
  {
   "cell_type": "code",
   "execution_count": 26,
   "metadata": {
    "collapsed": false
   },
   "outputs": [
    {
     "data": {
      "text/plain": [
       "<matplotlib.text.Text at 0x10b597c50>"
      ]
     },
     "execution_count": 26,
     "metadata": {},
     "output_type": "execute_result"
    }
   ],
   "source": [
    "with open ('BoxCarNoise18Speed01_0150_0253.txt','r') as f:\n",
    "    times18=[];\n",
    "    PDvalue18 = [];\n",
    "    for line in f:\n",
    "        line = line.strip()\n",
    "        if line:\n",
    "            data = line.split()\n",
    "            times18.append(float(data[0])) #So here I am converting the data point number 0-1200 to stage position 0.2in to 0.297 in\n",
    "            PDvalue18.append(float(data[1]))\n",
    "Pvalue18 = np.mean(PDvalue18)-PDvalue18;\n",
    "plt.plot(times18,PDvalue18,'r')\n",
    "plt.xlabel('Data Point')\n",
    "plt.ylabel('PD Signal (arb)')\n",
    "#plt.show()"
   ]
  },
  {
   "cell_type": "code",
   "execution_count": 27,
   "metadata": {
    "collapsed": false
   },
   "outputs": [
    {
     "data": {
      "text/plain": [
       "<matplotlib.text.Text at 0x10b597c50>"
      ]
     },
     "execution_count": 27,
     "metadata": {},
     "output_type": "execute_result"
    }
   ],
   "source": [
    "with open ('BoxCarNoise19Speed01_0150_0253.txt','r') as f:\n",
    "    times19=[];\n",
    "    PDvalue19 = [];\n",
    "    for line in f:\n",
    "        line = line.strip()\n",
    "        if line:\n",
    "            data = line.split()\n",
    "            times19.append(float(data[0])) #So here I am converting the data point number 0-1200 to stage position 0.2in to 0.297 in\n",
    "            PDvalue19.append(float(data[1]))\n",
    "Pvalue19 = np.mean(PDvalue19)-PDvalue19;\n",
    "plt.plot(times19,PDvalue19,'r')\n",
    "plt.xlabel('Data Point')\n",
    "plt.ylabel('PD Signal (arb)')\n",
    "#plt.show()"
   ]
  },
  {
   "cell_type": "code",
   "execution_count": 28,
   "metadata": {
    "collapsed": false
   },
   "outputs": [
    {
     "data": {
      "text/plain": [
       "<matplotlib.text.Text at 0x10b597c50>"
      ]
     },
     "execution_count": 28,
     "metadata": {},
     "output_type": "execute_result"
    }
   ],
   "source": [
    "with open ('BoxCarNoise20Speed01_0150_0253.txt','r') as f:\n",
    "    times20=[];\n",
    "    PDvalue20 = [];\n",
    "    for line in f:\n",
    "        line = line.strip()\n",
    "        if line:\n",
    "            data = line.split()\n",
    "            times20.append(float(data[0])) #So here I am converting the data point number 0-1200 to stage position 0.2in to 0.297 in\n",
    "            PDvalue20.append(float(data[1]))\n",
    "Pvalue20 = np.mean(PDvalue20)-PDvalue20;\n",
    "plt.plot(times3,PDvalue3,'r')\n",
    "plt.xlabel('Data Point')\n",
    "plt.ylabel('PD Signal (arb)')\n",
    "#plt.show()"
   ]
  },
  {
   "cell_type": "code",
   "execution_count": 30,
   "metadata": {
    "collapsed": false
   },
   "outputs": [],
   "source": [
    "FinalPD = [PDvalue1,PDvalue2,PDvalue3,PDvalue4,PDvalue5,PDvalue6,PDvalue7,PDvalue8,PDvalue9,PDvalue10,\n",
    "           PDvalue11,PDvalue12,PDvalue13,PDvalue14,PDvalue15,PDvalue16,PDvalue17,PDvalue18,PDvalue19,PDvalue20]\n",
    "NormFinalPD = [Pvalue1,Pvalue2,Pvalue3,Pvalue4,Pvalue5,Pvalue6,Pvalue7,Pvalue8,Pvalue9,Pvalue10,\n",
    "           Pvalue11,Pvalue12,Pvalue13,Pvalue14,Pvalue15,Pvalue16,Pvalue17,Pvalue18,Pvalue19,Pvalue20]"
   ]
  },
  {
   "cell_type": "code",
   "execution_count": null,
   "metadata": {
    "collapsed": false
   },
   "outputs": [],
   "source": [
    "FinalaveragePD = [];\n",
    "averagePD = [];\n",
    "FinalaverageNormPD = [];\n",
    "\n",
    "for i in range(len(FinalPD[0])):\n",
    "    #print ([finalPD[0][i], finalPD[1][i], finalPD[2][i], finalPD[3][i], finalPD[4][i]])\n",
    "    #print(np.mean([finalPD[0][i], finalPD[1][i], finalPD[2][i], finalPD[3][i], finalPD[4][i]]))\n",
    "    averagePD = np.sum([FinalPD[0][i],FinalPD[1][i],FinalPD[2][i],FinalPD[3][i],FinalPD[4][i],FinalPD[5][i],FinalPD[6][i],\n",
    "                       FinalPD[7][i],FinalPD[8][i],FinalPD[9][i],FinalPD[10][i],FinalPD[11][i],FinalPD[12][i],FinalPD[13][i],\n",
    "                       FinalPD[14][i],FinalPD[15][i],FinalPD[16][i],FinalPD[17][i],FinalPD[18][i],FinalPD[19][i]])/len(FinalPD)\n",
    "    FinalaveragePD.append(averagePD)\n",
    "    \n",
    "    averageNormPD = np.sum([NormFinalPD[0][i],NormFinalPD[1][i],NormFinalPD[2][i],NormFinalPD[3][i],NormFinalPD[4][i],NormFinalPD[5][i],NormFinalPD[6][i],\n",
    "                       NormFinalPD[7][i],NormFinalPD[8][i],NormFinalPD[9][i],NormFinalPD[10][i],NormFinalPD[11][i],NormFinalPD[12][i],NormFinalPD[13][i],\n",
    "                       NormFinalPD[14][i],NormFinalPD[15][i],NormFinalPD[16][i],NormFinalPD[17][i],NormFinalPD[18][i],NormFinalPD[19][i]])/len(FinalPD)\n",
    "    FinalaverageNormPD.append(averageNormPD)\n",
    "#error = np.std(FinalaveragePD)/np.mean(FinalaveragePD)\n",
    "#print(error)\n",
    "plt.plot(times1,FinalaverageNormPD,'b')\n",
    "#pylab.xlim([0.24,0.26])\n",
    "plt.xlabel('Data Point')\n",
    "plt.ylabel('PD Signal (arb)')\n",
    "plt.title('Mean subtracted from each data point')\n",
    "plt.grid()\n",
    "plt.show()"
   ]
  },
  {
   "cell_type": "code",
   "execution_count": null,
   "metadata": {
    "collapsed": true
   },
   "outputs": [],
   "source": []
  }
 ],
 "metadata": {
  "kernelspec": {
   "display_name": "Python 3",
   "language": "python",
   "name": "python3"
  },
  "language_info": {
   "codemirror_mode": {
    "name": "ipython",
    "version": 3
   },
   "file_extension": ".py",
   "mimetype": "text/x-python",
   "name": "python",
   "nbconvert_exporter": "python",
   "pygments_lexer": "ipython3",
   "version": "3.5.1"
  }
 },
 "nbformat": 4,
 "nbformat_minor": 0
}
