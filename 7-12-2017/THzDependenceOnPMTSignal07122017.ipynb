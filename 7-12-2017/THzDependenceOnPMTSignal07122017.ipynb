{
 "cells": [
  {
   "cell_type": "code",
   "execution_count": 77,
   "metadata": {
    "collapsed": true
   },
   "outputs": [],
   "source": [
    "import matplotlib.pyplot as plt\n",
    "import numpy as np\n",
    "import pandas as pd\n",
    "from pandas import Series, DataFrame\n",
    "import glob\n",
    "import os\n",
    "from math import log"
   ]
  },
  {
   "cell_type": "code",
   "execution_count": 78,
   "metadata": {
    "collapsed": false
   },
   "outputs": [
    {
     "name": "stdout",
     "output_type": "stream",
     "text": [
      "['PMT_Background_275Deg_071217.txt', 'PMT_Signal_275Deg_071217.txt', 'PMT_Signal_280Deg_071217.txt', 'PMT_Background_280Deg_071217.txt', 'PMT_Background_270Deg_071217.txt', 'PMT_Signal_270Deg_071217.txt', 'PMT_Signal_265Deg_071217.txt', 'PMT_Background_265Deg_071217.txt', 'PMT_Background_260Deg_071217.txt', 'PMT_Signal_260Deg_071217.txt', 'PMT_Signal_255Deg_071217.txt', 'PMT_Background_255Deg_071217.txt', 'PMT_Background_250Deg_071217.txt', 'PMT_Signal_250Deg_071217.txt', 'PMT_Signal_245Deg_071217.txt', 'PMT_Background_245Deg_071217.txt']\n"
     ]
    }
   ],
   "source": [
    "allFiles = sorted(glob.glob(\"*.txt\"),key=os.path.getmtime) # includes all files into a single stucture,\n",
    "# Sorted by modification time so that the first measurement is first...\n",
    "print(allFiles)"
   ]
  },
  {
   "cell_type": "code",
   "execution_count": 79,
   "metadata": {
    "collapsed": true
   },
   "outputs": [],
   "source": [
    "frame = pd.DataFrame()\n",
    "df = pd.DataFrame()"
   ]
  },
  {
   "cell_type": "code",
   "execution_count": 80,
   "metadata": {
    "collapsed": false
   },
   "outputs": [
    {
     "name": "stderr",
     "output_type": "stream",
     "text": [
      "/Users/sanjaykhatri/anaconda/lib/python3.5/site-packages/ipykernel/__main__.py:7: ParserWarning: Falling back to the 'python' engine because the 'c' engine does not support skip_footer; you can avoid this warning by specifying engine='python'.\n"
     ]
    }
   ],
   "source": [
    "for i,file_ in enumerate(allFiles):\n",
    "#    f = open(file_,'r')\n",
    "#     for j,line in enumerate(f):\n",
    "#         if j == 1:\n",
    "#             date = line[14:22]\n",
    "#             break\n",
    "    df = pd.read_csv(file_,index_col = None, header=None, skiprows = 10, skipfooter = 1, delimiter = '\\t')\n",
    "#     frame[file_] = df[5]\n",
    "    df['file']=file_\n",
    "    df['timeDelay']= df[1]\n",
    "    df['PDvalue'] = df[3]\n",
    "#     df['date']=date\n",
    "    if i < 1:\n",
    "        frame = df\n",
    "    else:\n",
    "        frame = frame.append(df)"
   ]
  },
  {
   "cell_type": "code",
   "execution_count": 87,
   "metadata": {
    "collapsed": false
   },
   "outputs": [
    {
     "name": "stdout",
     "output_type": "stream",
     "text": [
      "[-0.172841 -0.174479 -0.168453 -0.161327 -0.157979 -0.153124 -0.151708\n",
      " -0.153002]\n",
      "[-0.207742 -0.215507 -0.203582 -0.190215 -0.17666  -0.172229 -0.161715\n",
      " -0.159599]\n",
      "[-0.034901 -0.041028 -0.035129 -0.028888 -0.018681 -0.019105 -0.010007\n",
      " -0.006597]\n"
     ]
    }
   ],
   "source": [
    "times = pd.Series()\n",
    "PDvalues = pd.Series()\n",
    "AvgPD50 = pd.Series()\n",
    "itr = 0.000125\n",
    "offset = 0.023\n",
    "for i in range(0,100):\n",
    "    time = frame[1][i]\n",
    "    PDvalue = frame[3][i]\n",
    "    times = times.append(time)\n",
    "    PDvalues = PDvalues.append(PDvalue)\n",
    "#print(len(PDvalues))\n",
    "    \n",
    "times = times.values.reshape(100,len(allFiles))\n",
    "PDvalues = PDvalues.values.reshape(100,len(allFiles))\n",
    "Background = np.array([PDvalues[:,0],PDvalues[:,3],PDvalues[:,4],PDvalues[:,7],PDvalues[:,8],PDvalues[:,11],PDvalues[:,12],PDvalues[:,15]])\n",
    "Background_mean = np.mean(Background, axis = 1)\n",
    "PMT_Raw = np.array([PDvalues[:,1],PDvalues[:,2],PDvalues[:,5],PDvalues[:,6],PDvalues[:,9],PDvalues[:,10],PDvalues[:,13],PDvalues[:,14]])\n",
    "MeanPMT = np.mean(PMT_Raw,axis = 1)\n",
    "PMT_STD = np.std(PMT_Raw,axis = 1)\n",
    "PMT_Err = PMT_STD/(100**0.5)\n",
    "w = (PMT_Err/(MeanPMT*log(10)))**-2\n",
    "PMT_Signal = np.absolute(MeanPMT-Background_Mean)\n",
    "THzEnergy = np.array([480,450,390,310,235,160,105])\n",
    "LogPMT = np.log10(PMT_Signal)\n",
    "LogTHz = np.log10(THzEnergy)\n",
    "\n",
    "\n",
    "\n",
    "print(Background_Mean)\n",
    "print(MeanPMT)\n",
    "print(MeanPMT-Background_Mean)"
   ]
  },
  {
   "cell_type": "code",
   "execution_count": 88,
   "metadata": {
    "collapsed": false
   },
   "outputs": [
    {
     "name": "stdout",
     "output_type": "stream",
     "text": [
      "[ 1019653.40581481   854900.64858593  1177041.99879608   815068.74964978\n",
      "  1411437.5114817   1491091.61027318   900345.40342529   941968.72429127]\n",
      "-3.90188359923\n",
      "0.938940146015\n",
      "0.00315616366402\n",
      "0.00132789331822\n"
     ]
    }
   ],
   "source": [
    "Delta = sum(w)*sum(w*LogTHz**2) - (sum(w*LogTHz))**2\n",
    "A = (sum(w*LogTHz**2)*sum(w*LogPMT) - sum(w*LogTHz)*sum(w*LogTHz*LogPMT))/Delta\n",
    "B = (sum(w)*sum(w*LogTHz*LogPMT) - (sum(w*LogPMT)*sum(w*LogTHz)))/Delta\n",
    "# Least Squares Fitting Parameters above\n",
    "print(w)\n",
    "print(A)\n",
    "print(B)\n",
    "err = (((len(LogPMT)-2)**-1) * sum((LogPMT - A -B*LogTHz)**2)**0.5)\n",
    "errorA = (sum(w*LogTHz**2)/Delta)**0.5\n",
    "errorB = (sum(w)/Delta)**0.5\n",
    "print(errorA)\n",
    "print(errorB)"
   ]
  },
  {
   "cell_type": "code",
   "execution_count": 91,
   "metadata": {
    "collapsed": true
   },
   "outputs": [],
   "source": [
    "plt.plot(LogTHz, A + B*LogTHz,'r',label = 'Fit: y=0.94x -3.90')\n",
    "plt.plot(LogTHz, LogPMT,'b.', label = 'Data')\n",
    "plt.grid(True)\n",
    "plt.xlabel('Log(THz Energy)')\n",
    "plt.ylabel('Log(PMT Signal)')\n",
    "plt.legend(loc = 'upper left')\n",
    "plt.show()\n",
    "#plt.savefig('LogPMTVsLogTHz_071217.png')"
   ]
  },
  {
   "cell_type": "code",
   "execution_count": null,
   "metadata": {
    "collapsed": true
   },
   "outputs": [],
   "source": []
  }
 ],
 "metadata": {
  "kernelspec": {
   "display_name": "Python 3",
   "language": "python",
   "name": "python3"
  },
  "language_info": {
   "codemirror_mode": {
    "name": "ipython",
    "version": 3
   },
   "file_extension": ".py",
   "mimetype": "text/x-python",
   "name": "python",
   "nbconvert_exporter": "python",
   "pygments_lexer": "ipython3",
   "version": "3.5.1"
  }
 },
 "nbformat": 4,
 "nbformat_minor": 0
}
